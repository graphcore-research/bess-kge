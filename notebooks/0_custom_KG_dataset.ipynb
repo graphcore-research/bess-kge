{
    "cells": [
        {
            "attachments": {},
            "cell_type": "markdown",
            "metadata": {},
            "source": [
                "# Using BESS-KGE with your own data\n",
                "\n",
                "<em>Copyright (c) 2023 Graphcore Ltd. All rights reserved.</em>\n",
                "\n",
                "BESS-KGE (`besskge`) is a PyTorch library for knowledge graph embedding (KGE) models on IPUs implementing the distribution framework [BESS](https://arxiv.org/abs/2211.12281), with embedding tables stored in the IPU SRAM.\n",
                "\n",
                "In this notebook we will show how easy it is to pre-process a custom Knowledge Graph dataset to use it with BESS-KGE, thanks to the `besskge.dataset.KGDataset` class.\n",
                "\n",
                "As an example, we will download and build the [OpenBioLink](https://github.com/openbiolink/openbiolink) biomedical Knowledge Graph. "
            ]
        },
        {
            "attachments": {},
            "cell_type": "markdown",
            "metadata": {},
            "source": [
                "## Environment setup\n",
                "\n",
                "While this notebook doesn't contain any code that needs to be run on IPUs or other accelerating hardware, the best way to run it is on Paperspace Gradient's cloud IPUs because everything is already set up for you.\n",
                "\n",
                " [![Run on Gradient](https://assets.paperspace.io/img/gradient-badge.svg)](https://console.paperspace.com/github/graphcore-research/bess-kge?container=graphcore%2Fpytorch-paperspace%3A3.3.0-ubuntu-20.04-20230703&machine=Free-IPU-POD4&file=%2Fnotebooks%2F0_custom_KG_dataset.ipynb)"
            ]
        },
        {
            "attachments": {},
            "cell_type": "markdown",
            "metadata": {},
            "source": [
                "## Dependencies"
            ]
        },
        {
            "attachments": {},
            "cell_type": "markdown",
            "metadata": {},
            "source": [
                "We recommend that you install `besskge` directly from the GitHub sources:"
            ]
        },
        {
            "cell_type": "code",
            "execution_count": 1,
            "metadata": {},
            "outputs": [
                {
                    "name": "stdout",
                    "output_type": "stream",
                    "text": [
                        "Found existing installation: besskge 0.1\n",
                        "Uninstalling besskge-0.1:\n",
                        "  Successfully uninstalled besskge-0.1\n"
                    ]
                }
            ],
            "source": [
                "import sys\n",
                "!{sys.executable} -m pip uninstall -y besskge\n",
                "!pip install -q git+https://github.com/graphcore-research/bess-kge.git"
            ]
        },
        {
            "attachments": {},
            "cell_type": "markdown",
            "metadata": {},
            "source": [
                "Next, import the necessary dependencies. "
            ]
        },
        {
            "cell_type": "code",
            "execution_count": 6,
            "metadata": {},
            "outputs": [],
            "source": [
                "import os\n",
                "import zipfile\n",
                "from io import BytesIO\n",
                "\n",
                "import numpy as np\n",
                "import pandas as pd\n",
                "import requests\n",
                "\n",
                "from besskge.dataset import KGDataset\n",
                "\n",
                "dataset_directory = os.getenv(\"DATASET_DIR\", \"../datasets/\") + \"/OpenBioLinkHQ/\""
            ]
        },
        {
            "cell_type": "markdown",
            "metadata": {},
            "source": [
                "## The dataset\n",
                "\n",
                "We download the directed, high-quality version of [OpenBioLink2020](https://github.com/openbiolink/openbiolink#benchmark-dataset) directly from the link provided by the authors. This shouldn't take more than a minute.\n",
                "\n",
                "Notice that OpenBioLink2020 integrates data from other sources, whose licensing terms are detailed in [this table](https://openbiolink.readthedocs.io/en/latest/sources.html) and should be minded when utilizing or redistributing the dataset files."
            ]
        },
        {
            "cell_type": "code",
            "execution_count": 43,
            "metadata": {},
            "outputs": [],
            "source": [
                "URL = \"https://zenodo.org/record/3834052/files/HQ_DIR.zip\"\n",
                "\n",
                "res = requests.get(url=URL)\n",
                "with zipfile.ZipFile(BytesIO(res.content)) as zip_f:\n",
                "    zip_f.extractall(path=dataset_directory)"
            ]
        },
        {
            "cell_type": "markdown",
            "metadata": {},
            "source": [
                "The dataset comes with a custom train/validation/test split: the triples in each part are collected in dedicated pandas DataFrames."
            ]
        },
        {
            "cell_type": "code",
            "execution_count": 7,
            "metadata": {},
            "outputs": [
                {
                    "name": "stdout",
                    "output_type": "stream",
                    "text": [
                        "# training triples: 4,192,002\n",
                        "# validation triples: 188,394\n",
                        "# test triples: 183,009\n"
                    ]
                }
            ],
            "source": [
                "column_names = [\"h_label\", \"r_label\", \"t_label\", \"quality\", \"TP/TN\", \"source\"]\n",
                "\n",
                "train_triples = pd.read_csv(\n",
                "                    dataset_directory + \"HQ_DIR/train_test_data/train_sample.csv\",\n",
                "                    header=None,\n",
                "                    names=column_names,\n",
                "                    sep=\"\\t\",\n",
                "                )\n",
                "valid_triples = pd.read_csv(\n",
                "                    dataset_directory + \"HQ_DIR/train_test_data/val_sample.csv\",\n",
                "                    header=None,\n",
                "                    names=column_names,\n",
                "                    sep=\"\\t\",\n",
                "                )\n",
                "test_triples = pd.read_csv(\n",
                "                    dataset_directory + \"HQ_DIR/train_test_data/test_sample.csv\",\n",
                "                    header=None,\n",
                "                    names=column_names,\n",
                "                    sep=\"\\t\",\n",
                "                )\n",
                "\n",
                "print(f\"# training triples: {train_triples.shape[0]:,}\")\n",
                "print(f\"# validation triples: {valid_triples.shape[0]:,}\")\n",
                "print(f\"# test triples: {test_triples.shape[0]:,}\")"
            ]
        },
        {
            "cell_type": "code",
            "execution_count": 8,
            "metadata": {},
            "outputs": [
                {
                    "data": {
                        "text/html": [
                            "<div>\n",
                            "<style scoped>\n",
                            "    .dataframe tbody tr th:only-of-type {\n",
                            "        vertical-align: middle;\n",
                            "    }\n",
                            "\n",
                            "    .dataframe tbody tr th {\n",
                            "        vertical-align: top;\n",
                            "    }\n",
                            "\n",
                            "    .dataframe thead th {\n",
                            "        text-align: right;\n",
                            "    }\n",
                            "</style>\n",
                            "<table border=\"1\" class=\"dataframe\">\n",
                            "  <thead>\n",
                            "    <tr style=\"text-align: right;\">\n",
                            "      <th></th>\n",
                            "      <th>h_label</th>\n",
                            "      <th>r_label</th>\n",
                            "      <th>t_label</th>\n",
                            "      <th>quality</th>\n",
                            "      <th>TP/TN</th>\n",
                            "      <th>source</th>\n",
                            "    </tr>\n",
                            "  </thead>\n",
                            "  <tbody>\n",
                            "    <tr>\n",
                            "      <th>0</th>\n",
                            "      <td>NCBIGENE:11200</td>\n",
                            "      <td>GENE_PHENOTYPE</td>\n",
                            "      <td>HP:0009919</td>\n",
                            "      <td>NaN</td>\n",
                            "      <td>1</td>\n",
                            "      <td>HPO</td>\n",
                            "    </tr>\n",
                            "    <tr>\n",
                            "      <th>1</th>\n",
                            "      <td>NCBIGENE:2649</td>\n",
                            "      <td>GENE_EXPRESSED_ANATOMY</td>\n",
                            "      <td>UBERON:0000059</td>\n",
                            "      <td>gold quality</td>\n",
                            "      <td>1</td>\n",
                            "      <td>Bgee</td>\n",
                            "    </tr>\n",
                            "    <tr>\n",
                            "      <th>2</th>\n",
                            "      <td>NCBIGENE:534</td>\n",
                            "      <td>GENE_EXPRESSED_ANATOMY</td>\n",
                            "      <td>UBERON:0000467</td>\n",
                            "      <td>gold quality</td>\n",
                            "      <td>1</td>\n",
                            "      <td>Bgee</td>\n",
                            "    </tr>\n",
                            "    <tr>\n",
                            "      <th>3</th>\n",
                            "      <td>NCBIGENE:2036</td>\n",
                            "      <td>GENE_BINDING_GENE</td>\n",
                            "      <td>NCBIGENE:5295</td>\n",
                            "      <td>900</td>\n",
                            "      <td>1</td>\n",
                            "      <td>STRING</td>\n",
                            "    </tr>\n",
                            "    <tr>\n",
                            "      <th>4</th>\n",
                            "      <td>NCBIGENE:51195</td>\n",
                            "      <td>GENE_UNDEREXPRESSED_ANATOMY</td>\n",
                            "      <td>CL:0000738</td>\n",
                            "      <td>high quality</td>\n",
                            "      <td>1</td>\n",
                            "      <td>Bgee</td>\n",
                            "    </tr>\n",
                            "  </tbody>\n",
                            "</table>\n",
                            "</div>"
                        ],
                        "text/plain": [
                            "          h_label                      r_label         t_label       quality  \\\n",
                            "0  NCBIGENE:11200               GENE_PHENOTYPE      HP:0009919           NaN   \n",
                            "1   NCBIGENE:2649       GENE_EXPRESSED_ANATOMY  UBERON:0000059  gold quality   \n",
                            "2    NCBIGENE:534       GENE_EXPRESSED_ANATOMY  UBERON:0000467  gold quality   \n",
                            "3   NCBIGENE:2036            GENE_BINDING_GENE   NCBIGENE:5295           900   \n",
                            "4  NCBIGENE:51195  GENE_UNDEREXPRESSED_ANATOMY      CL:0000738  high quality   \n",
                            "\n",
                            "   TP/TN  source  \n",
                            "0      1     HPO  \n",
                            "1      1    Bgee  \n",
                            "2      1    Bgee  \n",
                            "3      1  STRING  \n",
                            "4      1    Bgee  "
                        ]
                    },
                    "execution_count": 8,
                    "metadata": {},
                    "output_type": "execute_result"
                }
            ],
            "source": [
                "train_triples.head()"
            ]
        },
        {
            "cell_type": "markdown",
            "metadata": {},
            "source": [
                "The relevant columns in the dataframe are `h_label`, `r_label` and `t_label`, which contain the labels for the **head entity**, **relation type** and **tail entity**, respectively, of the triples (=graph edges) in the dataset.\n",
                "\n",
                "It is also interesting to notice that entities in the Knowledge Graph are of different types - a piece of information which can be leveraged when using BESS-KGE, for instance by constructing negative samples corrupting entities only with entities of the same type (see [besskge.negative_sampler.TypeBasedNegativeSampler](https://graphcore-research.github.io/bess-kge/API_ref/negative_sampler.html#besskge.negative_sampler.TypeBasedShardedNegativeSampler))."
            ]
        },
        {
            "cell_type": "code",
            "execution_count": 9,
            "metadata": {},
            "outputs": [
                {
                    "data": {
                        "text/html": [
                            "<div>\n",
                            "<style scoped>\n",
                            "    .dataframe tbody tr th:only-of-type {\n",
                            "        vertical-align: middle;\n",
                            "    }\n",
                            "\n",
                            "    .dataframe tbody tr th {\n",
                            "        vertical-align: top;\n",
                            "    }\n",
                            "\n",
                            "    .dataframe thead th {\n",
                            "        text-align: right;\n",
                            "    }\n",
                            "</style>\n",
                            "<table border=\"1\" class=\"dataframe\">\n",
                            "  <thead>\n",
                            "    <tr style=\"text-align: right;\">\n",
                            "      <th></th>\n",
                            "      <th>ent_label</th>\n",
                            "      <th>ent_type</th>\n",
                            "    </tr>\n",
                            "  </thead>\n",
                            "  <tbody>\n",
                            "    <tr>\n",
                            "      <th>0</th>\n",
                            "      <td>GO:0051505</td>\n",
                            "      <td>GO</td>\n",
                            "    </tr>\n",
                            "    <tr>\n",
                            "      <th>1</th>\n",
                            "      <td>PUBCHEM.COMPOUND:10199303</td>\n",
                            "      <td>DRUG</td>\n",
                            "    </tr>\n",
                            "    <tr>\n",
                            "      <th>2</th>\n",
                            "      <td>PUBCHEM.COMPOUND:157838</td>\n",
                            "      <td>DRUG</td>\n",
                            "    </tr>\n",
                            "    <tr>\n",
                            "      <th>3</th>\n",
                            "      <td>UBERON:0025261</td>\n",
                            "      <td>ANATOMY</td>\n",
                            "    </tr>\n",
                            "    <tr>\n",
                            "      <th>4</th>\n",
                            "      <td>PUBCHEM.COMPOUND:10698567</td>\n",
                            "      <td>DRUG</td>\n",
                            "    </tr>\n",
                            "    <tr>\n",
                            "      <th>...</th>\n",
                            "      <td>...</td>\n",
                            "      <td>...</td>\n",
                            "    </tr>\n",
                            "    <tr>\n",
                            "      <th>184744</th>\n",
                            "      <td>GO:0043279</td>\n",
                            "      <td>GO</td>\n",
                            "    </tr>\n",
                            "    <tr>\n",
                            "      <th>184745</th>\n",
                            "      <td>PUBCHEM.COMPOUND:44329448</td>\n",
                            "      <td>DRUG</td>\n",
                            "    </tr>\n",
                            "    <tr>\n",
                            "      <th>184746</th>\n",
                            "      <td>GO:0075336</td>\n",
                            "      <td>GO</td>\n",
                            "    </tr>\n",
                            "    <tr>\n",
                            "      <th>184747</th>\n",
                            "      <td>PUBCHEM.COMPOUND:5289122</td>\n",
                            "      <td>DRUG</td>\n",
                            "    </tr>\n",
                            "    <tr>\n",
                            "      <th>184748</th>\n",
                            "      <td>HP:0000096</td>\n",
                            "      <td>PHENOTYPE</td>\n",
                            "    </tr>\n",
                            "  </tbody>\n",
                            "</table>\n",
                            "<p>184749 rows × 2 columns</p>\n",
                            "</div>"
                        ],
                        "text/plain": [
                            "                        ent_label   ent_type\n",
                            "0                      GO:0051505         GO\n",
                            "1       PUBCHEM.COMPOUND:10199303       DRUG\n",
                            "2         PUBCHEM.COMPOUND:157838       DRUG\n",
                            "3                  UBERON:0025261    ANATOMY\n",
                            "4       PUBCHEM.COMPOUND:10698567       DRUG\n",
                            "...                           ...        ...\n",
                            "184744                 GO:0043279         GO\n",
                            "184745  PUBCHEM.COMPOUND:44329448       DRUG\n",
                            "184746                 GO:0075336         GO\n",
                            "184747   PUBCHEM.COMPOUND:5289122       DRUG\n",
                            "184748                 HP:0000096  PHENOTYPE\n",
                            "\n",
                            "[184749 rows x 2 columns]"
                        ]
                    },
                    "execution_count": 9,
                    "metadata": {},
                    "output_type": "execute_result"
                }
            ],
            "source": [
                "entity_types = pd.read_csv(\n",
                "                    dataset_directory + \"HQ_DIR/train_test_data/train_val_nodes.csv\",\n",
                "                    header=None,\n",
                "                    names=[\"ent_label\", \"ent_type\"],\n",
                "                    sep=\"\\t\",\n",
                "                )\n",
                "entity_types"
            ]
        },
        {
            "cell_type": "code",
            "execution_count": 10,
            "metadata": {},
            "outputs": [
                {
                    "name": "stdout",
                    "output_type": "stream",
                    "text": [
                        "Entity type counts\n"
                    ]
                },
                {
                    "data": {
                        "text/plain": [
                            "ent_type\n",
                            "ANATOMY      16031\n",
                            "DIS           9505\n",
                            "DRUG         77716\n",
                            "GENE         19604\n",
                            "GO           44944\n",
                            "PATHWAY       2363\n",
                            "PHENOTYPE    14586\n",
                            "Name: ent_type, dtype: int64"
                        ]
                    },
                    "execution_count": 10,
                    "metadata": {},
                    "output_type": "execute_result"
                }
            ],
            "source": [
                "print(\"Entity type counts\")\n",
                "entity_types.groupby(\"ent_type\")[\"ent_type\"].count()"
            ]
        },
        {
            "cell_type": "markdown",
            "metadata": {},
            "source": [
                "## The KGDataset class in BESS-KGE\n",
                "\n",
                "When using BESS-KGE, the Knowledge Graph data is stored in an instance of the [besskge.dataset.KGDataset](https://graphcore-research.github.io/bess-kge/API_ref/dataset.html#besskge.dataset.KGDataset) class. This class comes with built-in methods to download and build some commonly-used Knowledge Graph datasets, or it can be instantiated manually with custom data by specifying all the required attributes.\n",
                "\n",
                "The `besskge.dataset.KGDataset.from_dataframe` method is perfect to **build a custom dataset starting from labelled triples with minimum effort**. It simply requires to provide a pandas DataFrame containing all labelled triples (or a dictionary of DataFrames, one for each of the dataset splits). If entities are of different types, like for OpenBioLink, this can be communicated to the `KGDataset` by providing it with a mapping of entity labels to entity types, in the form of a dictionary or a pandas Series, indexed over the entity labels."
            ]
        },
        {
            "cell_type": "code",
            "execution_count": 11,
            "metadata": {},
            "outputs": [
                {
                    "data": {
                        "text/plain": [
                            "ent_label\n",
                            "GO:0051505                          GO\n",
                            "PUBCHEM.COMPOUND:10199303         DRUG\n",
                            "PUBCHEM.COMPOUND:157838           DRUG\n",
                            "UBERON:0025261                 ANATOMY\n",
                            "PUBCHEM.COMPOUND:10698567         DRUG\n",
                            "                               ...    \n",
                            "GO:0043279                          GO\n",
                            "PUBCHEM.COMPOUND:44329448         DRUG\n",
                            "GO:0075336                          GO\n",
                            "PUBCHEM.COMPOUND:5289122          DRUG\n",
                            "HP:0000096                   PHENOTYPE\n",
                            "Name: ent_type, Length: 184749, dtype: object"
                        ]
                    },
                    "execution_count": 11,
                    "metadata": {},
                    "output_type": "execute_result"
                }
            ],
            "source": [
                "entity_types_series = entity_types.set_index(\"ent_label\")[\"ent_type\"]\n",
                "entity_types_series"
            ]
        },
        {
            "cell_type": "markdown",
            "metadata": {},
            "source": [
                "Now, we only need to arrange the train/validation/test DataFrames in a dictionary and call `KGDataset.from_dataframe`, specifying the names of the columns of the dataframes which contain the entities/relations labels."
            ]
        },
        {
            "cell_type": "code",
            "execution_count": 26,
            "metadata": {},
            "outputs": [],
            "source": [
                "df_dict = {\"train\": train_triples, \"valid\": valid_triples, \"test\": test_triples}\n",
                "\n",
                "openbiolink = KGDataset.from_dataframe(df_dict,\n",
                "                                        head_column=\"h_label\", relation_column=\"r_label\", tail_column=\"t_label\",\n",
                "                                        entity_types=entity_types_series)"
            ]
        },
        {
            "cell_type": "markdown",
            "metadata": {},
            "source": [
                "That was easy, wasn't it? Let us have a closer look at the attributes of the `KGDataset` class we just created."
            ]
        },
        {
            "cell_type": "code",
            "execution_count": 17,
            "metadata": {},
            "outputs": [
                {
                    "name": "stdout",
                    "output_type": "stream",
                    "text": [
                        "Number of entities: 184,635\n",
                        "\n",
                        "Number of relation types: 28\n",
                        "\n",
                        "Number of triples: \n",
                        " training: 4,192,002 \n",
                        " validation: 188,394\n",
                        " test: 183,009\n"
                    ]
                }
            ],
            "source": [
                "print(f\"Number of entities: {openbiolink.n_entity:,}\\n\")\n",
                "print(f\"Number of relation types: {openbiolink.n_relation_type}\\n\")\n",
                "print(f\"Number of triples: \\n training: {openbiolink.triples['train'].shape[0]:,} \\n validation: {openbiolink.triples['valid'].shape[0]:,}\"\n",
                "        f\"\\n test: {openbiolink.triples['test'].shape[0]:,}\")"
            ]
        },
        {
            "cell_type": "markdown",
            "metadata": {},
            "source": [
                "Notice that only the entities that appear as head or tail in at least one of the dataset's triples are counted in `KGDataset.n_entity` (and the same for relations in `KGDataset.n_relation_type`). If we take a look at the `triples` attribute of the `KGDataset`, we see that it is still structured as a dictionary, with the same keys that we used in `df_dict` to identify the different dataset splits."
            ]
        },
        {
            "cell_type": "code",
            "execution_count": 18,
            "metadata": {},
            "outputs": [
                {
                    "data": {
                        "text/plain": [
                            "dict_keys(['train', 'valid', 'test'])"
                        ]
                    },
                    "execution_count": 18,
                    "metadata": {},
                    "output_type": "execute_result"
                }
            ],
            "source": [
                "openbiolink.triples.keys()"
            ]
        },
        {
            "cell_type": "code",
            "execution_count": 19,
            "metadata": {},
            "outputs": [
                {
                    "data": {
                        "text/plain": [
                            "array([[122052,      0, 183267],\n",
                            "       [107363,      1,  15635],\n",
                            "       [107365,      1,   6510],\n",
                            "       ...,\n",
                            "       [109440,      5, 104537],\n",
                            "       [108133,      1,  14619],\n",
                            "       [111211,      1,   5477]], dtype=int32)"
                        ]
                    },
                    "execution_count": 19,
                    "metadata": {},
                    "output_type": "execute_result"
                }
            ],
            "source": [
                "openbiolink.triples[\"train\"]"
            ]
        },
        {
            "cell_type": "markdown",
            "metadata": {},
            "source": [
                "Each row of these numpy arrays corresponds to a (h,r,t) triple in the dataset, but now the labels for entities and relations have been replaced by numerical IDs. We can use `KGDataset.entity_dict`, `KGDataset.relation_dict` to recover the mapping from IDs to labels for entities and relation types respectively."
            ]
        },
        {
            "cell_type": "code",
            "execution_count": 24,
            "metadata": {},
            "outputs": [
                {
                    "data": {
                        "text/plain": [
                            "['UBERON:2002263',\n",
                            " 'CL:0000532',\n",
                            " 'UBERON:4300129',\n",
                            " 'UBERON:0004122',\n",
                            " 'UBERON:0004247',\n",
                            " 'UBERON:0002249',\n",
                            " 'UBERON:0018407',\n",
                            " 'UBERON:0000000',\n",
                            " 'UBERON:0001385',\n",
                            " 'CL:0010003']"
                        ]
                    },
                    "execution_count": 24,
                    "metadata": {},
                    "output_type": "execute_result"
                }
            ],
            "source": [
                "openbiolink.entity_dict[:10]"
            ]
        },
        {
            "cell_type": "markdown",
            "metadata": {},
            "source": [
                "meaning that the entity with ID 0 is \"UBERON:2002263\", the entity with ID 1 is \"CL:0000532\", etc. (and similarly for `openbiolink.relation_dict`).\n",
                "\n",
                "Let's make a quick sanity check."
            ]
        },
        {
            "cell_type": "code",
            "execution_count": 38,
            "metadata": {},
            "outputs": [
                {
                    "data": {
                        "text/plain": [
                            "('NCBIGENE:9501', 'GENE_EXPRESSED_ANATOMY', 'UBERON:0002084')"
                        ]
                    },
                    "execution_count": 38,
                    "metadata": {},
                    "output_type": "execute_result"
                }
            ],
            "source": [
                "part = \"test\"\n",
                "triple_number = 123\n",
                "\n",
                "head_label = openbiolink.entity_dict[openbiolink.triples[part][triple_number,0]]\n",
                "relation_label = openbiolink.relation_dict[openbiolink.triples[part][triple_number,1]]\n",
                "tail_label = openbiolink.entity_dict[openbiolink.triples[part][triple_number,2]]\n",
                "\n",
                "head_label, relation_label, tail_label"
            ]
        },
        {
            "cell_type": "markdown",
            "metadata": {},
            "source": [
                "which, in the original dataframes, should coincide with"
            ]
        },
        {
            "cell_type": "code",
            "execution_count": 42,
            "metadata": {},
            "outputs": [
                {
                    "data": {
                        "text/plain": [
                            "h_label             NCBIGENE:9501\n",
                            "r_label    GENE_EXPRESSED_ANATOMY\n",
                            "t_label            UBERON:0002084\n",
                            "Name: 123, dtype: object"
                        ]
                    },
                    "execution_count": 42,
                    "metadata": {},
                    "output_type": "execute_result"
                }
            ],
            "source": [
                "df_dict[part].iloc[triple_number][[\"h_label\", \"r_label\", \"t_label\"]]"
            ]
        },
        {
            "cell_type": "markdown",
            "metadata": {},
            "source": [
                "It is important to notice that, when entities have different types, numerical entity IDs need to be assigned so that **entities of the same type have contiguous IDs**! This is done automatically behind the curtain when using `KGDataset.from_dataframe`, but it needs to be kept in mind if the user is instantiating the `KGDataset` class manually.\n",
                "\n",
                "Since entity IDs are now clustered by type, we only need to know the ID ranges corresponding to the different types, which are stored in `KGDataset.type_offsets`:"
            ]
        },
        {
            "cell_type": "code",
            "execution_count": 25,
            "metadata": {},
            "outputs": [
                {
                    "data": {
                        "text/plain": [
                            "{'ANATOMY': 0,\n",
                            " 'DIS': 16031,\n",
                            " 'DRUG': 25526,\n",
                            " 'GENE': 103144,\n",
                            " 'GO': 122742,\n",
                            " 'PATHWAY': 167686,\n",
                            " 'PHENOTYPE': 170049}"
                        ]
                    },
                    "execution_count": 25,
                    "metadata": {},
                    "output_type": "execute_result"
                }
            ],
            "source": [
                "openbiolink.type_offsets"
            ]
        },
        {
            "cell_type": "markdown",
            "metadata": {},
            "source": [
                "meaning that entities with ID from 0 to 16030 are of type 'ANATOMY', from 16031 to 25525 are of type 'DIS', etc.\n",
                "\n",
                "The type IDs (assigned following the order of the keys in `KGDataset.type_offsets`) for heads and tails of all triples in the dataset can be immediately recovered using `KGDataset.ht_types`:"
            ]
        },
        {
            "cell_type": "code",
            "execution_count": 35,
            "metadata": {},
            "outputs": [
                {
                    "data": {
                        "text/plain": [
                            "dict_keys(['train', 'valid', 'test'])"
                        ]
                    },
                    "execution_count": 35,
                    "metadata": {},
                    "output_type": "execute_result"
                }
            ],
            "source": [
                "openbiolink.ht_types.keys()"
            ]
        },
        {
            "cell_type": "code",
            "execution_count": 36,
            "metadata": {},
            "outputs": [
                {
                    "data": {
                        "text/plain": [
                            "((4192002, 2), (188394, 2), (183009, 2))"
                        ]
                    },
                    "execution_count": 36,
                    "metadata": {},
                    "output_type": "execute_result"
                }
            ],
            "source": [
                "openbiolink.ht_types[\"train\"].shape, openbiolink.ht_types[\"valid\"].shape, openbiolink.ht_types[\"test\"].shape"
            ]
        },
        {
            "cell_type": "markdown",
            "metadata": {},
            "source": [
                "Each row of these arrays stores the ID of the type of the head entity and tail entity of the corresponding triple, e.g."
            ]
        },
        {
            "cell_type": "code",
            "execution_count": 50,
            "metadata": {},
            "outputs": [
                {
                    "data": {
                        "text/plain": [
                            "array([3, 0])"
                        ]
                    },
                    "execution_count": 50,
                    "metadata": {},
                    "output_type": "execute_result"
                }
            ],
            "source": [
                "part = \"valid\"\n",
                "triple_number = 0\n",
                "\n",
                "openbiolink.ht_types[part][triple_number]"
            ]
        },
        {
            "cell_type": "markdown",
            "metadata": {},
            "source": [
                "means that the first validation triple has head entity of type 'GENE' (the fourth key of `openbiolink.type_offsets`) and tail entity of type 'ANATOMY' (the first key of `openbiolink.type_offsets`). Indeed, we can check:"
            ]
        },
        {
            "cell_type": "code",
            "execution_count": 48,
            "metadata": {},
            "outputs": [
                {
                    "data": {
                        "text/plain": [
                            "('GENE', 'ANATOMY')"
                        ]
                    },
                    "execution_count": 48,
                    "metadata": {},
                    "output_type": "execute_result"
                }
            ],
            "source": [
                "type_head = entity_types_series[df_dict[part].iloc[triple_number][\"h_label\"]]\n",
                "type_tail = entity_types_series[df_dict[part].iloc[triple_number][\"t_label\"]]\n",
                "\n",
                "type_head, type_tail"
            ]
        },
        {
            "cell_type": "markdown",
            "metadata": {},
            "source": [
                "## Random dataset split\n",
                "\n",
                "What if no custom train/validation/test split is provided? `KGDataset.from_dataframe` can perform a random split, with the desidered ratios between the three parts. This happens whenever it is provided with a single pandas DataFrame, instead of a dictionary of DataFrames as before."
            ]
        },
        {
            "cell_type": "code",
            "execution_count": 58,
            "metadata": {},
            "outputs": [
                {
                    "name": "stdout",
                    "output_type": "stream",
                    "text": [
                        "Total number of triples: 4,563,405\n"
                    ]
                }
            ],
            "source": [
                "# Merge all triples in a single DataFrame\n",
                "df_all_triples = pd.concat([train_triples, valid_triples, test_triples], axis=0)\n",
                "\n",
                "print(f\"Total number of triples: {df_all_triples.shape[0]:,}\")"
            ]
        },
        {
            "cell_type": "code",
            "execution_count": 57,
            "metadata": {},
            "outputs": [
                {
                    "name": "stdout",
                    "output_type": "stream",
                    "text": [
                        "Number of entities: 184,635\n",
                        "\n",
                        "Number of relation types: 28\n",
                        "\n",
                        "Number of triples: \n",
                        " training: 3,650,724 \n",
                        " validation: 456,340\n",
                        " test: 456,341\n"
                    ]
                }
            ],
            "source": [
                "# 80/10/10 train/valid/test split\n",
                "split_ratios = (0.8, 0.1, 0.1)\n",
                "\n",
                "openbiolink_random = KGDataset.from_dataframe(df_all_triples,\n",
                "                                        head_column=\"h_label\", relation_column=\"r_label\", tail_column=\"t_label\",\n",
                "                                        entity_types=entity_types_series,\n",
                "                                        split=split_ratios)\n",
                "\n",
                "print(f\"Number of entities: {openbiolink_random.n_entity:,}\\n\")\n",
                "print(f\"Number of relation types: {openbiolink_random.n_relation_type}\\n\")\n",
                "print(f\"Number of triples: \\n training: {openbiolink_random.triples['train'].shape[0]:,} \\n validation: {openbiolink_random.triples['valid'].shape[0]:,}\"\n",
                "        f\"\\n test: {openbiolink_random.triples['test'].shape[0]:,}\")"
            ]
        },
        {
            "attachments": {},
            "cell_type": "markdown",
            "metadata": {},
            "source": [
                "## Conclusions and next steps\n",
                "\n",
                "The `KGDataset` class has a few additional attributes, which can be defined when instantiating the class manually. For instance, it allows to specify for each triple a set of negative heads and tails that should be used to corrupt that triple (this is useful when you want to find the best completion for a (h,r,?)/(?,r,t) query only among a specific set of candidate nodes, or you have already identified good negative samples that you want to use during training).\n",
                "For more information on the `KGDataset` class, have a look at the [BESS-KGE documentation](https://graphcore-research.github.io/bess-kge/API_ref/dataset.html#besskge.dataset.KGDataset).\n",
                "\n",
                "Once you have built your dataset as a `KGDataset` class, you are ready to use BESS-KGE to train your prefered KGE model and perform inference with it! To learn how, we suggest starting from the introductory [KGE Training and Inference on OGBL-BioKG](1_biokg_training_inference.ipynb)."
            ]
        }
    ],
    "metadata": {
        "kernelspec": {
            "display_name": ".venv_3.2",
            "language": "python",
            "name": "python3"
        },
        "language_info": {
            "codemirror_mode": {
                "name": "ipython",
                "version": 3
            },
            "file_extension": ".py",
            "mimetype": "text/x-python",
            "name": "python",
            "nbconvert_exporter": "python",
            "pygments_lexer": "ipython3",
            "version": "3.8.10"
        },
        "orig_nbformat": 4
    },
    "nbformat": 4,
    "nbformat_minor": 2
}
