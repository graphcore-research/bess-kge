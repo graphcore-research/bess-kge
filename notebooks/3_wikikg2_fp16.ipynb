{
   "cells": [
      {
         "attachments": {},
         "cell_type": "markdown",
         "metadata": {},
         "source": [
            "# FP16 embeddings on OGBL-WikiKG2\n",
            "\n",
            "<em>Copyright (c) 2023 Graphcore Ltd. All rights reserved.</em>\n",
            "\n",
            "BESS-KGE (`besskge`) is a PyTorch library for knowledge graph embedding (KGE) models on IPUs implementing the distribution framework [BESS](https://arxiv.org/abs/2211.12281), with embedding tables stored in the IPU SRAM.\n",
            "\n",
            "The aim of this notebook is to show how to use FP16 weights to reduce memory requirements for KGE models and speed up computations. This is especially important when dealing with knowledge graphs with a large number of entities, whose embeddings - if stored in FP32 - would require too many IPUs.\n",
            "\n",
            "As a study case we look at the [ogbl-wikikg2](https://ogb.stanford.edu/docs/linkprop/#ogbl-wikikg2) dataset, a knowledge graph containing 2.5M entities.\n",
            "\n",
            "If you have not already done so, we suggest running the [KGE Training and Inference on OGBL-BioKG](1_biokg_training_inference.ipynb) notebook to get familiar with the basic functionalities of the BESS-KGE library."
         ]
      },
      {
         "cell_type": "markdown",
         "metadata": {},
         "source": [
            "## Environment setup"
         ]
      },
      {
         "cell_type": "markdown",
         "metadata": {},
         "source": [
            "The best way to run this demo is on Paperspace Gradient's cloud IPUs because everything is already set up for you.\n",
            "\n",
            "<!-- [![Run on Gradient](../../gradient-badge.svg)](https://console.paperspace.com/github/<runtime-repo>?machine=Free-IPU-POD4&container=<dockerhub-image>&file=<path-to-file-in-repo>)   -->\n",
            "\n",
            "To run the demo using other IPU hardware, you need to have the Poplar SDK enabled {and a PopTorch/TensorFlow wheel installed}. Refer to the [Getting Started guide](https://docs.graphcore.ai/en/latest/getting-started.html#getting-started) for your system for details on how to do this. Also refer to the [Jupyter Quick Start guide](https://docs.graphcore.ai/projects/jupyter-notebook-quick-start/en/latest/index.html) for how to set up Jupyter to be able to run this notebook on a remote IPU machine."
         ]
      },
      {
         "attachments": {},
         "cell_type": "markdown",
         "metadata": {},
         "source": [
            "## Dependencies"
         ]
      },
      {
         "cell_type": "markdown",
         "metadata": {},
         "source": [
            "We recommend that you install `besskge` directly from the GitHub sources:"
         ]
      },
      {
         "attachments": {},
         "cell_type": "markdown",
         "metadata": {},
         "source": [
            "### Environment setup\n",
            "\n",
            "The best way to run this demo is on Paperspace Gradient's cloud IPUs because everything is already set up for you.\n",
            "\n",
            "[![Run on Gradient](https://assets.paperspace.io/img/gradient-badge.svg)](https://console.paperspace.com/github/graphcore-research/bess-kge?container=graphcore%2Fpytorch-jupyter%3A3.2.0-ubuntu-20.04&machine=Free-IPU-POD4&file=%2Fnotebooks%2F3_wikikg2_fp16.ipynb)\n",
            "\n",
            "To run the demo using other IPU hardware, you need to have the Poplar SDK enabled and a PopTorch wheel installed. Refer to the [Getting Started guide](https://docs.graphcore.ai/en/latest/getting-started.html#getting-started) for your system for details on how to do this. Also refer to the [Jupyter Quick Start guide](https://docs.graphcore.ai/projects/jupyter-notebook-quick-start/en/latest/index.html) for how to set up Jupyter to be able to run this notebook on a remote IPU machine."
         ]
      },
      {
         "attachments": {},
         "cell_type": "markdown",
         "metadata": {},
         "source": [
            "### Dependencies and configuration\n",
            "\n",
            "Install the dependencies the notebook needs."
         ]
      },
      {
         "cell_type": "code",
         "execution_count": 1,
         "metadata": {},
         "outputs": [
            {
               "name": "stdout",
               "output_type": "stream",
               "text": [
                  "Found existing installation: besskge 0.1\n",
                  "Uninstalling besskge-0.1:\n",
                  "  Successfully uninstalled besskge-0.1\n"
               ]
            }
         ],
         "source": [
            "# Install BESS-KGE from Github releases\n",
            "import sys\n",
            "!{sys.executable} -m pip uninstall -y besskge\n",
            "!pip install -q git+ssh://git@github.com/graphcore-research/bess-kge.git\n",
            "\n",
            "!pip install -q matplotlib"
         ]
      },
      {
         "cell_type": "markdown",
         "metadata": {},
         "source": [
            "Next, import the necessary dependencies. "
         ]
      },
      {
         "cell_type": "code",
         "execution_count": 2,
         "metadata": {},
         "outputs": [],
         "source": [
            "import os\n",
            "import pathlib\n",
            "import time\n",
            "\n",
            "import matplotlib.pyplot as plt\n",
            "import numpy as np\n",
            "import poptorch\n",
            "import torch\n",
            "\n",
            "from besskge.batch_sampler import RandomShardedBatchSampler, RigidShardedBatchSampler\n",
            "from besskge.bess import EmbeddingMovingBessKGE, ScoreMovingBessKGE, TopKQueryBessKGE\n",
            "from besskge.dataset import KGDataset\n",
            "from besskge.embedding import NormalInitializer\n",
            "from besskge.loss import SampledSoftmaxCrossEntropyLoss\n",
            "from besskge.metric import Evaluation\n",
            "from besskge.negative_sampler import (\n",
            "    PlaceholderNegativeSampler,\n",
            "    RandomShardedNegativeSampler,\n",
            "    TripleBasedShardedNegativeSampler,\n",
            ")\n",
            "from besskge.scoring import TransE\n",
            "from besskge.sharding import PartitionedTripleSet, Sharding\n",
            "\n",
            "dataset_directory = os.getenv(\"DATASETS_DIR\", \"../datasets/\") + \"/wikikg2/\""
         ]
      },
      {
         "attachments": {},
         "cell_type": "markdown",
         "metadata": {},
         "source": [
            "## Sharding entities and triples\n",
            "\n",
            "The OGBL-WikiKG2 dataset can be downloaded and preprocessed with the built-in method of `KGDataset`, `build_wikikg2`. Sharding of entities and triples is performed as shown in the [KGE Training and Inference on OGBL-BioKG](1_biokg_training_inference.ipynb) notebook."
         ]
      },
      {
         "cell_type": "code",
         "execution_count": 3,
         "metadata": {},
         "outputs": [
            {
               "name": "stdout",
               "output_type": "stream",
               "text": [
                  "Number of entities: 2,500,604\n",
                  "\n",
                  "Number of relation types: 535\n",
                  "\n",
                  "Number of triples: \n",
                  " training: 16,109,182 \n",
                  " validation/test: 429,456\n",
                  "\n",
                  "Number of negative heads/tails for validation/test triples: 500\n"
               ]
            }
         ],
         "source": [
            "wikikg = KGDataset.build_wikikg2(root=pathlib.Path(dataset_directory))\n",
            "\n",
            "print(f\"Number of entities: {wikikg.n_entity:,}\\n\")\n",
            "print(f\"Number of relation types: {wikikg.n_relation_type}\\n\")\n",
            "print(f\"Number of triples: \\n training: {wikikg.triples['train'].shape[0]:,} \\n validation/test: {wikikg.triples['valid'].shape[0]:,}\\n\")\n",
            "print(f\"Number of negative heads/tails for validation/test triples: {wikikg.neg_heads['valid'].shape[-1]}\")"
         ]
      },
      {
         "cell_type": "code",
         "execution_count": 4,
         "metadata": {},
         "outputs": [
            {
               "name": "stdout",
               "output_type": "stream",
               "text": [
                  "Number of total entities: 2,500,604\n",
                  "\n",
                  "Number of shards: 4\n",
                  "\n",
                  "Number of entities in each shard: 625,151\n",
                  "\n",
                  "Global entity IDs on 4 shards:\n",
                  " [[      2       5       6 ... 2500591 2500592 2500596]\n",
                  " [      8       9      17 ... 2500590 2500600 2500602]\n",
                  " [      1       3       7 ... 2500597 2500601 2500603]\n",
                  " [      0       4      10 ... 2500594 2500598 2500599]]\n",
                  "\n"
               ]
            }
         ],
         "source": [
            "# Train on 4 IPUs\n",
            "n_shard = 4\n",
            "\n",
            "seed = 1234\n",
            "\n",
            "sharding = Sharding.create(n_entity=wikikg.n_entity, n_shard=n_shard, seed=seed)\n",
            "\n",
            "print(f\"Number of total entities: {sharding.n_entity:,}\\n\")\n",
            "\n",
            "print(f\"Number of shards: {sharding.n_shard}\\n\")\n",
            "\n",
            "print(f\"Number of entities in each shard: {sharding.max_entity_per_shard:,}\\n\")\n",
            "\n",
            "print(f\"Global entity IDs on {n_shard} shards:\\n {sharding.shard_and_idx_to_entity}\\n\")"
         ]
      },
      {
         "cell_type": "code",
         "execution_count": 5,
         "metadata": {},
         "outputs": [
            {
               "name": "stdout",
               "output_type": "stream",
               "text": [
                  "Number of triples per (h,t) shardpair:\n",
                  " [[1174534  912862 1155842  785030]\n",
                  " [1172594  912466 1155230  785851]\n",
                  " [1171112  912701 1156933  786359]\n",
                  " [1172898  910677 1157561  786532]]\n"
               ]
            }
         ],
         "source": [
            "train_triples = PartitionedTripleSet.create_from_dataset(dataset=wikikg, part=\"train\", sharding=sharding, partition_mode=\"ht_shardpair\")\n",
            "\n",
            "print(f\"Number of triples per (h,t) shard-pair:\\n {train_triples.triple_counts}\")"
         ]
      },
      {
         "attachments": {},
         "cell_type": "markdown",
         "metadata": {},
         "source": [
            "## Interleaved training and validation (vs all)\n",
            "\n",
            "We use the `RandomShardedBatchSampler` batch sampler class, which creates a batch by randomly sampling (with replacement) a fixed number (=`batch_sampler.positive_per_partition`) of triples from each of the 16 shard-pairs.\n",
            "\n",
            "Negative entities, used to construct negative samples, are also sampled randomly using the `RandomShardedNegativeSampler` class. Here we construct negative samples by always corrupting the tail of positive triples, as specified by the choice `corruption_scheme=\"t\"`."
         ]
      },
      {
         "cell_type": "code",
         "execution_count": 6,
         "metadata": {},
         "outputs": [
            {
               "name": "stdout",
               "output_type": "stream",
               "text": [
                  "# triples per shardpair per step: 128 \n",
                  "\n",
                  "head         torch.Size([100, 4, 4, 128])   torch.int32;\n",
                  "relation     torch.Size([100, 4, 4, 128])   torch.int32;\n",
                  "tail         torch.Size([100, 4, 4, 128])   torch.int32;\n",
                  "negative     torch.Size([100, 4, 4, 1, 32]) torch.int32;\n"
               ]
            }
         ],
         "source": [
            "device_iterations = 100\n",
            "accum_factor = 1\n",
            "shard_bs = 512\n",
            "\n",
            "neg_sampler = RandomShardedNegativeSampler(n_negative=32, sharding=sharding, seed=seed, corruption_scheme=\"t\",\n",
            "                                           local_sampling=False, flat_negative_format=True)\n",
            "\n",
            "batch_sampler = RandomShardedBatchSampler(partitioned_triple_set=train_triples, negative_sampler=neg_sampler,\n",
            "                              shard_bs=shard_bs, batches_per_step=device_iterations*accum_factor, seed=seed)\n",
            "\n",
            "\n",
            "print(f\"# triples per shard-pair per step: {batch_sampler.positive_per_partition} \\n\")\n",
            "\n",
            "# Example batch\n",
            "idx_sampler = iter(batch_sampler.get_dataloader_sampler(shuffle=True))\n",
            "for k,v in batch_sampler[next(idx_sampler)].items():\n",
            "    print(f\"{k:<12} {str(v.shape):<30} {v.dtype};\")"
         ]
      },
      {
         "attachments": {},
         "cell_type": "markdown",
         "metadata": {},
         "source": [
            "Notice from the `negative` shape that we are **decoupling** the number of negative samples from the batch size, by using the negative sampler option `flat_negative_format=True`. Instead of sampling negative entities on a triple basis, we sample them on a shard-pair basis. In this case, each pair of devices will exchange 32 negative entities in both directions (while, if using `flat_negative_format=False`, this number would need to be a multiple of the shard batch size - see for instance the shape of `negative` in the [KGE Training and Inference on OGBL-BioKG](1_biokg_training_inference.ipynb) notebook). This of course requires the use of negative sample sharing.\n",
            "\n",
            "Thanks to this decoupling we can increase the shard batch size without increasing the number of negative samples to score in each batch. This is important as we don't intend to use gradient accumulation (as specified by `accum_factor = 1`), thus saving on memory which would have been used by the weight accumulation tensors."
         ]
      },
      {
         "cell_type": "code",
         "execution_count": 7,
         "metadata": {},
         "outputs": [],
         "source": [
            "options = poptorch.Options()\n",
            "options.replication_factor = sharding.n_shard\n",
            "options.deviceIterations(device_iterations)\n",
            "options._popart.setPatterns(dict(RemoveAllReducePattern=True))\n",
            "\n",
            "# Enable stochastic rounding on IPU for more stable half-precision training\n",
            "options.Precision.enableStochasticRounding(True)\n",
            "\n",
            "train_dl = batch_sampler.get_dataloader(options=options, shuffle=True, num_workers=3, persistent_workers=True)"
         ]
      },
      {
         "attachments": {},
         "cell_type": "markdown",
         "metadata": {},
         "source": [
            "We will train a simple **TransE** KGE model with an embedding size of 100, in order to fit the embedding tables in the SRAM of 4 IPUs, and use **sampled softmax cross entropy loss**.\n",
            "\n",
            "For this dataset we find it to be beneficial to construct negative samples by corrupting the tail of a positive triple using the randomly sampled negative entities in `negative` and also the **tails of the other positive triples** in the same micro-batch. This can be done simply by setting the flag `augment_negative=True` when instantiating the `EmbeddingMovingBessKGE` distribution scheme. This strategy also has the advantage of increasing the number of negative samples used in the contrastive loss without increasing the costs of gathering and communicating negative entities across IPUs."
         ]
      },
      {
         "cell_type": "code",
         "execution_count": 8,
         "metadata": {},
         "outputs": [
            {
               "name": "stdout",
               "output_type": "stream",
               "text": [
                  "# model parameters: 250,113,900\n"
               ]
            }
         ],
         "source": [
            "loss_fn = SampledSoftmaxCrossEntropyLoss(n_entity=wikikg.n_entity)\n",
            "emb_initializer = NormalInitializer()\n",
            "transe_score_fn = TransE(negative_sample_sharing=True, scoring_norm=1, sharding=sharding,\n",
            "                  n_relation_type=wikikg.n_relation_type, embedding_size=100,\n",
            "                  entity_initializer=emb_initializer, relation_initializer=emb_initializer)\n",
            "\n",
            "model = EmbeddingMovingBessKGE(negative_sampler=neg_sampler, score_fn=transe_score_fn,\n",
            "                               loss_fn=loss_fn, augment_negative=True)\n",
            "\n",
            "print(f\"# model parameters: {model.n_embedding_parameters:,}\")"
         ]
      },
      {
         "attachments": {},
         "cell_type": "markdown",
         "metadata": {},
         "source": [
            "As in standard PyTorch, we can use `model.half()` to **cast the embedding tables to FP16**, before wrapping the model in `poptorch.trainingModel`.\n",
            "\n",
            "We train with SGD momentum instead of Adam, for reduced optimizer state memory usage."
         ]
      },
      {
         "cell_type": "code",
         "execution_count": 9,
         "metadata": {},
         "outputs": [
            {
               "name": "stderr",
               "output_type": "stream",
               "text": [
                  "[11:29:38.880] [poptorch:cpp] [warning] [DISPATCHER] Tensor (ptr 0x7ee49f0) type coerced from Long to Int\n",
                  "Graph compilation: 100%|██████████| 100/100 [02:02<00:00]\n",
                  "WARNING: The compile time engine option debug.branchRecordTile is set to \"5887\" when creating the Engine. (At compile-tile it was set to 1471)\n"
               ]
            }
         ],
         "source": [
            "# FP16 weights\n",
            "model.half()\n",
            "\n",
            "opt = poptorch.optim.SGD(\n",
            "        model.parameters(),\n",
            "        lr=0.001,\n",
            "        momentum=0.95,\n",
            "        velocity_accum_type=torch.float16,\n",
            "    )\n",
            "\n",
            "poptorch_model = poptorch.trainingModel(model, options=options, optimizer=opt)\n",
            "\n",
            "# The variable entity_embedding needs to hold different values on each replica,\n",
            "# corresponding to the shards of the entity embedding table\n",
            "poptorch_model.entity_embedding.replicaGrouping(\n",
            "            poptorch.CommGroupType.NoGrouping,\n",
            "            0,\n",
            "            poptorch.VariableRetrievalMode.OnePerGroup,\n",
            "        )\n",
            "\n",
            "# Compile model\n",
            "batch = next(iter(train_dl))\n",
            "res = poptorch_model(**{k: v.flatten(end_dim=1) for k, v in batch.items()})\n",
            "\n",
            "poptorch_model.detachFromDevice()"
         ]
      },
      {
         "attachments": {},
         "cell_type": "markdown",
         "metadata": {},
         "source": [
            "That's all we need to do to use FP16 weights! The triple scoring in TransE via L1 distance is also going to be performed in FP16, while - for stability reasons - the loss is always computed in FP32.\n",
            "\n",
            "To track the performance evolution during training, we will validate at a regular cadence on a set of 4000 triples sampled randomly from the validation set. We provide **no tail candidates** (hence, scoring each (h,r,?) query against all 2.5 million entities in the knowledge graph). As this would be too slow to do on a CPU, we will perform the task on the IPU using the BESS `TopKQueryBessKGE` (see the [Knowledge Graph Completion on YAGO3-10](2_yago_topk_prediction.ipynb) notebook for more details on this class and how to use it).\n",
            "\n",
            "To partition a custom set of triples (that is, not one of the \"official\" triple parts specified when creating `KGDataset`) on the fly, use the `PartitionedTripleSet.create_from_queries` function as follows."
         ]
      },
      {
         "cell_type": "code",
         "execution_count": 10,
         "metadata": {},
         "outputs": [
            {
               "name": "stdout",
               "output_type": "stream",
               "text": [
                  "Number of triples per h_shard:\n",
                  "[ 990 1029 1025  956]\n"
               ]
            }
         ],
         "source": [
            "n_sample_queries = 4000\n",
            "\n",
            "val_device_iterations = 2\n",
            "val_shard_bs = 512  \n",
            "\n",
            "# Partition a random subset of n_sample_queries triples taken from wikikg.triples[\"valid\"]\n",
            "subset_val_triples = wikikg.triples[\"valid\"][np.random.RandomState(seed=seed).choice(wikikg.triples[\"valid\"].shape[0], n_sample_queries)]\n",
            "sample_val_triples = PartitionedTripleSet.create_from_queries(wikikg, sharding, queries=subset_val_triples[:,:2],\n",
            "                                                               query_mode=\"hr\", ground_truth=subset_val_triples[:,2])                                                           \n",
            "\n",
            "candidate_sampler = PlaceholderNegativeSampler(corruption_scheme=\"t\", seed=seed)\n",
            "bs_sample = RigidShardedBatchSampler(partitioned_triple_set=sample_val_triples, negative_sampler=candidate_sampler, shard_bs=val_shard_bs,\n",
            "                                    batches_per_step=val_device_iterations, seed=seed, duplicate_batch=False, return_triple_idx=False)\n",
            "\n",
            "print(\"Number of triples per h_shard:\")\n",
            "print(sample_val_triples.triple_counts)"
         ]
      },
      {
         "cell_type": "code",
         "execution_count": 11,
         "metadata": {},
         "outputs": [
            {
               "name": "stdout",
               "output_type": "stream",
               "text": [
                  "head         torch.Size([2, 4, 512])       \n",
                  "relation     torch.Size([2, 4, 512])       \n",
                  "tail         torch.Size([2, 4, 512])       \n",
                  "triple_mask  torch.Size([2, 4, 512])       \n"
               ]
            }
         ],
         "source": [
            "val_options = poptorch.Options()\n",
            "val_options.replication_factor = sharding.n_shard\n",
            "val_options.deviceIterations(bs_sample.batches_per_step)\n",
            "val_options.outputMode(poptorch.OutputMode.All)\n",
            "\n",
            "sample_valid_dl = bs_sample.get_dataloader(options=val_options, shuffle=False, num_workers=2, persistent_workers=True)\n",
            "\n",
            "# Example batch\n",
            "val_batch = next(iter(sample_valid_dl))\n",
            "for k,v in val_batch.items():\n",
            "    print(f\"{k:<12} {str(v.shape):<30}\")"
         ]
      },
      {
         "cell_type": "code",
         "execution_count": 12,
         "metadata": {},
         "outputs": [
            {
               "name": "stderr",
               "output_type": "stream",
               "text": [
                  "[11:31:59.433] [poptorch:cpp] [warning] [DISPATCHER] Type coerced from Long to Int for tensor id 185\n",
                  "[11:31:59.450] [poptorch:cpp] [warning] [DISPATCHER] Type coerced from Long to Int for tensor id 242\n",
                  "[11:31:59.453] [poptorch:cpp] [warning] [DISPATCHER] Type coerced from Long to Int for tensor id 265\n",
                  "Graph compilation: 100%|██████████| 100/100 [02:10<00:00]\n",
                  "WARNING: The compile time engine option debug.branchRecordTile is set to \"5887\" when creating the Engine. (At compile-tile it was set to 1471)\n"
               ]
            }
         ],
         "source": [
            "# Inference model\n",
            "\n",
            "evaluation = Evaluation([\"mrr\"], worst_rank_infty=True, reduction=\"sum\")\n",
            "\n",
            "inf_model = TopKQueryBessKGE(k=10, candidate_sampler=candidate_sampler, score_fn=transe_score_fn, evaluation=evaluation, window_size=500)\n",
            "\n",
            "poptorch_inf_model = poptorch.inferenceModel(inf_model, options=val_options)\n",
            "\n",
            "poptorch_inf_model.entity_embedding.replicaGrouping(\n",
            "            poptorch.CommGroupType.NoGrouping,\n",
            "            0,\n",
            "            poptorch.VariableRetrievalMode.OnePerGroup,\n",
            "        )\n",
            "\n",
            "# Compile inference model\n",
            "val_res = poptorch_inf_model(**{k: v.flatten(end_dim=1) for k, v in val_batch.items()})\n",
            "\n",
            "poptorch_inf_model.detachFromDevice()"
         ]
      },
      {
         "attachments": {},
         "cell_type": "markdown",
         "metadata": {},
         "source": [
            "Let us train the model for 70 epochs, performing validation on the selected random set of triples every 10 epochs. This should take less than 10 minutes.\n",
            "\n",
            "Be aware that the interleaved execution scheme introduces some overhead for detaching and attaching the executables of the two different models to the available IPUs. This overhead is **not** included in the time measurements that we print out, as it can be significantly cut down by using two separate IPU-POD4 systems, one for training and one for validation. If you are running a session with at least 8 IPUs:\n",
            "\n",
            "* remove the `model.detachFromDevice()`, `model.attachToDevice()` parts of the code in the cells above\n",
            "* remove the `model.detachFromDevice()`, `model.attachToDevice()` parts of the code in the next cell\n",
            "* uncomment the 2 lines of code (`poptorch_model.copyWeightsToHost()` and `poptorch_inf_model.copyWeightsToDevice()`) in the next cell"
         ]
      },
      {
         "cell_type": "code",
         "execution_count": 13,
         "metadata": {},
         "outputs": [
            {
               "name": "stdout",
               "output_type": "stream",
               "text": [
                  "Epoch 1 loss: 11.531570 --- positive triples processed: 1.88e+07\n",
                  "Epoch duration (sec): 4.63044 (average step time: 0.04902)\n",
                  "Epoch 1 sample MRR: 0.0487 (validation time: 0.90021)\n",
                  "Epoch 2 loss: 10.928529 --- positive triples processed: 3.77e+07\n",
                  "Epoch duration (sec): 4.46293 (average step time: 0.04845)\n",
                  "Epoch 3 loss: 10.393398 --- positive triples processed: 5.65e+07\n",
                  "Epoch duration (sec): 4.46044 (average step time: 0.04835)\n",
                  "Epoch 4 loss: 9.872423 --- positive triples processed: 7.54e+07\n",
                  "Epoch duration (sec): 4.45202 (average step time: 0.04833)\n",
                  "Epoch 5 loss: 9.365119 --- positive triples processed: 9.42e+07\n",
                  "Epoch duration (sec): 4.45555 (average step time: 0.04837)\n",
                  "Epoch 6 loss: 8.897866 --- positive triples processed: 1.13e+08\n",
                  "Epoch duration (sec): 4.45599 (average step time: 0.04838)\n",
                  "Epoch 7 loss: 8.481203 --- positive triples processed: 1.32e+08\n",
                  "Epoch duration (sec): 4.45967 (average step time: 0.04838)\n",
                  "Epoch 8 loss: 8.123039 --- positive triples processed: 1.51e+08\n",
                  "Epoch duration (sec): 4.45960 (average step time: 0.04841)\n",
                  "Epoch 9 loss: 7.793664 --- positive triples processed: 1.70e+08\n",
                  "Epoch duration (sec): 4.45138 (average step time: 0.04832)\n",
                  "Epoch 10 loss: 7.491700 --- positive triples processed: 1.88e+08\n",
                  "Epoch duration (sec): 4.44967 (average step time: 0.04831)\n",
                  "Epoch 11 loss: 7.250824 --- positive triples processed: 2.07e+08\n",
                  "Epoch duration (sec): 4.45727 (average step time: 0.04837)\n",
                  "Epoch 11 sample MRR: 0.1998 (validation time: 0.88921)\n",
                  "Epoch 12 loss: 7.006339 --- positive triples processed: 2.26e+08\n",
                  "Epoch duration (sec): 4.45875 (average step time: 0.04841)\n",
                  "Epoch 13 loss: 6.802550 --- positive triples processed: 2.45e+08\n",
                  "Epoch duration (sec): 4.45740 (average step time: 0.04837)\n",
                  "Epoch 14 loss: 6.610226 --- positive triples processed: 2.64e+08\n",
                  "Epoch duration (sec): 4.45087 (average step time: 0.04832)\n",
                  "Epoch 15 loss: 6.443461 --- positive triples processed: 2.83e+08\n",
                  "Epoch duration (sec): 4.45106 (average step time: 0.04832)\n",
                  "Epoch 16 loss: 6.274873 --- positive triples processed: 3.01e+08\n",
                  "Epoch duration (sec): 4.45095 (average step time: 0.04832)\n",
                  "Epoch 17 loss: 6.166338 --- positive triples processed: 3.20e+08\n",
                  "Epoch duration (sec): 4.46272 (average step time: 0.04837)\n",
                  "Epoch 18 loss: 6.029775 --- positive triples processed: 3.39e+08\n",
                  "Epoch duration (sec): 4.46264 (average step time: 0.04835)\n",
                  "Epoch 19 loss: 5.925807 --- positive triples processed: 3.58e+08\n",
                  "Epoch duration (sec): 4.44914 (average step time: 0.04830)\n",
                  "Epoch 20 loss: 5.811540 --- positive triples processed: 3.77e+08\n",
                  "Epoch duration (sec): 4.45503 (average step time: 0.04836)\n",
                  "Epoch 21 loss: 5.717600 --- positive triples processed: 3.96e+08\n",
                  "Epoch duration (sec): 4.45545 (average step time: 0.04835)\n",
                  "Epoch 21 sample MRR: 0.2242 (validation time: 0.88937)\n",
                  "Epoch 22 loss: 5.607736 --- positive triples processed: 4.15e+08\n",
                  "Epoch duration (sec): 4.45966 (average step time: 0.04841)\n",
                  "Epoch 23 loss: 5.512718 --- positive triples processed: 4.33e+08\n",
                  "Epoch duration (sec): 4.45773 (average step time: 0.04836)\n",
                  "Epoch 24 loss: 5.438963 --- positive triples processed: 4.52e+08\n",
                  "Epoch duration (sec): 4.44872 (average step time: 0.04830)\n",
                  "Epoch 25 loss: 5.386785 --- positive triples processed: 4.71e+08\n",
                  "Epoch duration (sec): 4.45299 (average step time: 0.04834)\n",
                  "Epoch 26 loss: 5.312046 --- positive triples processed: 4.90e+08\n",
                  "Epoch duration (sec): 4.46432 (average step time: 0.04845)\n",
                  "Epoch 27 loss: 5.249508 --- positive triples processed: 5.09e+08\n",
                  "Epoch duration (sec): 4.46294 (average step time: 0.04834)\n",
                  "Epoch 28 loss: 5.203795 --- positive triples processed: 5.28e+08\n",
                  "Epoch duration (sec): 4.45766 (average step time: 0.04835)\n",
                  "Epoch 29 loss: 5.146550 --- positive triples processed: 5.46e+08\n",
                  "Epoch duration (sec): 4.45362 (average step time: 0.04835)\n",
                  "Epoch 30 loss: 5.083776 --- positive triples processed: 5.65e+08\n",
                  "Epoch duration (sec): 4.45276 (average step time: 0.04833)\n",
                  "Epoch 31 loss: 5.069836 --- positive triples processed: 5.84e+08\n",
                  "Epoch duration (sec): 4.45836 (average step time: 0.04836)\n",
                  "Epoch 31 sample MRR: 0.2298 (validation time: 0.88917)\n",
                  "Epoch 32 loss: 4.998534 --- positive triples processed: 6.03e+08\n",
                  "Epoch duration (sec): 4.47321 (average step time: 0.04856)\n",
                  "Epoch 33 loss: 4.931181 --- positive triples processed: 6.22e+08\n",
                  "Epoch duration (sec): 4.46438 (average step time: 0.04846)\n",
                  "Epoch 34 loss: 4.930185 --- positive triples processed: 6.41e+08\n",
                  "Epoch duration (sec): 4.46000 (average step time: 0.04842)\n",
                  "Epoch 35 loss: 4.865598 --- positive triples processed: 6.59e+08\n",
                  "Epoch duration (sec): 4.45806 (average step time: 0.04840)\n",
                  "Epoch 36 loss: 4.843223 --- positive triples processed: 6.78e+08\n",
                  "Epoch duration (sec): 4.46656 (average step time: 0.04849)\n",
                  "Epoch 37 loss: 4.822068 --- positive triples processed: 6.97e+08\n",
                  "Epoch duration (sec): 4.45503 (average step time: 0.04834)\n",
                  "Epoch 38 loss: 4.791678 --- positive triples processed: 7.16e+08\n",
                  "Epoch duration (sec): 4.46049 (average step time: 0.04834)\n",
                  "Epoch 39 loss: 4.747042 --- positive triples processed: 7.35e+08\n",
                  "Epoch duration (sec): 4.46478 (average step time: 0.04845)\n",
                  "Epoch 40 loss: 4.712585 --- positive triples processed: 7.54e+08\n",
                  "Epoch duration (sec): 4.45595 (average step time: 0.04837)\n",
                  "Epoch 41 loss: 4.726480 --- positive triples processed: 7.73e+08\n",
                  "Epoch duration (sec): 4.45397 (average step time: 0.04835)\n",
                  "Epoch 41 sample MRR: 0.2371 (validation time: 0.88925)\n",
                  "Epoch 42 loss: 4.670718 --- positive triples processed: 7.91e+08\n",
                  "Epoch duration (sec): 4.47478 (average step time: 0.04858)\n",
                  "Epoch 43 loss: 4.640956 --- positive triples processed: 8.10e+08\n",
                  "Epoch duration (sec): 4.46740 (average step time: 0.04847)\n",
                  "Epoch 44 loss: 4.637320 --- positive triples processed: 8.29e+08\n",
                  "Epoch duration (sec): 4.46727 (average step time: 0.04849)\n",
                  "Epoch 45 loss: 4.626661 --- positive triples processed: 8.48e+08\n",
                  "Epoch duration (sec): 4.47074 (average step time: 0.04852)\n",
                  "Epoch 46 loss: 4.573771 --- positive triples processed: 8.67e+08\n",
                  "Epoch duration (sec): 4.45824 (average step time: 0.04840)\n",
                  "Epoch 47 loss: 4.575761 --- positive triples processed: 8.86e+08\n",
                  "Epoch duration (sec): 4.45201 (average step time: 0.04833)\n",
                  "Epoch 48 loss: 4.561954 --- positive triples processed: 9.04e+08\n",
                  "Epoch duration (sec): 4.46906 (average step time: 0.04849)\n",
                  "Epoch 49 loss: 4.552754 --- positive triples processed: 9.23e+08\n",
                  "Epoch duration (sec): 4.47869 (average step time: 0.04861)\n",
                  "Epoch 50 loss: 4.558055 --- positive triples processed: 9.42e+08\n",
                  "Epoch duration (sec): 4.46707 (average step time: 0.04849)\n",
                  "Epoch 51 loss: 4.526573 --- positive triples processed: 9.61e+08\n",
                  "Epoch duration (sec): 4.47715 (average step time: 0.04860)\n",
                  "Epoch 51 sample MRR: 0.2453 (validation time: 0.88930)\n",
                  "Epoch 52 loss: 4.476132 --- positive triples processed: 9.80e+08\n",
                  "Epoch duration (sec): 4.48011 (average step time: 0.04863)\n",
                  "Epoch 53 loss: 4.485842 --- positive triples processed: 9.99e+08\n",
                  "Epoch duration (sec): 4.47014 (average step time: 0.04851)\n",
                  "Epoch 54 loss: 4.489500 --- positive triples processed: 1.02e+09\n",
                  "Epoch duration (sec): 4.46577 (average step time: 0.04846)\n",
                  "Epoch 55 loss: 4.465565 --- positive triples processed: 1.04e+09\n",
                  "Epoch duration (sec): 4.47337 (average step time: 0.04852)\n",
                  "Epoch 56 loss: 4.458960 --- positive triples processed: 1.06e+09\n",
                  "Epoch duration (sec): 4.46647 (average step time: 0.04849)\n",
                  "Epoch 57 loss: 4.434030 --- positive triples processed: 1.07e+09\n",
                  "Epoch duration (sec): 4.49349 (average step time: 0.04878)\n",
                  "Epoch 58 loss: 4.426717 --- positive triples processed: 1.09e+09\n",
                  "Epoch duration (sec): 4.46996 (average step time: 0.04851)\n",
                  "Epoch 59 loss: 4.436798 --- positive triples processed: 1.11e+09\n",
                  "Epoch duration (sec): 4.47412 (average step time: 0.04857)\n",
                  "Epoch 60 loss: 4.442970 --- positive triples processed: 1.13e+09\n",
                  "Epoch duration (sec): 4.47622 (average step time: 0.04858)\n",
                  "Epoch 61 loss: 4.408658 --- positive triples processed: 1.15e+09\n",
                  "Epoch duration (sec): 4.46309 (average step time: 0.04840)\n",
                  "Epoch 61 sample MRR: 0.2913 (validation time: 0.88959)\n",
                  "Epoch 62 loss: 4.397302 --- positive triples processed: 1.17e+09\n",
                  "Epoch duration (sec): 4.47427 (average step time: 0.04857)\n",
                  "Epoch 63 loss: 4.369844 --- positive triples processed: 1.19e+09\n",
                  "Epoch duration (sec): 4.46642 (average step time: 0.04845)\n",
                  "Epoch 64 loss: 4.409693 --- positive triples processed: 1.21e+09\n",
                  "Epoch duration (sec): 4.47179 (average step time: 0.04849)\n",
                  "Epoch 65 loss: 4.369078 --- positive triples processed: 1.22e+09\n",
                  "Epoch duration (sec): 4.47050 (average step time: 0.04852)\n",
                  "Epoch 66 loss: 4.404485 --- positive triples processed: 1.24e+09\n",
                  "Epoch duration (sec): 4.48751 (average step time: 0.04870)\n",
                  "Epoch 67 loss: 4.366830 --- positive triples processed: 1.26e+09\n",
                  "Epoch duration (sec): 4.52074 (average step time: 0.04905)\n",
                  "Epoch 68 loss: 4.355531 --- positive triples processed: 1.28e+09\n",
                  "Epoch duration (sec): 4.49761 (average step time: 0.04882)\n",
                  "Epoch 69 loss: 4.363218 --- positive triples processed: 1.30e+09\n",
                  "Epoch duration (sec): 4.46000 (average step time: 0.04841)\n",
                  "Epoch 70 loss: 4.352522 --- positive triples processed: 1.32e+09\n",
                  "Epoch duration (sec): 4.49433 (average step time: 0.04879)\n"
               ]
            },
            {
               "data": {
                  "image/png": "[encoded data removed]",
                  "text/plain": [
                     "<Figure size 640x480 with 2 Axes>"
                  ]
               },
               "metadata": {},
               "output_type": "display_data"
            }
         ],
         "source": [
            "n_epochs = 70\n",
            "val_ep_interval = 10\n",
            "\n",
            "cumulative_triples = 0\n",
            "training_loss = []\n",
            "val_mrr = []\n",
            "poptorch_model.attachToDevice()\n",
            "for ep in range(n_epochs):\n",
            "    ep_start_time = time.time()\n",
            "    ep_log = []\n",
            "    for batch in train_dl:\n",
            "        step_start_time = time.time()\n",
            "        cumulative_triples += batch[\"head\"].numel()\n",
            "        res = poptorch_model(**{k: v.flatten(end_dim=1) for k, v in batch.items()})\n",
            "        ep_log.append(dict(loss= float(torch.sum(res[\"loss\"])) / batch[\"head\"][0].numel(), step_time=(time.time()-step_start_time)))\n",
            "    ep_loss = [v['loss'] for v in ep_log]\n",
            "    training_loss.extend([v['loss'] for v in ep_log])\n",
            "    print(f\"Epoch {ep+1} loss: {np.mean(ep_loss):.6f} --- positive triples processed: {cumulative_triples:.2e}\")\n",
            "    print(f\"Epoch duration (sec): {(time.time() - ep_start_time):.5f} (average step time: {np.mean([v['step_time'] for v in ep_log]):.5f})\")\n",
            "    if ep % val_ep_interval == 0:\n",
            "        poptorch_model.detachFromDevice()\n",
            "        poptorch_inf_model.attachToDevice()\n",
            "        # If running training and inference on separate devices, uncomment the following 2 lines:\n",
            "        # poptorch_model.copyWeightsToHost()\n",
            "        # poptorch_inf_model.copyWeightsToDevice()\n",
            "        val_start_time = time.time()\n",
            "        ep_mrr = 0.0\n",
            "        for batch_val in sample_valid_dl:\n",
            "            ep_mrr += poptorch_inf_model(**{k: v.flatten(end_dim=1) for k, v in batch_val.items()})[\"metrics\"].sum()\n",
            "        ep_mrr /= n_sample_queries  \n",
            "        val_mrr.append(ep_mrr)\n",
            "        print(f\"Epoch {ep+1} sample MRR: {ep_mrr:.4f} (validation time: {(time.time() - val_start_time):.5f})\")\n",
            "        poptorch_inf_model.detachFromDevice()\n",
            "        poptorch_model.attachToDevice()\n",
            "\n",
            "# Plot loss and sample MRR as a function of the number of positive triples processed\n",
            "total_triples = np.cumsum(n_epochs * len(train_dl) * [batch[\"head\"].numel()])\n",
            "ax0, ax1 = plt.gca(), plt.twinx()\n",
            "line0, = ax0.plot(total_triples, training_loss)\n",
            "line1, = ax1.plot(total_triples[::val_ep_interval * len(train_dl)], val_mrr, color=\"r\")\n",
            "ax0.set_xlabel(\"Positive triples\")\n",
            "ax0.set_ylabel(\"Loss\")\n",
            "ax1.set_ylabel(\"Sample MRR\")\n",
            "plt.legend([line0, line1], [\"Loss\", \"MRR\"], loc=\"upper left\")\n",
            "\n",
            "poptorch_model.detachFromDevice()\n",
            "del train_dl\n",
            "del sample_valid_dl"
         ]
      },
      {
         "attachments": {},
         "cell_type": "markdown",
         "metadata": {},
         "source": [
            "Let us compute the final MRR on the whole validation set, containing 429k+ triples. Once again, even though the dataset provides 500 candidate tails for each triple, here we are actually scoring queries against **all entities** in the dataset."
         ]
      },
      {
         "cell_type": "code",
         "execution_count": 14,
         "metadata": {},
         "outputs": [
            {
               "name": "stdout",
               "output_type": "stream",
               "text": [
                  "Number of triples per h_shard:\n",
                  "[107164 107068 108307 106917]\n"
               ]
            }
         ],
         "source": [
            "validation_triples = PartitionedTripleSet.create_from_dataset(wikikg, \"valid\", sharding, partition_mode=\"h_shard\")\n",
            "bs_valid = RigidShardedBatchSampler(partitioned_triple_set=validation_triples, negative_sampler=candidate_sampler, shard_bs=val_shard_bs,\n",
            "                                    batches_per_step=val_device_iterations, seed=seed)\n",
            "\n",
            "print(\"Number of triples per h_shard:\")\n",
            "print(validation_triples.triple_counts)\n",
            "\n",
            "valid_dl = bs_valid.get_dataloader(options=val_options, shuffle=False, num_workers=3)"
         ]
      },
      {
         "cell_type": "code",
         "execution_count": 15,
         "metadata": {},
         "outputs": [
            {
               "name": "stdout",
               "output_type": "stream",
               "text": [
                  "Validation MRR: 0.271450400352478\n",
                  "Validation time (sec): 47.11216\n"
               ]
            }
         ],
         "source": [
            "poptorch_inf_model.attachToDevice()\n",
            "\n",
            "val_mrr = 0.0\n",
            "start_time = time.time()\n",
            "n_val_queries = 0\n",
            "for batch_val in valid_dl:\n",
            "    n_val_queries += batch_val[\"triple_mask\"].sum()\n",
            "    val_mrr += poptorch_inf_model(**{k: v.flatten(end_dim=1) for k, v in batch_val.items()})[\"metrics\"].sum()\n",
            "\n",
            "print(f\"Validation MRR: {val_mrr / n_val_queries}\")\n",
            "print(f\"Validation time (sec): {(time.time() - start_time):.5f}\")\n",
            "\n",
            "poptorch_inf_model.detachFromDevice()\n",
            "del valid_dl"
         ]
      },
      {
         "attachments": {},
         "cell_type": "markdown",
         "metadata": {},
         "source": [
            "## Validation (vs candidate tails)\n",
            "\n",
            "Now we can check the metrics when scoring validation queries only against the provided candidates.\n",
            "\n",
            "Similarly to what we did in the [KGE Training and Inference on OGBL-BioKG](1_biokg_training_inference.ipynb) notebook, we use `TripleBasedShardedNegativeSampler` to provide the model with the triple-specific candidate tails."
         ]
      },
      {
         "cell_type": "code",
         "execution_count": 16,
         "metadata": {},
         "outputs": [
            {
               "name": "stdout",
               "output_type": "stream",
               "text": [
                  "head            torch.Size([10, 4, 4, 64])          torch.int32;\n",
                  "relation        torch.Size([10, 4, 4, 64])          torch.int32;\n",
                  "tail            torch.Size([10, 4, 4, 64])          torch.int32;\n",
                  "triple_mask     torch.Size([10, 4, 4, 64])          torch.bool;\n",
                  "negative        torch.Size([10, 4, 4, 256, 172])    torch.int32;\n",
                  "negative_mask   torch.Size([10, 4, 256, 4, 172])    torch.bool;\n"
               ]
            }
         ],
         "source": [
            "validation_triples = PartitionedTripleSet.create_from_dataset(dataset=wikikg, part=\"valid\", sharding=sharding, partition_mode=\"ht_shardpair\")\n",
            "ns_valid = TripleBasedShardedNegativeSampler(negative_heads=validation_triples.neg_heads, negative_tails=validation_triples.neg_tails,\n",
            "                                             sharding=sharding, corruption_scheme=\"t\", seed=seed)\n",
            "# We do not need to duplicate_batch as we only want to score negative tails\n",
            "bs_valid = RigidShardedBatchSampler(partitioned_triple_set=validation_triples, negative_sampler=ns_valid, shard_bs=256, batches_per_step=10,\n",
            "                                    seed=seed, duplicate_batch=False)\n",
            "\n",
            "# Example batch\n",
            "idx_sampler = iter(bs_valid.get_dataloader_sampler(shuffle=False))\n",
            "for k,v in bs_valid[next(idx_sampler)].items():\n",
            "    print(f\"{k:<15} {str(v.shape):<35} {v.dtype};\")"
         ]
      },
      {
         "attachments": {},
         "cell_type": "markdown",
         "metadata": {},
         "source": [
            "As we see from the shape of `negative` and `negative_mask`, the 500 negative tails for each validation triple are retrieved in blocks of 172 entities from each of the 4 IPUs (with padding added where needed).\n",
            "\n",
            "We use the `ScoreMovingBessKGE` version of BESS, as recommended for performing inference against triple-specific sets of candidates."
         ]
      },
      {
         "cell_type": "code",
         "execution_count": 17,
         "metadata": {},
         "outputs": [
            {
               "name": "stderr",
               "output_type": "stream",
               "text": [
                  "[11:44:00.219] [poptorch:cpp] [warning] [DISPATCHER] Type coerced from Long to Int for tensor id 369\n",
                  "[11:44:00.221] [poptorch:cpp] [warning] [DISPATCHER] Type coerced from Long to Int for tensor id 375\n",
                  "Graph compilation: 100%|██████████| 100/100 [01:10<00:00]\n",
                  "WARNING: The compile time engine option debug.branchRecordTile is set to \"5887\" when creating the Engine. (At compile-tile it was set to 1471)\n"
               ]
            }
         ],
         "source": [
            "val_options = poptorch.Options()\n",
            "val_options.replication_factor = sharding.n_shard\n",
            "val_options.deviceIterations(bs_valid.batches_per_step)\n",
            "val_options.outputMode(poptorch.OutputMode.All)\n",
            "\n",
            "valid_dl = bs_valid.get_dataloader(options=val_options, shuffle=False, num_workers=3, persistent_workers=True)\n",
            "\n",
            "# Each triple is now to be scored against a specific set of negatives, so we turn off negative sample sharing\n",
            "transe_score_fn.negative_sample_sharing = False\n",
            "\n",
            "evaluation = Evaluation([\"mrr\", \"hits@1\", \"hits@5\", \"hits@10\"], reduction=\"sum\")\n",
            "model_inf = ScoreMovingBessKGE(negative_sampler=ns_valid, score_fn=transe_score_fn, evaluation=evaluation)\n",
            "\n",
            "poptorch_model_inf = poptorch.inferenceModel(model_inf, options=val_options)\n",
            "\n",
            "poptorch_model_inf.entity_embedding.replicaGrouping(\n",
            "            poptorch.CommGroupType.NoGrouping,\n",
            "            0,\n",
            "            poptorch.VariableRetrievalMode.OnePerGroup,\n",
            "        )\n",
            "\n",
            "# Compile model\n",
            "batch = next(iter(valid_dl))\n",
            "res = poptorch_model_inf(**{k: v.flatten(end_dim=1) for k, v in batch.items()})"
         ]
      },
      {
         "cell_type": "code",
         "execution_count": 18,
         "metadata": {},
         "outputs": [
            {
               "name": "stdout",
               "output_type": "stream",
               "text": [
                  "hits@1 : 0.864221\n",
                  "hits@5 : 0.938641\n",
                  "hits@10 : 0.952705\n",
                  "mrr : 0.898410\n",
                  "Validation time (sec): 0.93663\n"
               ]
            }
         ],
         "source": [
            "val_log = []\n",
            "start_time = time.time()\n",
            "n_val_queries = 0\n",
            "for batch_val in valid_dl:\n",
            "    res = poptorch_model_inf(**{k: v.flatten(end_dim=1) for k, v in batch_val.items()})\n",
            "    n_val_queries += batch_val[\"triple_mask\"].sum()\n",
            "    # By transposing res[\"metrics\"] we separate the outputs for the different metrics\n",
            "    val_log.append({k: v.sum() for k, v in zip(\n",
            "                        evaluation.metrics.keys(),\n",
            "                        res[\"metrics\"].T,\n",
            "                    )})\n",
            "\n",
            "for metric in val_log[0].keys():\n",
            "    reduced_metric = sum([l[metric] for l in val_log]) / n_val_queries\n",
            "    print(\"%s : %f\" % (metric, reduced_metric))\n",
            "print(f\"Validation time (sec): {(time.time() - start_time):.5f}\")\n",
            "\n",
            "poptorch_model_inf.detachFromDevice()\n",
            "del valid_dl"
         ]
      },
      {
         "attachments": {},
         "cell_type": "markdown",
         "metadata": {},
         "source": [
            "Notice that, in this dataset, predicting tails is easier than predicting heads. \n",
            "\n",
            "Want to see how the model we trained performs on the complete task (scoring queries against candidate heads + candidate tails), to compare with the TransE (100dim) result on the [OGB leaderboard](https://ogb.stanford.edu/docs/leader_linkprop/#ogbl-wikikg2)? Just set `corruption_scheme=\"ht\"` when creating the `TripleBasedShardedNegativeSampler` object and `duplicate_batch=True` in the `RigidShardedBatchSampler` and re-run the last three code cells. If this is the aim, however, you might want to corrupt both heads and tails already during training. You can do this by changing the corruption scheme of `RandomShardedNegativeSampler` accordingly before [starting training](#Interleaved-training-and-validation-(vs-all))."
         ]
      }
   ],
   "metadata": {
      "kernelspec": {
         "display_name": ".venv3.2",
         "language": "python",
         "name": "python3"
      },
      "language_info": {
         "codemirror_mode": {
            "name": "ipython",
            "version": 3
         },
         "file_extension": ".py",
         "mimetype": "text/x-python",
         "name": "python",
         "nbconvert_exporter": "python",
         "pygments_lexer": "ipython3",
         "version": "3.8.10"
      },
      "orig_nbformat": 4
   },
   "nbformat": 4,
   "nbformat_minor": 2
}