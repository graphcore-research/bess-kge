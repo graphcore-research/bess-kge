{
   "cells": [
      {
         "attachments": {},
         "cell_type": "markdown",
         "metadata": {},
         "source": [
            "# FP16 embeddings on OGBL-WikiKG2\n",
            "\n",
            "<em>Copyright (c) 2023 Graphcore Ltd. All rights reserved.</em>\n",
            "\n",
            "BESS-KGE (`besskge`) is a PyTorch library for knowledge graph embedding (KGE) models on IPUs implementing the distribution framework [BESS](https://arxiv.org/abs/2211.12281), with embedding tables stored in the IPU SRAM.\n",
            "\n",
            "The aim of this notebook is to show how to use FP16 weights to reduce memory requirements for KGE models and speed up computations. This is especially important when dealing with knowledge graphs with a large number of entities, whose embeddings - if stored in FP32 - would require too many IPUs.\n",
            "\n",
            "As a study case we look at the [ogbl-wikikg2](https://ogb.stanford.edu/docs/linkprop/#ogbl-wikikg2) dataset, a knowledge graph containing 2.5M entities.\n",
            "\n",
            "If you have not already done so, we suggest running the [KGE Training and Inference on OGBL-BioKG](1_biokg_training_inference.ipynb) notebook to get familiar with the basic functionalities of the BESS-KGE library."
         ]
      },
      {
         "attachments": {},
         "cell_type": "markdown",
         "metadata": {},
         "source": [
            "## Environment setup\n",
            "\n",
            "To run the demo using IPU hardware, you need to have the Poplar SDK enabled and a PopTorch wheel installed. Refer to the [Getting Started guide](https://docs.graphcore.ai/en/latest/getting-started.html#getting-started) for your system for details on how to do this. Also refer to the [Jupyter Quick Start guide](https://docs.graphcore.ai/projects/jupyter-notebook-quick-start/en/latest/index.html) for how to set up Jupyter to be able to run this notebook on a remote IPU machine."
         ]
      },
      {
         "attachments": {},
         "cell_type": "markdown",
         "metadata": {},
         "source": [
            "## Dependencies"
         ]
      },
      {
         "attachments": {},
         "cell_type": "markdown",
         "metadata": {},
         "source": [
            "We recommend that you install `besskge` directly from the GitHub sources:"
         ]
      },
      {
         "cell_type": "code",
         "execution_count": 1,
         "metadata": {},
         "outputs": [
            {
               "name": "stdout",
               "output_type": "stream",
               "text": [
                  "Found existing installation: besskge 0.1\n",
                  "Uninstalling besskge-0.1:\n",
                  "  Successfully uninstalled besskge-0.1\n"
               ]
            }
         ],
         "source": [
            "import sys\n",
            "!{sys.executable} -m pip uninstall -y besskge\n",
            "!pip install -q git+https://github.com/graphcore-research/bess-kge.git\n",
            "\n",
            "!pip install -q matplotlib"
         ]
      },
      {
         "attachments": {},
         "cell_type": "markdown",
         "metadata": {},
         "source": [
            "Next, import the necessary dependencies. "
         ]
      },
      {
         "cell_type": "code",
         "execution_count": 1,
         "metadata": {},
         "outputs": [],
         "source": [
            "import os\n",
            "import pathlib\n",
            "import time\n",
            "\n",
            "import matplotlib.pyplot as plt\n",
            "import numpy as np\n",
            "import poptorch\n",
            "import torch\n",
            "\n",
            "from besskge.batch_sampler import RandomShardedBatchSampler, RigidShardedBatchSampler\n",
            "from besskge.bess import EmbeddingMovingBessKGE, ScoreMovingBessKGE, TopKQueryBessKGE\n",
            "from besskge.dataset import KGDataset\n",
            "from besskge.embedding import init_KGE_normal\n",
            "from besskge.loss import SampledSoftmaxCrossEntropyLoss\n",
            "from besskge.metric import Evaluation\n",
            "from besskge.negative_sampler import (\n",
            "    PlaceholderNegativeSampler,\n",
            "    RandomShardedNegativeSampler,\n",
            "    TripleBasedShardedNegativeSampler,\n",
            ")\n",
            "from besskge.scoring import TransE\n",
            "from besskge.sharding import PartitionedTripleSet, Sharding\n",
            "\n",
            "dataset_directory = os.getenv(\"DATASET_DIR\", \"../datasets/\") + \"/wikikg2/\""
         ]
      },
      {
         "attachments": {},
         "cell_type": "markdown",
         "metadata": {},
         "source": [
            "## Sharding entities and triples\n",
            "\n",
            "The OGBL-WikiKG2 dataset can be downloaded and preprocessed with the built-in method of `KGDataset`, `build_ogbl_wikikg2`. Sharding of entities and triples is performed as shown in the [KGE Training and Inference on OGBL-BioKG](1_biokg_training_inference.ipynb) notebook."
         ]
      },
      {
         "cell_type": "code",
         "execution_count": 2,
         "metadata": {},
         "outputs": [
            {
               "name": "stdout",
               "output_type": "stream",
               "text": [
                  "Number of entities: 2,500,604\n",
                  "\n",
                  "Number of relation types: 535\n",
                  "\n",
                  "Number of triples: \n",
                  " training: 16,109,182 \n",
                  " validation/test: 429,456\n",
                  "\n",
                  "Number of negative heads/tails for validation/test triples: 500\n"
               ]
            }
         ],
         "source": [
            "wikikg = KGDataset.build_ogbl_wikikg2(root=pathlib.Path(dataset_directory))\n",
            "\n",
            "print(f\"Number of entities: {wikikg.n_entity:,}\\n\")\n",
            "print(f\"Number of relation types: {wikikg.n_relation_type}\\n\")\n",
            "print(\n",
            "    f\"Number of triples: \\n training: {wikikg.triples['train'].shape[0]:,} \\n validation/test: {wikikg.triples['valid'].shape[0]:,}\\n\"\n",
            ")\n",
            "print(\n",
            "    f\"Number of negative heads/tails for validation/test triples: {wikikg.neg_heads['valid'].shape[-1]}\"\n",
            ")"
         ]
      },
      {
         "cell_type": "code",
         "execution_count": 28,
         "metadata": {},
         "outputs": [
            {
               "name": "stdout",
               "output_type": "stream",
               "text": [
                  "Number of total entities: 2,500,604\n",
                  "\n",
                  "Number of shards: 4\n",
                  "\n",
                  "Number of entities in each shard: 625,151\n",
                  "\n",
                  "Global entity IDs on 4 shards:\n",
                  " [[      0       5      10 ... 2500598 2500599 2500603]\n",
                  " [      2       9      11 ... 2500593 2500600 2500601]\n",
                  " [      6       7       8 ... 2500594 2500596 2500602]\n",
                  " [      1       3       4 ... 2500563 2500570 2500587]]\n",
                  "\n"
               ]
            }
         ],
         "source": [
            "# Train on 4 IPUs\n",
            "n_shard = 4\n",
            "\n",
            "seed = 432\n",
            "\n",
            "sharding = Sharding.create(n_entity=wikikg.n_entity, n_shard=n_shard, seed=seed)\n",
            "\n",
            "print(f\"Number of total entities: {sharding.n_entity:,}\\n\")\n",
            "\n",
            "print(f\"Number of shards: {sharding.n_shard}\\n\")\n",
            "\n",
            "print(f\"Number of entities in each shard: {sharding.max_entity_per_shard:,}\\n\")\n",
            "\n",
            "print(f\"Global entity IDs on {n_shard} shards:\\n {sharding.shard_and_idx_to_entity}\\n\")\n"
         ]
      },
      {
         "cell_type": "code",
         "execution_count": 29,
         "metadata": {},
         "outputs": [
            {
               "name": "stdout",
               "output_type": "stream",
               "text": [
                  "Number of triples per (h,t) shard-pair:\n",
                  " [[1113036  854970  876020 1182313]\n",
                  " [1111203  854342  876685 1182587]\n",
                  " [1113802  856550  877509 1185590]\n",
                  " [1111410  855467  875729 1181969]]\n"
               ]
            }
         ],
         "source": [
            "train_triples = PartitionedTripleSet.create_from_dataset(\n",
            "    dataset=wikikg, part=\"train\", sharding=sharding, partition_mode=\"ht_shardpair\"\n",
            ")\n",
            "\n",
            "print(f\"Number of triples per (h,t) shard-pair:\\n {train_triples.triple_counts}\")"
         ]
      },
      {
         "attachments": {},
         "cell_type": "markdown",
         "metadata": {},
         "source": [
            "## Interleaved training and validation (vs all)\n",
            "\n",
            "We use the `RandomShardedBatchSampler` batch sampler class, which creates a batch by randomly sampling (with replacement) a fixed number (=`batch_sampler.positive_per_partition`) of triples from each of the 16 shard-pairs.\n",
            "\n",
            "Negative entities, used to construct negative samples, are also sampled randomly using the `RandomShardedNegativeSampler` class. Here we construct negative samples by always corrupting the tail of positive triples, as specified by the choice `corruption_scheme=\"t\"`."
         ]
      },
      {
         "cell_type": "code",
         "execution_count": 30,
         "metadata": {},
         "outputs": [
            {
               "name": "stdout",
               "output_type": "stream",
               "text": [
                  "# triples per shard-pair per step: 128 \n",
                  "\n",
                  "head         torch.Size([100, 4, 4, 128])   torch.int32;\n",
                  "relation     torch.Size([100, 4, 4, 128])   torch.int32;\n",
                  "tail         torch.Size([100, 4, 4, 128])   torch.int32;\n",
                  "negative     torch.Size([100, 4, 4, 1, 32]) torch.int32;\n"
               ]
            }
         ],
         "source": [
            "device_iterations = 100\n",
            "accum_factor = 1\n",
            "shard_bs = 512\n",
            "\n",
            "neg_sampler = RandomShardedNegativeSampler(\n",
            "    n_negative=32,\n",
            "    sharding=sharding,\n",
            "    seed=seed,\n",
            "    corruption_scheme=\"t\",\n",
            "    local_sampling=False,\n",
            "    flat_negative_format=True,\n",
            ")\n",
            "\n",
            "batch_sampler = RandomShardedBatchSampler(\n",
            "    partitioned_triple_set=train_triples,\n",
            "    negative_sampler=neg_sampler,\n",
            "    shard_bs=shard_bs,\n",
            "    batches_per_step=device_iterations * accum_factor,\n",
            "    seed=seed,\n",
            ")\n",
            "\n",
            "\n",
            "print(f\"# triples per shard-pair per step: {batch_sampler.positive_per_partition} \\n\")\n",
            "\n",
            "# Example batch\n",
            "idx_sampler = iter(batch_sampler.get_dataloader_sampler(shuffle=True))\n",
            "for k, v in batch_sampler[next(idx_sampler)].items():\n",
            "    print(f\"{k:<12} {str(v.shape):<30} {v.dtype};\")"
         ]
      },
      {
         "attachments": {},
         "cell_type": "markdown",
         "metadata": {},
         "source": [
            "Notice from the `negative` shape that we are **decoupling** the number of negative samples from the batch size, by using the negative sampler option `flat_negative_format=True`. Instead of sampling negative entities on a triple basis, we sample them on a shard-pair basis. In this case, each pair of devices will exchange 32 negative entities in both directions (while, if using `flat_negative_format=False`, this number would need to be a multiple of the shard batch size - see for instance the shape of `negative` in the [KGE Training and Inference on OGBL-BioKG](1_biokg_training_inference.ipynb) notebook). This of course requires the use of negative sample sharing.\n",
            "\n",
            "Thanks to this decoupling we can increase the shard batch size without increasing the number of negative samples to score in each batch. This is important as we don't intend to use gradient accumulation (as specified by `accum_factor = 1`), thus saving on memory which would have been used by the weight accumulation tensors."
         ]
      },
      {
         "cell_type": "code",
         "execution_count": 31,
         "metadata": {},
         "outputs": [],
         "source": [
            "options = poptorch.Options()\n",
            "options.replication_factor = sharding.n_shard\n",
            "options.deviceIterations(device_iterations)\n",
            "options._popart.setPatterns(dict(RemoveAllReducePattern=True))\n",
            "\n",
            "# Enable stochastic rounding on IPU for more stable half-precision training\n",
            "options.Precision.enableStochasticRounding(True)\n",
            "\n",
            "train_dl = batch_sampler.get_dataloader(\n",
            "    options=options, shuffle=True, num_workers=3, persistent_workers=True\n",
            ")"
         ]
      },
      {
         "attachments": {},
         "cell_type": "markdown",
         "metadata": {},
         "source": [
            "We will train a simple **TransE** KGE model with an embedding size of 100, in order to fit the embedding tables in the SRAM of 4 IPUs, and use **sampled softmax cross entropy loss**.\n",
            "\n",
            "We specify a custom initialization scheme for entity and relation embedding tables using the `entity_initializer` and `relation_initializer` arguments of the scoring function. We can either pass directly the tensors of parameters (if we want to load a checkipoint) or a list of intialization functions (either from `torch.nn.init` or `besskge.embedding`).\n",
            "\n",
            "For this dataset we find it to be beneficial to construct negative samples by corrupting the tail of a positive triple using the randomly sampled negative entities in `negative` and also the **tails of the other positive triples** in the same micro-batch. This can be done simply by setting the flag `augment_negative=True` when instantiating the `EmbeddingMovingBessKGE` distribution scheme. This strategy also has the advantage of increasing the number of negative samples used in the contrastive loss without increasing the costs of gathering and communicating negative entities across IPUs."
         ]
      },
      {
         "cell_type": "code",
         "execution_count": 32,
         "metadata": {},
         "outputs": [
            {
               "name": "stdout",
               "output_type": "stream",
               "text": [
                  "# model parameters: 250,113,900\n"
               ]
            }
         ],
         "source": [
            "loss_fn = SampledSoftmaxCrossEntropyLoss(n_entity=wikikg.n_entity)\n",
            "# Initializer for entity and relation embeddings\n",
            "emb_initializer = [init_KGE_normal]\n",
            "transe_score_fn = TransE(\n",
            "    negative_sample_sharing=True,\n",
            "    scoring_norm=1,\n",
            "    sharding=sharding,\n",
            "    n_relation_type=wikikg.n_relation_type,\n",
            "    embedding_size=100,\n",
            "    entity_initializer=emb_initializer,\n",
            "    relation_initializer=emb_initializer,\n",
            ")\n",
            "\n",
            "model = EmbeddingMovingBessKGE(\n",
            "    negative_sampler=neg_sampler,\n",
            "    score_fn=transe_score_fn,\n",
            "    loss_fn=loss_fn,\n",
            "    augment_negative=True,\n",
            ")\n",
            "\n",
            "print(f\"# model parameters: {model.n_embedding_parameters:,}\")"
         ]
      },
      {
         "attachments": {},
         "cell_type": "markdown",
         "metadata": {},
         "source": [
            "As in standard PyTorch, we can use `model.half()` to **cast the embedding tables to FP16**, before wrapping the model in `poptorch.trainingModel`.\n",
            "\n",
            "We train with SGD momentum instead of Adam, for reduced optimizer state memory usage."
         ]
      },
      {
         "cell_type": "code",
         "execution_count": 33,
         "metadata": {},
         "outputs": [
            {
               "name": "stderr",
               "output_type": "stream",
               "text": [
                  "[10:58:06.333] [poptorch:cpp] [warning] [DISPATCHER] Tensor (ptr 0xa0c3650) type coerced from Long to Int\n",
                  "Graph compilation: 100%|██████████| 100/100 [02:19<00:00]\n"
               ]
            }
         ],
         "source": [
            "# FP16 weights\n",
            "model.half()\n",
            "\n",
            "opt = poptorch.optim.SGD(\n",
            "    model.parameters(),\n",
            "    lr=0.001,\n",
            "    momentum=0.95,\n",
            "    velocity_accum_type=torch.float16,\n",
            ")\n",
            "\n",
            "poptorch_model = poptorch.trainingModel(model, options=options, optimizer=opt)\n",
            "\n",
            "# The variable entity_embedding needs to hold different values on each replica,\n",
            "# corresponding to the shards of the entity embedding table\n",
            "poptorch_model.entity_embedding.replicaGrouping(\n",
            "    poptorch.CommGroupType.NoGrouping,\n",
            "    0,\n",
            "    poptorch.VariableRetrievalMode.OnePerGroup,\n",
            ")\n",
            "\n",
            "# Compile model\n",
            "batch = next(iter(train_dl))\n",
            "res = poptorch_model(**{k: v.flatten(end_dim=1) for k, v in batch.items()})\n",
            "\n",
            "poptorch_model.detachFromDevice()"
         ]
      },
      {
         "attachments": {},
         "cell_type": "markdown",
         "metadata": {},
         "source": [
            "That's all we need to do to use FP16 weights! The triple scoring in TransE via L1 distance is also going to be performed in FP16, while - for stability reasons - the loss is always computed in FP32.\n",
            "\n",
            "To track the performance evolution during training, we will validate at a regular cadence on a set of 4000 triples sampled randomly from the validation set. We provide **no tail candidates** (hence, scoring each (h,r,?) query against all 2.5 million entities in the knowledge graph). As this would be too slow to do on a CPU, we will perform the task on the IPU using the BESS `TopKQueryBessKGE` (see the [Knowledge Graph Completion on YAGO3-10](2_yago_topk_prediction.ipynb) notebook for more details on this class and how to use it).\n",
            "\n",
            "To partition a custom set of triples (that is, not one of the \"official\" triple parts specified when creating `KGDataset`) on the fly, use the `PartitionedTripleSet.create_from_queries` function as follows."
         ]
      },
      {
         "cell_type": "code",
         "execution_count": 34,
         "metadata": {},
         "outputs": [
            {
               "name": "stdout",
               "output_type": "stream",
               "text": [
                  "Number of triples per h_shard:\n",
                  "[ 987 1035  990  988]\n"
               ]
            }
         ],
         "source": [
            "n_sample_queries = 4000\n",
            "\n",
            "val_device_iterations = 2\n",
            "val_shard_bs = 512\n",
            "\n",
            "# Partition a random subset of n_sample_queries triples taken from wikikg.triples[\"valid\"]\n",
            "subset_val_triples = wikikg.triples[\"valid\"][\n",
            "    np.random.default_rng(seed=seed).choice(\n",
            "        wikikg.triples[\"valid\"].shape[0], n_sample_queries\n",
            "    )\n",
            "]\n",
            "sample_val_triples = PartitionedTripleSet.create_from_queries(\n",
            "    wikikg,\n",
            "    sharding,\n",
            "    queries=subset_val_triples[:, :2],\n",
            "    query_mode=\"hr\",\n",
            "    ground_truth=subset_val_triples[:, 2],\n",
            ")\n",
            "\n",
            "candidate_sampler = PlaceholderNegativeSampler(corruption_scheme=\"t\", seed=seed)\n",
            "bs_sample = RigidShardedBatchSampler(\n",
            "    partitioned_triple_set=sample_val_triples,\n",
            "    negative_sampler=candidate_sampler,\n",
            "    shard_bs=val_shard_bs,\n",
            "    batches_per_step=val_device_iterations,\n",
            "    seed=seed,\n",
            "    duplicate_batch=False,\n",
            "    return_triple_idx=False,\n",
            ")\n",
            "\n",
            "print(\"Number of triples per h_shard:\")\n",
            "print(sample_val_triples.triple_counts)"
         ]
      },
      {
         "cell_type": "code",
         "execution_count": 35,
         "metadata": {},
         "outputs": [
            {
               "name": "stdout",
               "output_type": "stream",
               "text": [
                  "head         torch.Size([2, 4, 512])       \n",
                  "relation     torch.Size([2, 4, 512])       \n",
                  "tail         torch.Size([2, 4, 512])       \n",
                  "triple_mask  torch.Size([2, 4, 512])       \n"
               ]
            }
         ],
         "source": [
            "val_options = poptorch.Options()\n",
            "val_options.replication_factor = sharding.n_shard\n",
            "val_options.deviceIterations(bs_sample.batches_per_step)\n",
            "val_options.outputMode(poptorch.OutputMode.All)\n",
            "\n",
            "sample_valid_dl = bs_sample.get_dataloader(\n",
            "    options=val_options, shuffle=False, num_workers=2, persistent_workers=True\n",
            ")\n",
            "\n",
            "# Example batch\n",
            "val_batch = next(iter(sample_valid_dl))\n",
            "for k, v in val_batch.items():\n",
            "    print(f\"{k:<12} {str(v.shape):<30}\")"
         ]
      },
      {
         "cell_type": "code",
         "execution_count": 36,
         "metadata": {},
         "outputs": [
            {
               "name": "stderr",
               "output_type": "stream",
               "text": [
                  "[11:01:13.333] [poptorch:cpp] [warning] [DISPATCHER] Type coerced from Long to Int for tensor id 185\n",
                  "[11:01:13.351] [poptorch:cpp] [warning] [DISPATCHER] Type coerced from Long to Int for tensor id 242\n",
                  "[11:01:13.354] [poptorch:cpp] [warning] [DISPATCHER] Type coerced from Long to Int for tensor id 265\n",
                  "Graph compilation: 100%|██████████| 100/100 [02:10<00:00]\n"
               ]
            }
         ],
         "source": [
            "# Inference model\n",
            "\n",
            "evaluation = Evaluation([\"mrr\"], worst_rank_infty=True, reduction=\"sum\")\n",
            "\n",
            "inf_model = TopKQueryBessKGE(\n",
            "    k=10,\n",
            "    candidate_sampler=candidate_sampler,\n",
            "    score_fn=transe_score_fn,\n",
            "    evaluation=evaluation,\n",
            "    window_size=500,\n",
            ")\n",
            "\n",
            "poptorch_inf_model = poptorch.inferenceModel(inf_model, options=val_options)\n",
            "\n",
            "poptorch_inf_model.entity_embedding.replicaGrouping(\n",
            "    poptorch.CommGroupType.NoGrouping,\n",
            "    0,\n",
            "    poptorch.VariableRetrievalMode.OnePerGroup,\n",
            ")\n",
            "\n",
            "# Compile inference model\n",
            "val_res = poptorch_inf_model(**{k: v.flatten(end_dim=1) for k, v in val_batch.items()})\n",
            "\n",
            "poptorch_inf_model.detachFromDevice()"
         ]
      },
      {
         "attachments": {},
         "cell_type": "markdown",
         "metadata": {},
         "source": [
            "Let us train the model for 70 epochs, performing validation on the selected random set of triples every 10 epochs. This should take less than 10 minutes.\n",
            "\n",
            "Be aware that the interleaved execution scheme introduces some overhead for detaching and attaching the executables of the two different models to the available IPUs. This overhead is **not** included in the time measurements that we print out, as it can be significantly cut down by using two separate IPU-POD4 systems, one for training and one for validation. If you are running a session with at least 8 IPUs:\n",
            "\n",
            "* remove the `model.detachFromDevice()`, `model.attachToDevice()` parts of the code in the cells above\n",
            "* remove the `model.detachFromDevice()`, `model.attachToDevice()` parts of the code in the next cell\n",
            "* uncomment the 2 lines of code (`poptorch_model.copyWeightsToHost()` and `poptorch_inf_model.copyWeightsToDevice()`) in the next cell"
         ]
      },
      {
         "cell_type": "code",
         "execution_count": 37,
         "metadata": {},
         "outputs": [
            {
               "name": "stdout",
               "output_type": "stream",
               "text": [
                  "Epoch 1 loss: 11.539560 --- positive triples processed: 1.90e+07\n",
                  "Epoch duration (sec): 4.60964 (average step time: 0.04855)\n",
                  "Epoch 1 sample MRR: 0.0526 (validation time: 0.89469)\n",
                  "Epoch 2 loss: 10.939403 --- positive triples processed: 3.81e+07\n",
                  "Epoch duration (sec): 4.46646 (average step time: 0.04796)\n",
                  "Epoch 3 loss: 10.406051 --- positive triples processed: 5.71e+07\n",
                  "Epoch duration (sec): 4.46946 (average step time: 0.04799)\n",
                  "Epoch 4 loss: 9.870989 --- positive triples processed: 7.62e+07\n",
                  "Epoch duration (sec): 4.46372 (average step time: 0.04792)\n",
                  "Epoch 5 loss: 9.366117 --- positive triples processed: 9.52e+07\n",
                  "Epoch duration (sec): 4.46765 (average step time: 0.04797)\n",
                  "Epoch 6 loss: 8.915543 --- positive triples processed: 1.14e+08\n",
                  "Epoch duration (sec): 4.46673 (average step time: 0.04793)\n",
                  "Epoch 7 loss: 8.497296 --- positive triples processed: 1.33e+08\n",
                  "Epoch duration (sec): 4.46252 (average step time: 0.04791)\n",
                  "Epoch 8 loss: 8.151726 --- positive triples processed: 1.52e+08\n",
                  "Epoch duration (sec): 4.46434 (average step time: 0.04794)\n",
                  "Epoch 9 loss: 7.814506 --- positive triples processed: 1.71e+08\n",
                  "Epoch duration (sec): 4.47936 (average step time: 0.04806)\n",
                  "Epoch 10 loss: 7.515382 --- positive triples processed: 1.90e+08\n",
                  "Epoch duration (sec): 4.46475 (average step time: 0.04792)\n",
                  "Epoch 11 loss: 7.257089 --- positive triples processed: 2.10e+08\n",
                  "Epoch duration (sec): 4.48401 (average step time: 0.04813)\n",
                  "Epoch 11 sample MRR: 0.1915 (validation time: 0.88983)\n",
                  "Epoch 12 loss: 7.029889 --- positive triples processed: 2.29e+08\n",
                  "Epoch duration (sec): 4.46270 (average step time: 0.04793)\n",
                  "Epoch 13 loss: 6.819004 --- positive triples processed: 2.48e+08\n",
                  "Epoch duration (sec): 4.46902 (average step time: 0.04793)\n",
                  "Epoch 14 loss: 6.635813 --- positive triples processed: 2.67e+08\n",
                  "Epoch duration (sec): 4.46475 (average step time: 0.04789)\n",
                  "Epoch 15 loss: 6.465908 --- positive triples processed: 2.86e+08\n",
                  "Epoch duration (sec): 4.48516 (average step time: 0.04816)\n",
                  "Epoch 16 loss: 6.318337 --- positive triples processed: 3.05e+08\n",
                  "Epoch duration (sec): 4.46776 (average step time: 0.04796)\n",
                  "Epoch 17 loss: 6.191060 --- positive triples processed: 3.24e+08\n",
                  "Epoch duration (sec): 4.47195 (average step time: 0.04800)\n",
                  "Epoch 18 loss: 6.085122 --- positive triples processed: 3.43e+08\n",
                  "Epoch duration (sec): 4.53764 (average step time: 0.04864)\n",
                  "Epoch 19 loss: 5.934304 --- positive triples processed: 3.62e+08\n",
                  "Epoch duration (sec): 4.57562 (average step time: 0.04905)\n",
                  "Epoch 20 loss: 5.842280 --- positive triples processed: 3.81e+08\n",
                  "Epoch duration (sec): 4.45862 (average step time: 0.04787)\n",
                  "Epoch 21 loss: 5.762109 --- positive triples processed: 4.00e+08\n",
                  "Epoch duration (sec): 4.47655 (average step time: 0.04803)\n",
                  "Epoch 21 sample MRR: 0.2267 (validation time: 0.88997)\n",
                  "Epoch 22 loss: 5.660895 --- positive triples processed: 4.19e+08\n",
                  "Epoch duration (sec): 4.46483 (average step time: 0.04795)\n",
                  "Epoch 23 loss: 5.580583 --- positive triples processed: 4.38e+08\n",
                  "Epoch duration (sec): 4.45884 (average step time: 0.04788)\n",
                  "Epoch 24 loss: 5.500723 --- positive triples processed: 4.57e+08\n",
                  "Epoch duration (sec): 4.46727 (average step time: 0.04793)\n",
                  "Epoch 25 loss: 5.435099 --- positive triples processed: 4.76e+08\n",
                  "Epoch duration (sec): 4.46389 (average step time: 0.04793)\n",
                  "Epoch 26 loss: 5.349809 --- positive triples processed: 4.95e+08\n",
                  "Epoch duration (sec): 4.46493 (average step time: 0.04794)\n",
                  "Epoch 27 loss: 5.294559 --- positive triples processed: 5.14e+08\n",
                  "Epoch duration (sec): 4.46032 (average step time: 0.04790)\n",
                  "Epoch 28 loss: 5.230184 --- positive triples processed: 5.33e+08\n",
                  "Epoch duration (sec): 4.45850 (average step time: 0.04788)\n",
                  "Epoch 29 loss: 5.184251 --- positive triples processed: 5.52e+08\n",
                  "Epoch duration (sec): 4.45941 (average step time: 0.04789)\n",
                  "Epoch 30 loss: 5.149366 --- positive triples processed: 5.71e+08\n",
                  "Epoch duration (sec): 4.46138 (average step time: 0.04791)\n",
                  "Epoch 31 loss: 5.091528 --- positive triples processed: 5.90e+08\n",
                  "Epoch duration (sec): 4.46497 (average step time: 0.04794)\n",
                  "Epoch 31 sample MRR: 0.2525 (validation time: 0.88975)\n",
                  "Epoch 32 loss: 5.036900 --- positive triples processed: 6.09e+08\n",
                  "Epoch duration (sec): 4.52223 (average step time: 0.04852)\n",
                  "Epoch 33 loss: 4.999296 --- positive triples processed: 6.29e+08\n",
                  "Epoch duration (sec): 4.58633 (average step time: 0.04916)\n",
                  "Epoch 34 loss: 4.959585 --- positive triples processed: 6.48e+08\n",
                  "Epoch duration (sec): 4.46112 (average step time: 0.04790)\n",
                  "Epoch 35 loss: 4.929678 --- positive triples processed: 6.67e+08\n",
                  "Epoch duration (sec): 4.45927 (average step time: 0.04789)\n",
                  "Epoch 36 loss: 4.881487 --- positive triples processed: 6.86e+08\n",
                  "Epoch duration (sec): 4.46107 (average step time: 0.04790)\n",
                  "Epoch 37 loss: 4.871422 --- positive triples processed: 7.05e+08\n",
                  "Epoch duration (sec): 4.46823 (average step time: 0.04796)\n",
                  "Epoch 38 loss: 4.798804 --- positive triples processed: 7.24e+08\n",
                  "Epoch duration (sec): 4.46421 (average step time: 0.04793)\n",
                  "Epoch 39 loss: 4.770441 --- positive triples processed: 7.43e+08\n",
                  "Epoch duration (sec): 4.45899 (average step time: 0.04788)\n",
                  "Epoch 40 loss: 4.784256 --- positive triples processed: 7.62e+08\n",
                  "Epoch duration (sec): 4.46355 (average step time: 0.04793)\n",
                  "Epoch 41 loss: 4.722328 --- positive triples processed: 7.81e+08\n",
                  "Epoch duration (sec): 4.46442 (average step time: 0.04794)\n",
                  "Epoch 41 sample MRR: 0.2612 (validation time: 0.88990)\n",
                  "Epoch 42 loss: 4.717527 --- positive triples processed: 8.00e+08\n",
                  "Epoch duration (sec): 4.46442 (average step time: 0.04794)\n",
                  "Epoch 43 loss: 4.710725 --- positive triples processed: 8.19e+08\n",
                  "Epoch duration (sec): 4.46190 (average step time: 0.04792)\n",
                  "Epoch 44 loss: 4.656087 --- positive triples processed: 8.38e+08\n",
                  "Epoch duration (sec): 4.46244 (average step time: 0.04792)\n",
                  "Epoch 45 loss: 4.656974 --- positive triples processed: 8.57e+08\n",
                  "Epoch duration (sec): 4.46762 (average step time: 0.04798)\n",
                  "Epoch 46 loss: 4.636364 --- positive triples processed: 8.76e+08\n",
                  "Epoch duration (sec): 4.47196 (average step time: 0.04802)\n",
                  "Epoch 47 loss: 4.627054 --- positive triples processed: 8.95e+08\n",
                  "Epoch duration (sec): 4.46888 (average step time: 0.04799)\n",
                  "Epoch 48 loss: 4.614621 --- positive triples processed: 9.14e+08\n",
                  "Epoch duration (sec): 4.46070 (average step time: 0.04790)\n",
                  "Epoch 49 loss: 4.598107 --- positive triples processed: 9.33e+08\n",
                  "Epoch duration (sec): 4.46274 (average step time: 0.04791)\n",
                  "Epoch 50 loss: 4.578415 --- positive triples processed: 9.52e+08\n",
                  "Epoch duration (sec): 4.46991 (average step time: 0.04799)\n",
                  "Epoch 51 loss: 4.555379 --- positive triples processed: 9.71e+08\n",
                  "Epoch duration (sec): 4.47375 (average step time: 0.04804)\n",
                  "Epoch 51 sample MRR: 0.2627 (validation time: 0.89033)\n",
                  "Epoch 52 loss: 4.540395 --- positive triples processed: 9.90e+08\n",
                  "Epoch duration (sec): 4.46183 (average step time: 0.04791)\n",
                  "Epoch 53 loss: 4.519772 --- positive triples processed: 1.01e+09\n",
                  "Epoch duration (sec): 4.46083 (average step time: 0.04790)\n",
                  "Epoch 54 loss: 4.536430 --- positive triples processed: 1.03e+09\n",
                  "Epoch duration (sec): 4.51554 (average step time: 0.04841)\n",
                  "Epoch 55 loss: 4.481946 --- positive triples processed: 1.05e+09\n",
                  "Epoch duration (sec): 4.52571 (average step time: 0.04854)\n",
                  "Epoch 56 loss: 4.512139 --- positive triples processed: 1.07e+09\n",
                  "Epoch duration (sec): 4.46114 (average step time: 0.04789)\n",
                  "Epoch 57 loss: 4.490931 --- positive triples processed: 1.09e+09\n",
                  "Epoch duration (sec): 4.46138 (average step time: 0.04791)\n",
                  "Epoch 58 loss: 4.508470 --- positive triples processed: 1.10e+09\n",
                  "Epoch duration (sec): 4.46369 (average step time: 0.04790)\n",
                  "Epoch 59 loss: 4.457185 --- positive triples processed: 1.12e+09\n",
                  "Epoch duration (sec): 4.46205 (average step time: 0.04788)\n",
                  "Epoch 60 loss: 4.467912 --- positive triples processed: 1.14e+09\n",
                  "Epoch duration (sec): 4.48002 (average step time: 0.04809)\n",
                  "Epoch 61 loss: 4.459184 --- positive triples processed: 1.16e+09\n",
                  "Epoch duration (sec): 4.48192 (average step time: 0.04811)\n",
                  "Epoch 61 sample MRR: 0.2626 (validation time: 0.89042)\n",
                  "Epoch 62 loss: 4.466573 --- positive triples processed: 1.18e+09\n",
                  "Epoch duration (sec): 4.47011 (average step time: 0.04799)\n",
                  "Epoch 63 loss: 4.442837 --- positive triples processed: 1.20e+09\n",
                  "Epoch duration (sec): 4.46524 (average step time: 0.04795)\n",
                  "Epoch 64 loss: 4.448936 --- positive triples processed: 1.22e+09\n",
                  "Epoch duration (sec): 4.47425 (average step time: 0.04805)\n",
                  "Epoch 65 loss: 4.419045 --- positive triples processed: 1.24e+09\n",
                  "Epoch duration (sec): 4.47169 (average step time: 0.04802)\n",
                  "Epoch 66 loss: 4.409024 --- positive triples processed: 1.26e+09\n",
                  "Epoch duration (sec): 4.48787 (average step time: 0.04820)\n",
                  "Epoch 67 loss: 4.434240 --- positive triples processed: 1.28e+09\n",
                  "Epoch duration (sec): 4.48682 (average step time: 0.04819)\n",
                  "Epoch 68 loss: 4.422602 --- positive triples processed: 1.30e+09\n",
                  "Epoch duration (sec): 4.46942 (average step time: 0.04800)\n",
                  "Epoch 69 loss: 4.415661 --- positive triples processed: 1.31e+09\n",
                  "Epoch duration (sec): 4.46357 (average step time: 0.04793)\n",
                  "Epoch 70 loss: 4.391059 --- positive triples processed: 1.33e+09\n",
                  "Epoch duration (sec): 4.47337 (average step time: 0.04804)\n"
               ]
            },
            {
               "data": {
                  "image/png": "[encoded data removed]",
                  "text/plain": [
                     "<Figure size 640x480 with 2 Axes>"
                  ]
               },
               "metadata": {},
               "output_type": "display_data"
            }
         ],
         "source": [
            "n_epochs = 70\n",
            "val_ep_interval = 10\n",
            "\n",
            "cumulative_triples = 0\n",
            "training_loss = []\n",
            "val_mrr = []\n",
            "poptorch_model.attachToDevice()\n",
            "for ep in range(n_epochs):\n",
            "    ep_start_time = time.time()\n",
            "    ep_log = []\n",
            "    for batch in train_dl:\n",
            "        step_start_time = time.time()\n",
            "        cumulative_triples += batch[\"head\"].numel()\n",
            "        res = poptorch_model(**{k: v.flatten(end_dim=1) for k, v in batch.items()})\n",
            "        ep_log.append(\n",
            "            dict(\n",
            "                loss=float(torch.sum(res[\"loss\"])) / batch[\"head\"][0].numel(),\n",
            "                step_time=(time.time() - step_start_time),\n",
            "            )\n",
            "        )\n",
            "    ep_loss = [v[\"loss\"] for v in ep_log]\n",
            "    training_loss.extend([v[\"loss\"] for v in ep_log])\n",
            "    print(\n",
            "        f\"Epoch {ep+1} loss: {np.mean(ep_loss):.6f} --- positive triples processed: {cumulative_triples:.2e}\"\n",
            "    )\n",
            "    print(\n",
            "        f\"Epoch duration (sec): {(time.time() - ep_start_time):.5f} (average step time: {np.mean([v['step_time'] for v in ep_log]):.5f})\"\n",
            "    )\n",
            "    if ep % val_ep_interval == 0:\n",
            "        poptorch_model.detachFromDevice()\n",
            "        poptorch_inf_model.attachToDevice()\n",
            "        # If running training and inference on separate devices, uncomment the following 2 lines:\n",
            "        # poptorch_model.copyWeightsToHost()\n",
            "        # poptorch_inf_model.copyWeightsToDevice()\n",
            "        val_start_time = time.time()\n",
            "        ep_mrr = 0.0\n",
            "        for batch_val in sample_valid_dl:\n",
            "            ep_mrr += poptorch_inf_model(\n",
            "                **{k: v.flatten(end_dim=1) for k, v in batch_val.items()}\n",
            "            )[\"metrics\"].sum()\n",
            "        ep_mrr /= n_sample_queries\n",
            "        val_mrr.append(ep_mrr)\n",
            "        print(\n",
            "            f\"Epoch {ep+1} sample MRR: {ep_mrr:.4f} (validation time: {(time.time() - val_start_time):.5f})\"\n",
            "        )\n",
            "        poptorch_inf_model.detachFromDevice()\n",
            "        poptorch_model.attachToDevice()\n",
            "\n",
            "# Plot loss and sample MRR as a function of the number of positive triples processed\n",
            "total_triples = np.cumsum(n_epochs * len(train_dl) * [batch[\"head\"].numel()])\n",
            "ax0, ax1 = plt.gca(), plt.twinx()\n",
            "(line0,) = ax0.plot(total_triples, training_loss)\n",
            "(line1,) = ax1.plot(\n",
            "    total_triples[:: val_ep_interval * len(train_dl)], val_mrr, color=\"r\"\n",
            ")\n",
            "ax0.set_xlabel(\"Positive triples\")\n",
            "ax0.set_ylabel(\"Loss\")\n",
            "ax1.set_ylabel(\"Sample MRR\")\n",
            "plt.legend([line0, line1], [\"Loss\", \"MRR\"], loc=\"upper left\")\n",
            "\n",
            "poptorch_model.detachFromDevice()\n",
            "del train_dl\n",
            "del sample_valid_dl"
         ]
      },
      {
         "attachments": {},
         "cell_type": "markdown",
         "metadata": {},
         "source": [
            "Let us compute the final MRR on the whole validation set, containing 429k+ triples. Once again, even though the dataset provides 500 candidate tails for each triple, here we are actually scoring queries against **all entities** in the dataset."
         ]
      },
      {
         "cell_type": "code",
         "execution_count": 38,
         "metadata": {},
         "outputs": [
            {
               "name": "stdout",
               "output_type": "stream",
               "text": [
                  "Number of triples per h_shard:\n",
                  "[106601 107205 108197 107453]\n"
               ]
            }
         ],
         "source": [
            "validation_triples = PartitionedTripleSet.create_from_dataset(\n",
            "    wikikg, \"valid\", sharding, partition_mode=\"h_shard\"\n",
            ")\n",
            "bs_valid = RigidShardedBatchSampler(\n",
            "    partitioned_triple_set=validation_triples,\n",
            "    negative_sampler=candidate_sampler,\n",
            "    shard_bs=val_shard_bs,\n",
            "    batches_per_step=val_device_iterations,\n",
            "    seed=seed,\n",
            ")\n",
            "\n",
            "print(\"Number of triples per h_shard:\")\n",
            "print(validation_triples.triple_counts)\n",
            "\n",
            "valid_dl = bs_valid.get_dataloader(options=val_options, shuffle=False, num_workers=3)"
         ]
      },
      {
         "cell_type": "code",
         "execution_count": 39,
         "metadata": {},
         "outputs": [
            {
               "name": "stdout",
               "output_type": "stream",
               "text": [
                  "Validation MRR: 0.2668512463569641\n",
                  "Validation time (sec): 47.12475\n"
               ]
            }
         ],
         "source": [
            "poptorch_inf_model.attachToDevice()\n",
            "\n",
            "val_mrr = 0.0\n",
            "start_time = time.time()\n",
            "n_val_queries = 0\n",
            "for batch_val in valid_dl:\n",
            "    n_val_queries += batch_val[\"triple_mask\"].sum()\n",
            "    val_mrr += poptorch_inf_model(\n",
            "        **{k: v.flatten(end_dim=1) for k, v in batch_val.items()}\n",
            "    )[\"metrics\"].sum()\n",
            "\n",
            "print(f\"Validation MRR: {val_mrr / n_val_queries}\")\n",
            "print(f\"Validation time (sec): {(time.time() - start_time):.5f}\")\n",
            "\n",
            "poptorch_inf_model.detachFromDevice()\n",
            "del valid_dl"
         ]
      },
      {
         "attachments": {},
         "cell_type": "markdown",
         "metadata": {},
         "source": [
            "## Validation (vs candidate tails)\n",
            "\n",
            "Now we can check the metrics when scoring validation queries only against the provided candidates.\n",
            "\n",
            "Similarly to what we did in the [KGE Training and Inference on OGBL-BioKG](1_biokg_training_inference.ipynb) notebook, we use `TripleBasedShardedNegativeSampler` to provide the model with the triple-specific candidate tails."
         ]
      },
      {
         "cell_type": "code",
         "execution_count": 40,
         "metadata": {},
         "outputs": [
            {
               "name": "stdout",
               "output_type": "stream",
               "text": [
                  "head            torch.Size([10, 4, 4, 64])          torch.int32;\n",
                  "relation        torch.Size([10, 4, 4, 64])          torch.int32;\n",
                  "tail            torch.Size([10, 4, 4, 64])          torch.int32;\n",
                  "triple_mask     torch.Size([10, 4, 4, 64])          torch.bool;\n",
                  "negative        torch.Size([10, 4, 4, 256, 173])    torch.int32;\n",
                  "negative_mask   torch.Size([10, 4, 256, 4, 173])    torch.bool;\n"
               ]
            }
         ],
         "source": [
            "validation_triples = PartitionedTripleSet.create_from_dataset(\n",
            "    dataset=wikikg, part=\"valid\", sharding=sharding, partition_mode=\"ht_shardpair\"\n",
            ")\n",
            "ns_valid = TripleBasedShardedNegativeSampler(\n",
            "    negative_heads=validation_triples.neg_heads,\n",
            "    negative_tails=validation_triples.neg_tails,\n",
            "    sharding=sharding,\n",
            "    corruption_scheme=\"t\",\n",
            "    seed=seed,\n",
            ")\n",
            "# We do not need to duplicate_batch as we only want to score negative tails\n",
            "bs_valid = RigidShardedBatchSampler(\n",
            "    partitioned_triple_set=validation_triples,\n",
            "    negative_sampler=ns_valid,\n",
            "    shard_bs=256,\n",
            "    batches_per_step=10,\n",
            "    seed=seed,\n",
            "    duplicate_batch=False,\n",
            ")\n",
            "\n",
            "# Example batch\n",
            "idx_sampler = iter(bs_valid.get_dataloader_sampler(shuffle=False))\n",
            "for k, v in bs_valid[next(idx_sampler)].items():\n",
            "    print(f\"{k:<15} {str(v.shape):<35} {v.dtype};\")"
         ]
      },
      {
         "attachments": {},
         "cell_type": "markdown",
         "metadata": {},
         "source": [
            "As we see from the shape of `negative` and `negative_mask`, the 500 negative tails for each validation triple are retrieved in blocks of 173 entities from each of the 4 IPUs (with padding added where needed).\n",
            "\n",
            "We use the `ScoreMovingBessKGE` version of BESS, as recommended for performing inference against triple-specific sets of candidates."
         ]
      },
      {
         "cell_type": "code",
         "execution_count": 41,
         "metadata": {},
         "outputs": [
            {
               "name": "stderr",
               "output_type": "stream",
               "text": [
                  "[11:12:23.084] [poptorch:cpp] [warning] [DISPATCHER] Type coerced from Long to Int for tensor id 369\n",
                  "[11:12:23.086] [poptorch:cpp] [warning] [DISPATCHER] Type coerced from Long to Int for tensor id 375\n",
                  "Graph compilation: 100%|██████████| 100/100 [01:11<00:00]\n"
               ]
            }
         ],
         "source": [
            "val_options = poptorch.Options()\n",
            "val_options.replication_factor = sharding.n_shard\n",
            "val_options.deviceIterations(bs_valid.batches_per_step)\n",
            "val_options.outputMode(poptorch.OutputMode.All)\n",
            "\n",
            "valid_dl = bs_valid.get_dataloader(\n",
            "    options=val_options, shuffle=False, num_workers=3, persistent_workers=True\n",
            ")\n",
            "\n",
            "# Each triple is now to be scored against a specific set of negatives, so we turn off negative sample sharing\n",
            "transe_score_fn.negative_sample_sharing = False\n",
            "\n",
            "evaluation = Evaluation([\"mrr\", \"hits@1\", \"hits@5\", \"hits@10\"], reduction=\"sum\")\n",
            "model_inf = ScoreMovingBessKGE(\n",
            "    negative_sampler=ns_valid, score_fn=transe_score_fn, evaluation=evaluation\n",
            ")\n",
            "\n",
            "poptorch_model_inf = poptorch.inferenceModel(model_inf, options=val_options)\n",
            "\n",
            "poptorch_model_inf.entity_embedding.replicaGrouping(\n",
            "    poptorch.CommGroupType.NoGrouping,\n",
            "    0,\n",
            "    poptorch.VariableRetrievalMode.OnePerGroup,\n",
            ")\n",
            "\n",
            "# Compile model\n",
            "batch = next(iter(valid_dl))\n",
            "res = poptorch_model_inf(**{k: v.flatten(end_dim=1) for k, v in batch.items()})"
         ]
      },
      {
         "cell_type": "code",
         "execution_count": 42,
         "metadata": {},
         "outputs": [
            {
               "name": "stdout",
               "output_type": "stream",
               "text": [
                  "hits@1 : 0.857026\n",
                  "hits@5 : 0.934648\n",
                  "hits@10 : 0.949573\n",
                  "mrr : 0.892919\n",
                  "Validation time (sec): 1.06543\n"
               ]
            }
         ],
         "source": [
            "val_log = []\n",
            "start_time = time.time()\n",
            "n_val_queries = 0\n",
            "for batch_val in valid_dl:\n",
            "    res = poptorch_model_inf(**{k: v.flatten(end_dim=1) for k, v in batch_val.items()})\n",
            "    n_val_queries += batch_val[\"triple_mask\"].sum()\n",
            "    # By transposing res[\"metrics\"] we separate the outputs for the different metrics\n",
            "    val_log.append(\n",
            "        {\n",
            "            k: v.sum()\n",
            "            for k, v in zip(\n",
            "                evaluation.metrics.keys(),\n",
            "                res[\"metrics\"].T,\n",
            "            )\n",
            "        }\n",
            "    )\n",
            "\n",
            "for metric in val_log[0].keys():\n",
            "    reduced_metric = sum([l[metric] for l in val_log]) / n_val_queries\n",
            "    print(\"%s : %f\" % (metric, reduced_metric))\n",
            "print(f\"Validation time (sec): {(time.time() - start_time):.5f}\")\n",
            "\n",
            "poptorch_model_inf.detachFromDevice()\n",
            "del valid_dl"
         ]
      },
      {
         "attachments": {},
         "cell_type": "markdown",
         "metadata": {},
         "source": [
            "Notice that, in this dataset, predicting tails is easier than predicting heads. \n",
            "\n",
            "Want to see how the model we trained performs on the complete task (scoring queries against candidate heads + candidate tails), to compare with the TransE (100dim) result on the [OGB leaderboard](https://ogb.stanford.edu/docs/leader_linkprop/#ogbl-wikikg2)? Just set `corruption_scheme=\"ht\"` when creating the `TripleBasedShardedNegativeSampler` object and `duplicate_batch=True` in the `RigidShardedBatchSampler` and re-run the last three code cells. If this is the aim, however, you might want to corrupt both heads and tails already during training. You can do this by changing the corruption scheme of `RandomShardedNegativeSampler` accordingly before [starting training](#Interleaved-training-and-validation-(vs-all))."
         ]
      }
   ],
   "metadata": {
      "kernelspec": {
         "display_name": ".venv3.2",
         "language": "python",
         "name": "python3"
      },
      "language_info": {
         "codemirror_mode": {
            "name": "ipython",
            "version": 3
         },
         "file_extension": ".py",
         "mimetype": "text/x-python",
         "name": "python",
         "nbconvert_exporter": "python",
         "pygments_lexer": "ipython3",
         "version": "3.8.10"
      },
      "orig_nbformat": 4
   },
   "nbformat": 4,
   "nbformat_minor": 2
}
