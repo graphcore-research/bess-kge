{
    "cells": [
        {
            "attachments": {},
            "cell_type": "markdown",
            "metadata": {},
            "source": [
                "# KGE Training and Inference on OGBL-BioKG\n",
                "\n",
                "<em>Copyright (c) 2023 Graphcore Ltd. All rights reserved.</em>\n",
                "\n",
                "BESS-KGE (`besskge`) is a PyTorch library for knowledge graph embedding (KGE) models on IPUs implementing the distribution framework [BESS](https://arxiv.org/abs/2211.12281), with embedding tables stored in the IPU SRAM.\n",
                "\n",
                "In this notebook we will learn how to use the BESS-KGE library to train KGE models and perform link prediction inference, using the biomedical dataset [ogbl-biokg](https://ogb.stanford.edu/docs/linkprop/#ogbl-biokg)."
            ]
        },
        {
            "attachments": {},
            "cell_type": "markdown",
            "metadata": {},
            "source": [
                "## Environment setup\n",
                "\n",
                "The best way to run this demo is on Paperspace Gradient's cloud IPUs because everything is already set up for you.\n",
                "\n",
                " [![Run on Gradient](https://assets.paperspace.io/img/gradient-badge.svg)](https://console.paperspace.com/github/graphcore-research/bess-kge?container=graphcore%2Fpytorch-paperspace%3A3.3.0-ubuntu-20.04-20230703&machine=Free-IPU-POD4&file=%2Fnotebooks%2F1_biokg_training_inference.ipynb)\n",
                "\n",
                "To run the demo using other IPU hardware, you need to have the Poplar SDK enabled and a PopTorch wheel installed. Refer to the [Getting Started guide](https://docs.graphcore.ai/en/latest/getting-started.html#getting-started) for your system for details on how to do this. Also refer to the [Jupyter Quick Start guide](https://docs.graphcore.ai/projects/jupyter-notebook-quick-start/en/latest/index.html) for how to set up Jupyter to be able to run this notebook on a remote IPU machine."
            ]
        },
        {
            "attachments": {},
            "cell_type": "markdown",
            "metadata": {},
            "source": [
                "## Dependencies"
            ]
        },
        {
            "attachments": {},
            "cell_type": "markdown",
            "metadata": {},
            "source": [
                "We recommend that you install `besskge` directly from the GitHub sources:"
            ]
        },
        {
            "cell_type": "code",
            "execution_count": 1,
            "metadata": {},
            "outputs": [
                {
                    "name": "stdout",
                    "output_type": "stream",
                    "text": [
                        "Found existing installation: besskge 0.1\n",
                        "Uninstalling besskge-0.1:\n",
                        "  Successfully uninstalled besskge-0.1\n"
                    ]
                }
            ],
            "source": [
                "import sys\n",
                "!{sys.executable} -m pip uninstall -y besskge\n",
                "!pip install -q git+https://github.com/graphcore-research/bess-kge.git\n",
                "\n",
                "!pip install -q matplotlib"
            ]
        },
        {
            "attachments": {},
            "cell_type": "markdown",
            "metadata": {},
            "source": [
                "Next, import the necessary dependencies. "
            ]
        },
        {
            "cell_type": "code",
            "execution_count": 3,
            "metadata": {},
            "outputs": [],
            "source": [
                "import os\n",
                "import pathlib\n",
                "import time\n",
                "\n",
                "import matplotlib.pyplot as plt\n",
                "import numpy as np\n",
                "import poptorch\n",
                "import torch\n",
                "\n",
                "from besskge.batch_sampler import RigidShardedBatchSampler\n",
                "from besskge.bess import EmbeddingMovingBessKGE, ScoreMovingBessKGE\n",
                "from besskge.dataset import KGDataset\n",
                "from besskge.loss import LogSigmoidLoss\n",
                "from besskge.metric import Evaluation\n",
                "from besskge.negative_sampler import (\n",
                "    RandomShardedNegativeSampler,\n",
                "    TripleBasedShardedNegativeSampler,\n",
                ")\n",
                "from besskge.scoring import RotatE\n",
                "from besskge.sharding import PartitionedTripleSet, Sharding\n",
                "\n",
                "dataset_directory = os.getenv(\"DATASET_DIR\", \"../datasets/\") + \"/biokg/\""
            ]
        },
        {
            "attachments": {},
            "cell_type": "markdown",
            "metadata": {},
            "source": [
                "## Sharding entities and triples\n",
                "\n",
                "The OGBL-BioKG dataset can be downloaded and preprocessed with the built-in `KGDataset` method, `build_biokg`. `KGDataset` is the standard class which holds data from the knowledge graph dataset, such as head-relation-tail triples (with entities and relation types suitably converted to their integer IDs), triple-specific data (for example negative heads/tails to be used to corrupt the triple), ID -> label lists for entities and relation types, and so on."
            ]
        },
        {
            "cell_type": "code",
            "execution_count": 4,
            "metadata": {},
            "outputs": [
                {
                    "name": "stdout",
                    "output_type": "stream",
                    "text": [
                        "Number of entities: 93,773\n",
                        "\n",
                        "Number of relation types: 51\n",
                        "\n",
                        "Number of triples: \n",
                        " training: 4,762,678 \n",
                        " validation/test: 162,886\n",
                        "\n",
                        "Number of negative heads/tails for validation/test triples: 500\n"
                    ]
                }
            ],
            "source": [
                "biokg = KGDataset.build_biokg(root=pathlib.Path(dataset_directory))\n",
                "\n",
                "print(f\"Number of entities: {biokg.n_entity:,}\\n\")\n",
                "print(f\"Number of relation types: {biokg.n_relation_type}\\n\")\n",
                "print(f\"Number of triples: \\n training: {biokg.triples['train'].shape[0]:,} \\n validation/test: {biokg.triples['valid'].shape[0]:,}\\n\")\n",
                "print(f\"Number of negative heads/tails for validation/test triples: {biokg.neg_heads['valid'].shape[-1]}\")"
            ]
        },
        {
            "attachments": {},
            "cell_type": "markdown",
            "metadata": {},
            "source": [
                "Entities in the OGBL-BioKG dataset have different types. Entity IDs need to be always assigned so that entities of the same type have contiguous IDs. Then, the ID offsets corresponding to different types are stored in `KGDataset.type_offsets`:"
            ]
        },
        {
            "cell_type": "code",
            "execution_count": 5,
            "metadata": {},
            "outputs": [
                {
                    "data": {
                        "text/plain": [
                            "{'disease': 0,\n",
                            " 'drug': 10687,\n",
                            " 'function': 21220,\n",
                            " 'protein': 66305,\n",
                            " 'sideeffect': 83804}"
                        ]
                    },
                    "execution_count": 5,
                    "metadata": {},
                    "output_type": "execute_result"
                }
            ],
            "source": [
                "biokg.type_offsets"
            ]
        },
        {
            "attachments": {},
            "cell_type": "markdown",
            "metadata": {},
            "source": [
                "For example, entities with ID in the range [0, 10686] are of type 'disease'."
            ]
        },
        {
            "attachments": {},
            "cell_type": "markdown",
            "metadata": {},
            "source": [
                "To train on 4 IPUs, we shard the entity set into four parts of equal size. This is done using the `Sharding` class. To use a different number of IPUs, just change the value of the `n_shard` variable."
            ]
        },
        {
            "cell_type": "code",
            "execution_count": 6,
            "metadata": {},
            "outputs": [
                {
                    "name": "stdout",
                    "output_type": "stream",
                    "text": [
                        "Number of shards: 4\n",
                        "\n",
                        "Number of entities in each shard: 23,444\n",
                        "\n",
                        "Global entity IDs on 4 shards:\n",
                        " [[    0    10    23 ... 93768 93770 93774]\n",
                        " [    2     3     4 ... 93760 93769 93772]\n",
                        " [    7     8    15 ... 93771 93773 93775]\n",
                        " [    1     5     9 ... 93757 93763 93767]]\n",
                        "\n",
                        "Number of actual (=non-padding) entities per shard:\n",
                        " [23443 23444 23442 23444]\n",
                        "\n",
                        "Type offsets per shard: \n",
                        " [[    0  2582  5203 16455 20861]\n",
                        " [    0  2715  5354 16661 20954]\n",
                        " [    0  2755  5422 16569 21008]\n",
                        " [    0  2635  5241 16620 20981]]\n"
                    ]
                }
            ],
            "source": [
                "seed = 1234\n",
                "n_shard = 4\n",
                "\n",
                "sharding = Sharding.create(n_entity=biokg.n_entity, n_shard=n_shard, seed=seed, type_offsets=np.fromiter(biokg.type_offsets.values(), dtype=np.int32))\n",
                "\n",
                "print(f\"Number of shards: {sharding.n_shard}\\n\")\n",
                "\n",
                "print(f\"Number of entities in each shard: {sharding.max_entity_per_shard:,}\\n\")\n",
                "\n",
                "print(f\"Global entity IDs on {n_shard} shards:\\n {sharding.shard_and_idx_to_entity}\\n\")\n",
                "\n",
                "# If the number of entities is not divisible by n_shard, some shards will have one trailing padding entity (ID >= n_entity)\n",
                "print(f\"Number of actual (=non-padding) entities per shard:\\n {sharding.shard_counts}\\n\")\n",
                "\n",
                "# Entities of the same type maintain contiguous local IDs in each shard\n",
                "print(f\"Type offsets per shard: \\n\", sharding.entity_type_offsets)"
            ]
        },
        {
            "attachments": {},
            "cell_type": "markdown",
            "metadata": {},
            "source": [
                "Since the total number of entities (93,773) is not divisible by `n_shard` (4), some padding entities are created. These entities have global entity IDs with values greater than or equal to 93,773 and can be seen printed above.\n",
                "\n",
                "The entity sharding induces a partitioning of the set of training triples into `n_shard ** 2 = 16` **shard-pairs**, based on the entity shard of the head and of the tail. Triple partitioning is performed using the `PartitionedTripleSet` class."
            ]
        },
        {
            "attachments": {},
            "cell_type": "markdown",
            "metadata": {},
            "source": [
                "<p align=\"left\">\n",
                "<img src=\"https://raw.githubusercontent.com/graphcore-research/bess-kge/main/notebooks/img/batch.png\"  width=\"500\" >\n",
                "</p>"
            ]
        },
        {
            "cell_type": "code",
            "execution_count": 7,
            "metadata": {},
            "outputs": [
                {
                    "name": "stdout",
                    "output_type": "stream",
                    "text": [
                        "Number of triples per (h,t) shard-pair:\n",
                        " [[304061 299922 282942 298834]\n",
                        " [309129 305430 290318 303298]\n",
                        " [300612 296719 277542 294614]\n",
                        " [308192 302322 286517 302226]]\n"
                    ]
                }
            ],
            "source": [
                "train_triples = PartitionedTripleSet.create_from_dataset(dataset=biokg, part=\"train\", sharding=sharding, partition_mode=\"ht_shardpair\")\n",
                "\n",
                "# train_triples.triple_counts[i,j] is the number of triples with head entity in shard i and tail entity in shard j\n",
                "print(f\"Number of triples per (h,t) shard-pair:\\n {train_triples.triple_counts}\")"
            ]
        },
        {
            "attachments": {},
            "cell_type": "markdown",
            "metadata": {},
            "source": [
                "Triples in `train_triples.triples` have been sorted based on the sequence of (h,t) shard-pairs: `(0,0), (0,1), ..., (n_shard-1, n_shard-1)`. You can use `train_triples.triple_sort_idx` to recover the original ordering.\n",
                "\n",
                "Moreover, the global entity IDs for heads and tails have been replaced with the local indices on the corresponding shard."
            ]
        },
        {
            "cell_type": "code",
            "execution_count": 8,
            "metadata": {},
            "outputs": [
                {
                    "data": {
                        "text/plain": [
                            "True"
                        ]
                    },
                    "execution_count": 8,
                    "metadata": {},
                    "output_type": "execute_result"
                }
            ],
            "source": [
                "# Put original triples in the same order as train_triples.triples\n",
                "triple_sorted = biokg.triples[\"train\"][train_triples.triple_sort_idx]\n",
                "# Pass from global IDs to local IDs with sharding.entity_to_idx\n",
                "triple_sorted[:,0] = sharding.entity_to_idx[triple_sorted[:,0]]\n",
                "triple_sorted[:,2] = sharding.entity_to_idx[triple_sorted[:,2]]\n",
                "# Compare with the content of train_triples.triples\n",
                "np.all(triple_sorted == train_triples.triples)"
            ]
        },
        {
            "attachments": {},
            "cell_type": "markdown",
            "metadata": {},
            "source": [
                "## Negative and batch samplers\n",
                "\n",
                "A key component in training KGE models is the selection of negative samples to contrast against positive triples. A standard strategy to construct negative samples is to replace (corrupt) either the head or the tail of a positive triple with another entity.\n",
                "\n",
                "To sample the negative entities used to corrupt positive triples, we use a **negative sampler**. You can find different types of negative samplers implemented in `besskge.negative_sampler`. Two suitable samplers are:\n",
                "\n",
                "* `RandomShardedNegativeSampler`, which randomly picks the negative entity among all the entities in the knowledge graph;\n",
                "* `TypeBasedShardedNegativeSampler`, which selects the corrupted entity only among entities of the same type as the original one.\n",
                "\n",
                "By default, BESS samples the same number of negative entities from each entity shard, to minimize selection bias. For each pair of devices, the same amount of negative entities is exchanged in both directions, through collective operators.\n",
                "\n",
                "* If `flat_negative_format=False`, negative entities are sampled on a triple basis. For each positive triple in a micro-batch, `n_negative` corrupted entities are received from each device, for a total of `shard_bs * n_negative * n_shard` negatives used in the micro-batch. We can then decide whether to score each of the `shard_bs` triples in the micro-batch only against the corresponding `n_negative * n_shard` negative entities, or against all negatives seen in the micro-batch (**negative sample sharing**).\n",
                "\n",
                "* If `flat_negative_format=True`, negative entities are sampled on a shard-pair basis. Each device receives `n_negative` negatives from each shard, for a total of `n_negative * n_shard` negatives used in the micro-batch. As the negatives are not sampled on a triple basis, this requires the use of negative sample sharing.\n",
                "\n",
                "In order to reduce inter-device communication, we have the option of sampling all negatives just from the device where the triple loss will be computed, by setting `local_sampling=True`. This, however, introduces a bias in the construction of negative samples.\n",
                "\n",
                "When instantiating the negative sampler, we must also specify the corruption scheme:\n",
                "* `corruption_scheme='h'` if negative samples are to be constructed by corrupting the head entity;\n",
                "* `corruption_scheme='t'` if negative samples are to be constructed by corrupting the tail entity;\n",
                "* `corruption_scheme='ht'` if negative samples are to be constructed by corrupting the head entity for half the triples in the micro-batch and the tail entity for the other half (in this case, when using negative sample sharing, negatives are shared only among the triples in the same half)."
            ]
        },
        {
            "cell_type": "code",
            "execution_count": 9,
            "metadata": {},
            "outputs": [],
            "source": [
                "neg_sampler = RandomShardedNegativeSampler(n_negative=1, sharding=sharding, seed=seed, corruption_scheme=\"ht\",\n",
                "                                           local_sampling=False, flat_negative_format=False)"
            ]
        },
        {
            "attachments": {},
            "cell_type": "markdown",
            "metadata": {},
            "source": [
                "In order to start training, we are missing only one component: a **batch sampler**. This class is responsible for cooking up the batches to pass to each device. This is not a trivial task, since at each step each device needs to know which embeddings stored in its local memory are needed by itself and by all other devices.\n",
                "Different types of batch samplers are implemented in `besskge.batch_sampler`. All of them, at each step, sample the same number of triples from each of the 16 shard-pair buckets. Here we use `RigidShardedBatchSampler`, where each bucket is consumed sequentially. The length of an epoch is then dictated by the length of the largest bucket."
            ]
        },
        {
            "cell_type": "code",
            "execution_count": 10,
            "metadata": {},
            "outputs": [
                {
                    "name": "stdout",
                    "output_type": "stream",
                    "text": [
                        "# triples per shard-pair per step: 60 \n",
                        "\n",
                        "head         torch.Size([48, 4, 4, 60])     torch.int32;\n",
                        "relation     torch.Size([48, 4, 4, 60])     torch.int32;\n",
                        "tail         torch.Size([48, 4, 4, 60])     torch.int32;\n",
                        "triple_mask  torch.Size([48, 4, 4, 60])     torch.bool;\n",
                        "negative     torch.Size([48, 4, 4, 240, 1]) torch.int32;\n"
                    ]
                }
            ],
            "source": [
                "device_iterations = 8\n",
                "accum_factor = 6\n",
                "# Micro-batch size, which means the number of positive triples processed on each device at each step\n",
                "shard_bs = 240\n",
                "\n",
                "batch_sampler = RigidShardedBatchSampler(partitioned_triple_set=train_triples, negative_sampler=neg_sampler,\n",
                "                              shard_bs=shard_bs, batches_per_step=device_iterations*accum_factor, seed=seed)\n",
                "\n",
                "\n",
                "print(f\"# triples per shard-pair per step: {batch_sampler.positive_per_partition} \\n\")\n",
                "\n",
                "# Example batch\n",
                "idx_sampler = iter(batch_sampler.get_dataloader_sampler(shuffle=True))\n",
                "for k,v in batch_sampler[next(idx_sampler)].items():\n",
                "    print(f\"{k:<12} {str(v.shape):<30} {v.dtype};\")"
            ]
        },
        {
            "attachments": {},
            "cell_type": "markdown",
            "metadata": {},
            "source": [
                "We see that each call returns `device_iterations * accum_factor = 48` batches. Each of them is composed of 60 triples from each of the 16 shard-pair buckets. In particular, IPU `i` will process 240 triples, 60 from each of the four (h, t) shard-pairs `(i,0), (i,1), (i,2), (i,3)`. \n",
                "\n",
                "`head[:,i,:,:], tail[:,i,:,:]` are the entity IDs of the embeddings that need to be gathered from the SRAM of IPU `i`.\n",
                "\n",
                "`negative[:,i,j,t,:]` are the negative entities sampled on IPU `i` to be used for triple `t` on IPU `j` (where the trailing 1 is the `n_negative` specified in the negative sampler).\n",
                "\n",
                "`triple_mask` is a boolean mask indicating which of the positive triples in the batch are non-padding (since, as mentioned above, `RigidShardedBatchSampler` will repeat triples in smaller shard-pair buckets during an epoch). We can ignore it during training, but it is important at inference time, when we want to visit each triple only once. We can then use `triple_mask` to discard any duplicates.\n"
            ]
        },
        {
            "attachments": {},
            "cell_type": "markdown",
            "metadata": {},
            "source": [
                "<p align=\"left\">\n",
                "<img src=\"https://raw.githubusercontent.com/graphcore-research/bess-kge/main/notebooks/img/negsplit.png\"  width=\"880\" >\n",
                "</p>"
            ]
        },
        {
            "attachments": {},
            "cell_type": "markdown",
            "metadata": {},
            "source": [
                "## Distributed training\n",
                "\n",
                "The method `get_dataloader` of the batch sampler returns the PopTorch dataloader which we iterate over during training."
            ]
        },
        {
            "cell_type": "code",
            "execution_count": 11,
            "metadata": {},
            "outputs": [],
            "source": [
                "options = poptorch.Options()\n",
                "options.replication_factor = sharding.n_shard\n",
                "options.deviceIterations(device_iterations)\n",
                "options.Training.gradientAccumulation(accum_factor)\n",
                "# Add a memory saving optimisation pattern. This removes an unnecessary\n",
                "# entity_embedding gradient all-reduce, which is a no-op since it is fully\n",
                "# sharded across replicas.\n",
                "options._popart.setPatterns(dict(RemoveAllReducePattern=True))\n",
                "\n",
                "# Construction similar to PyTorch dataloader\n",
                "train_dl = batch_sampler.get_dataloader(options=options, shuffle=True, num_workers=5, persistent_workers=True)"
            ]
        },
        {
            "attachments": {},
            "cell_type": "markdown",
            "metadata": {},
            "source": [
                "We are now ready to define the model and train it. We'll use **RotatE** with (complex) 64-dimensional embeddings and the **logsigmoid** loss function with **negative adversarial sampling**. We will also use **negative sample sharing** within the micro-batches to increase the effective number of negative samples without the need for sampling and exchanging more negative entities.\n",
                "\n",
                "The **BESS distribution scheme** is implemented in `besskge.bess` and it works as a wrapper around the KGE scoring function. It comes in different flavours: here we use the basic `EmbeddingMovingBessKGE` class, where entity embeddings are exchanged between IPUs (from the one where the embedding is stored to the one where it is needed for computation) through AllToAll collectives (for details on the embedding sharing, see the [BESS-KGE documentation](https://graphcore-research.github.io/bess-kge/API_ref/bess.html))."
            ]
        },
        {
            "cell_type": "code",
            "execution_count": 12,
            "metadata": {},
            "outputs": [
                {
                    "name": "stderr",
                    "output_type": "stream",
                    "text": [
                        "Graph compilation: 100%|██████████| 100/100 [00:43<00:00]\n"
                    ]
                }
            ],
            "source": [
                "# Loss function\n",
                "logsigmoid_loss_fn = LogSigmoidLoss(margin=12.0, negative_adversarial_sampling=True)\n",
                "# KGE model\n",
                "rotate_score_fn = RotatE(negative_sample_sharing=True, scoring_norm=1, sharding=sharding,\n",
                "                  n_relation_type=biokg.n_relation_type, embedding_size=64)\n",
                "# BESS wrapper\n",
                "model = EmbeddingMovingBessKGE(negative_sampler=neg_sampler, score_fn=rotate_score_fn,\n",
                "                               loss_fn=logsigmoid_loss_fn)\n",
                "\n",
                "# Optimizer\n",
                "opt = poptorch.optim.AdamW(\n",
                "        model.parameters(),\n",
                "        lr=0.001,\n",
                "    )\n",
                "\n",
                "# PopTorch wrapper\n",
                "poptorch_model = poptorch.trainingModel(model, options=options, optimizer=opt)\n",
                "\n",
                "# The variable entity_embedding needs to hold different values on each replica,\n",
                "# corresponding to the distinct shards of the entity embedding table\n",
                "poptorch_model.entity_embedding.replicaGrouping(\n",
                "            poptorch.CommGroupType.NoGrouping,\n",
                "            0,\n",
                "            poptorch.VariableRetrievalMode.OnePerGroup,\n",
                "        )\n",
                "\n",
                "# Compile model\n",
                "batch = next(iter(train_dl))\n",
                "_ = batch.pop(\"triple_mask\")\n",
                "#  PopTorch requires to flatten device_iterations and shard into a single dimension\n",
                "res = poptorch_model(**{k: v.flatten(end_dim=1) for k, v in batch.items()})"
            ]
        },
        {
            "cell_type": "code",
            "execution_count": 13,
            "metadata": {},
            "outputs": [
                {
                    "name": "stdout",
                    "output_type": "stream",
                    "text": [
                        "Epoch 1 loss: 1.146490 --- positive triples processed: 4.98e+06\n",
                        "Epoch duration (sec): 1.83244 (average step time: 0.01512)\n",
                        "Epoch 2 loss: 0.503822 --- positive triples processed: 9.95e+06\n",
                        "Epoch duration (sec): 1.64367 (average step time: 0.01516)\n",
                        "Epoch 3 loss: 0.445583 --- positive triples processed: 1.49e+07\n",
                        "Epoch duration (sec): 1.65151 (average step time: 0.01519)\n",
                        "Epoch 4 loss: 0.411330 --- positive triples processed: 1.99e+07\n",
                        "Epoch duration (sec): 1.64069 (average step time: 0.01513)\n",
                        "Epoch 5 loss: 0.389104 --- positive triples processed: 2.49e+07\n",
                        "Epoch duration (sec): 1.63915 (average step time: 0.01511)\n",
                        "Epoch 6 loss: 0.378068 --- positive triples processed: 2.99e+07\n",
                        "Epoch duration (sec): 1.64212 (average step time: 0.01514)\n",
                        "Epoch 7 loss: 0.369016 --- positive triples processed: 3.48e+07\n",
                        "Epoch duration (sec): 1.63842 (average step time: 0.01511)\n",
                        "Epoch 8 loss: 0.367234 --- positive triples processed: 3.98e+07\n",
                        "Epoch duration (sec): 1.63810 (average step time: 0.01511)\n",
                        "Epoch 9 loss: 0.359143 --- positive triples processed: 4.48e+07\n",
                        "Epoch duration (sec): 1.65234 (average step time: 0.01523)\n",
                        "Epoch 10 loss: 0.359279 --- positive triples processed: 4.98e+07\n",
                        "Epoch duration (sec): 1.63927 (average step time: 0.01511)\n",
                        "Epoch 11 loss: 0.357416 --- positive triples processed: 5.47e+07\n",
                        "Epoch duration (sec): 1.63432 (average step time: 0.01507)\n",
                        "Epoch 12 loss: 0.356108 --- positive triples processed: 5.97e+07\n",
                        "Epoch duration (sec): 1.65299 (average step time: 0.01524)\n",
                        "Epoch 13 loss: 0.355720 --- positive triples processed: 6.47e+07\n",
                        "Epoch duration (sec): 1.63936 (average step time: 0.01512)\n",
                        "Epoch 14 loss: 0.355667 --- positive triples processed: 6.97e+07\n",
                        "Epoch duration (sec): 1.64642 (average step time: 0.01512)\n",
                        "Epoch 15 loss: 0.355123 --- positive triples processed: 7.46e+07\n",
                        "Epoch duration (sec): 1.64033 (average step time: 0.01512)\n",
                        "Epoch 16 loss: 0.351044 --- positive triples processed: 7.96e+07\n",
                        "Epoch duration (sec): 1.63891 (average step time: 0.01511)\n",
                        "Epoch 17 loss: 0.350440 --- positive triples processed: 8.46e+07\n",
                        "Epoch duration (sec): 1.63386 (average step time: 0.01507)\n",
                        "Epoch 18 loss: 0.351676 --- positive triples processed: 8.96e+07\n",
                        "Epoch duration (sec): 1.63382 (average step time: 0.01507)\n",
                        "Epoch 19 loss: 0.351343 --- positive triples processed: 9.46e+07\n",
                        "Epoch duration (sec): 1.63209 (average step time: 0.01505)\n",
                        "Epoch 20 loss: 0.351067 --- positive triples processed: 9.95e+07\n",
                        "Epoch duration (sec): 1.64723 (average step time: 0.01519)\n",
                        "Epoch 21 loss: 0.352264 --- positive triples processed: 1.05e+08\n",
                        "Epoch duration (sec): 1.64162 (average step time: 0.01512)\n",
                        "Epoch 22 loss: 0.351381 --- positive triples processed: 1.09e+08\n",
                        "Epoch duration (sec): 1.63871 (average step time: 0.01511)\n",
                        "Epoch 23 loss: 0.350780 --- positive triples processed: 1.14e+08\n",
                        "Epoch duration (sec): 1.63756 (average step time: 0.01509)\n",
                        "Epoch 24 loss: 0.349812 --- positive triples processed: 1.19e+08\n",
                        "Epoch duration (sec): 1.63480 (average step time: 0.01505)\n",
                        "Epoch 25 loss: 0.350110 --- positive triples processed: 1.24e+08\n",
                        "Epoch duration (sec): 1.64080 (average step time: 0.01512)\n"
                    ]
                },
                {
                    "data": {
                        "image/png": "[encoded data removed]",
                        "text/plain": [
                            "<Figure size 640x480 with 1 Axes>"
                        ]
                    },
                    "metadata": {},
                    "output_type": "display_data"
                }
            ],
            "source": [
                "# Train for 25 epochs\n",
                "n_epochs = 25\n",
                "\n",
                "# Positive triples seen until now\n",
                "cumulative_triples = 0\n",
                "training_loss = []\n",
                "for ep in range(n_epochs):\n",
                "    ep_start_time = time.time()\n",
                "    ep_log = []\n",
                "    for batch in train_dl:\n",
                "        step_start_time = time.time()\n",
                "        # triple_mask is not used during training\n",
                "        triple_mask = batch.pop(\"triple_mask\")\n",
                "        cumulative_triples += triple_mask.numel()\n",
                "        res = poptorch_model(**{k: v.flatten(end_dim=1) for k, v in batch.items()})\n",
                "        # res[\"loss\"] contains the summed loss of elements in the last batch, for each IPU\n",
                "        ep_log.append(dict(loss=float(torch.sum(res[\"loss\"])) / triple_mask[-1].numel(), step_time=(time.time()-step_start_time)))\n",
                "    ep_loss = [v['loss'] for v in ep_log]\n",
                "    training_loss.extend([v['loss'] for v in ep_log])\n",
                "    print(f\"Epoch {ep+1} loss: {np.mean(ep_loss):.6f} --- positive triples processed: {cumulative_triples:.2e}\")\n",
                "    print(f\"Epoch duration (sec): {(time.time() - ep_start_time):.5f} (average step time: {np.mean([v['step_time'] for v in ep_log]):.5f})\")\n",
                "\n",
                "# Plot loss as a function of the number of positive triples processed\n",
                "total_triples = np.cumsum(n_epochs * len(train_dl) * [triple_mask.numel()])\n",
                "ax = plt.gca()\n",
                "ax.plot(total_triples, training_loss)\n",
                "ax.set_xscale(\"log\")\n",
                "ax.set_xlabel(\"Positive triples\")\n",
                "ax.set_ylabel(\"Loss\")\n",
                "\n",
                "poptorch_model.detachFromDevice()\n",
                "del train_dl"
            ]
        },
        {
            "attachments": {},
            "cell_type": "markdown",
            "metadata": {},
            "source": [
                "## Inference\n",
                "\n",
                "Let's see now how the trained model performs on the **validation** set. \n",
                "\n",
                "We create a new `PartitionedTripleSet` holding the validation triples. Differently from the training set, each validation triple has a specific set of 500 negative heads/tails to be scored against, hence we use the `TripleBasedShardedNegativeSampler` negative sampler class to sample exactly the negative entities needed by each triple. This means that we will not be using negative sample sharing any more.\n",
                "\n",
                "For the batch sampler, we again use the `RigidShardedBatchSampler` class, but we now set the option `duplicate_batch=True`. This means that the two halves of the micro-batch (where we corrupt heads and tails respectively) contain the same positive triples, so that we can score negative heads and negative tails with a single model."
            ]
        },
        {
            "cell_type": "code",
            "execution_count": 14,
            "metadata": {},
            "outputs": [
                {
                    "name": "stdout",
                    "output_type": "stream",
                    "text": [
                        "head            torch.Size([10, 4, 4, 60])          torch.int32;\n",
                        "relation        torch.Size([10, 4, 4, 60])          torch.int32;\n",
                        "tail            torch.Size([10, 4, 4, 60])          torch.int32;\n",
                        "triple_mask     torch.Size([10, 4, 4, 60])          torch.bool;\n",
                        "negative        torch.Size([10, 4, 4, 240, 172])    torch.int32;\n",
                        "negative_mask   torch.Size([10, 4, 240, 4, 172])    torch.bool;\n"
                    ]
                }
            ],
            "source": [
                "valid_triples = PartitionedTripleSet.create_from_dataset(dataset=biokg, part=\"valid\", sharding=sharding, partition_mode=\"ht_shardpair\")\n",
                "ns_valid = TripleBasedShardedNegativeSampler(negative_heads=valid_triples.neg_heads, negative_tails=valid_triples.neg_tails,\n",
                "                                             sharding=sharding, corruption_scheme=\"ht\", seed=seed)\n",
                "bs_valid = RigidShardedBatchSampler(partitioned_triple_set=valid_triples, negative_sampler=ns_valid, shard_bs=shard_bs, batches_per_step=10,\n",
                "                                    seed=seed, duplicate_batch=True)\n",
                "\n",
                "# Example batch\n",
                "idx_sampler = iter(bs_valid.get_dataloader_sampler(shuffle=False))\n",
                "for k,v in bs_valid[next(idx_sampler)].items():\n",
                "    print(f\"{k:<15} {str(v.shape):<35} {v.dtype};\")"
            ]
        },
        {
            "attachments": {},
            "cell_type": "markdown",
            "metadata": {},
            "source": [
                "We see that the `negative` tensor returned now by the dataloader has a trailing dimension of 172, meaning that each validation query is scored against `4*172` negative heads/tails, which is larger than 500. This is due to the fact that the triple-specific negatives are, in general, not equally split between the 4 shards, therefore some padding needs to be applied. `negative_mask` returned by the negative sampler is used to identify the padding negative entities, so that the corresponding scores can be filtered out when computing the metrics.\n",
                "\n",
                "We can now instantiate the inference model. We use the `besskge.metric.Evaluation` class to specify which **metrics** we want to compute and pass it to the BESS module. Here we look at Hits@K for K=1,5,10, giving us the percentage of the validation triples where the ground truth head/tail is among the K most-likely predictions made by the model, and the mean reciprocal rank (MRR). For all these metrics, **higher is better**. By specifying `reduction=\"sum\"` we reduce communication between host and device, by returning the summed values, over the elements in the same micro-batch, for each metric.\n",
                "\n",
                "We now use a different flavour of BESS compared to training, namely `ScoreMovingBessKGE`. This is recommended when the number of negative entities to be fetched from other devices is large, as it is typically the case when using `TripleBasedShardedNegativeSampler`. While `EmbeddingMovingBessKGE` sends the negative embeddings to the device where the positive triple is scored, `ScoreMovingBessKGE` fetches the queries with an AllGather and computes negative scores on the shard where the negative entities are stored, and then sends the scores back to the original device. This allows for communicating of scores instead of embeddings, which is usually cheaper, although it requires additional collective communications between devices. We encourage you to play with different configurations to see which one gives the shorter overall validation time."
            ]
        },
        {
            "cell_type": "code",
            "execution_count": 15,
            "metadata": {},
            "outputs": [
                {
                    "name": "stderr",
                    "output_type": "stream",
                    "text": [
                        "[09:54:14.815] [poptorch:cpp] [warning] [DISPATCHER] Type coerced from Long to Int for tensor id 435\n",
                        "[09:54:14.817] [poptorch:cpp] [warning] [DISPATCHER] Type coerced from Long to Int for tensor id 441\n",
                        "Graph compilation: 100%|██████████| 100/100 [00:53<00:00]\n"
                    ]
                }
            ],
            "source": [
                "# Each triple is now to be scored against a specific set of negatives, so we turn off negative sample sharing\n",
                "rotate_score_fn.negative_sample_sharing = False\n",
                "\n",
                "val_options = poptorch.Options()\n",
                "val_options.replication_factor = sharding.n_shard\n",
                "val_options.deviceIterations(bs_valid.batches_per_step)\n",
                "val_options.outputMode(poptorch.OutputMode.All)\n",
                "\n",
                "# Validation dataloader\n",
                "valid_dl = bs_valid.get_dataloader(options=val_options, shuffle=False)\n",
                "\n",
                "# With reduction=\"sum\" the returned res[\"metrics\"] has shape (batches_per_step * n_shard, n_metrics)\n",
                "evaluator = Evaluation([\"mrr\", \"hits@1\", \"hits@5\", \"hits@10\"], reduction=\"sum\")\n",
                "# BESS wrapper\n",
                "model_inf = ScoreMovingBessKGE(negative_sampler=ns_valid, score_fn=rotate_score_fn, evaluation=evaluator)\n",
                "\n",
                "# PopTorch wrapper\n",
                "poptorch_model_inf = poptorch.inferenceModel(model_inf, options=val_options)\n",
                "poptorch_model_inf.entity_embedding.replicaGrouping(\n",
                "            poptorch.CommGroupType.NoGrouping,\n",
                "            0,\n",
                "            poptorch.VariableRetrievalMode.OnePerGroup,\n",
                "        )\n",
                "\n",
                "# Compile model\n",
                "batch = next(iter(valid_dl))\n",
                "res = poptorch_model_inf(**{k: v.flatten(end_dim=1) for k, v in batch.items()})"
            ]
        },
        {
            "cell_type": "code",
            "execution_count": 16,
            "metadata": {},
            "outputs": [
                {
                    "name": "stdout",
                    "output_type": "stream",
                    "text": [
                        "hits@1 : 0.746998\n",
                        "hits@5 : 0.905811\n",
                        "hits@10 : 0.941649\n",
                        "mrr : 0.818204\n"
                    ]
                }
            ],
            "source": [
                "# Perform validation and print metrics\n",
                "\n",
                "val_log = []\n",
                "# The final value of n_val_queries will be twice the number of triples in the validation set\n",
                "# as each triple is scored against negative heads and negative tails separately\n",
                "n_val_queries = 0\n",
                "for batch_val in valid_dl:\n",
                "    res = poptorch_model_inf(**{k: v.flatten(end_dim=1) for k, v in batch_val.items()})\n",
                "    \n",
                "    n_val_queries += batch_val[\"triple_mask\"].sum()\n",
                "    # By transposing res[\"metrics\"] we separate the outputs for the different metrics\n",
                "    val_log.append({k: v.sum() for k, v in zip(\n",
                "                        evaluator.metrics.keys(),\n",
                "                        res[\"metrics\"].T,\n",
                "                    )})\n",
                "\n",
                "for metric in val_log[0].keys():\n",
                "    reduced_metric = sum([l[metric] for l in val_log]) / n_val_queries\n",
                "    print(\"%s : %f\" % (metric, reduced_metric))\n",
                "\n",
                "poptorch_model_inf.detachFromDevice()\n",
                "del valid_dl"
            ]
        },
        {
            "attachments": {},
            "cell_type": "markdown",
            "metadata": {},
            "source": [
                "## How many parameters does our model have?\n",
                "\n",
                "We can see how many parameters the model has:"
            ]
        },
        {
            "cell_type": "code",
            "execution_count": 17,
            "metadata": {},
            "outputs": [
                {
                    "name": "stdout",
                    "output_type": "stream",
                    "text": [
                        "# model parameters: 12,006,592\n"
                    ]
                }
            ],
            "source": [
                "# Equivalent to sum(p.numel() for p in model_inf.parameters()), as embeddings are the only trainable parameters\n",
                "print(f\"# model parameters: {model_inf.n_embedding_parameters:,}\")"
            ]
        },
        {
            "attachments": {},
            "cell_type": "markdown",
            "metadata": {},
            "source": [
                "Looking at the [OGB leaderboard](https://ogb.stanford.edu/docs/leader_linkprop/#ogbl-biokg) for the OGBL-BioKG dataset, the validation MRR we got is **very competitive even when compared against other classical shallow KGE models with 15 times more parameters** than we used. Not bad for a model we trained so quickly!"
            ]
        },
        {
            "attachments": {},
            "cell_type": "markdown",
            "metadata": {},
            "source": [
                "## Scaling analysis\n",
                "\n",
                "The OGBL-BioKG knowledge graph is small enough that we can actually train the model above (with same embedding size) on a single IPU. This allows us to get a better grasp on the advantages of distribution.\n",
                "\n",
                "In order to train on one IPU, we just need to set `n_shard = 1` when defining the `Sharding` of the entity table."
            ]
        },
        {
            "cell_type": "code",
            "execution_count": 18,
            "metadata": {},
            "outputs": [
                {
                    "name": "stdout",
                    "output_type": "stream",
                    "text": [
                        "Number of shards: 1\n",
                        "\n",
                        "Number of entities in each shard: 93773\n",
                        "\n",
                        "Number of triples per (h,t) shard-pair:\n",
                        " [[4762678]]\n"
                    ]
                }
            ],
            "source": [
                "n_shard = 1\n",
                "\n",
                "sharding = Sharding.create(n_entity=biokg.n_entity, n_shard=n_shard, seed=seed, type_offsets=np.fromiter(biokg.type_offsets.values(), dtype=np.int32))\n",
                "\n",
                "print(f\"Number of shards: {sharding.n_shard}\\n\")\n",
                "\n",
                "# All entities in the KG are now on a single shard\n",
                "print(f\"Number of entities in each shard: {sharding.max_entity_per_shard}\\n\")\n",
                "\n",
                "train_triples = PartitionedTripleSet.create_from_dataset(dataset=biokg, part=\"train\", sharding=sharding, partition_mode=\"ht_shardpair\")\n",
                "\n",
                "# There is now a single (h,t) shard-pair, containing all training triples \n",
                "print(f\"Number of triples per (h,t) shard-pair:\\n {train_triples.triple_counts}\")"
            ]
        },
        {
            "attachments": {},
            "cell_type": "markdown",
            "metadata": {},
            "source": [
                "As explained in the section [Negative and batch samplers](#negative-and-batch-samplers), in order to score each triple against the same number of negatives as before, we need to multiply `n_negative` by 4."
            ]
        },
        {
            "cell_type": "code",
            "execution_count": 19,
            "metadata": {},
            "outputs": [],
            "source": [
                "# Reducing the number of shards by a factor of 4, the number of negatives per triple per shard (i.e. n_negative) needs to increase by the same factor\n",
                "neg_sampler = RandomShardedNegativeSampler(n_negative=4, sharding=sharding, seed=seed, corruption_scheme=\"ht\",\n",
                "                                           local_sampling=False, flat_negative_format=False)"
            ]
        },
        {
            "attachments": {},
            "cell_type": "markdown",
            "metadata": {},
            "source": [
                "Similarly, since we maintain the same micro-batch size used before (to get a fair comparison using negative sample sharing), we multiply the accumulation factor by 4 so that the global batch size is the same."
            ]
        },
        {
            "cell_type": "code",
            "execution_count": 20,
            "metadata": {},
            "outputs": [
                {
                    "name": "stdout",
                    "output_type": "stream",
                    "text": [
                        "# triples per shard-pair per step: 240 \n",
                        "\n",
                        "head         torch.Size([192, 1, 1, 240])   torch.int32;\n",
                        "relation     torch.Size([192, 1, 1, 240])   torch.int32;\n",
                        "tail         torch.Size([192, 1, 1, 240])   torch.int32;\n",
                        "triple_mask  torch.Size([192, 1, 1, 240])   torch.bool;\n",
                        "negative     torch.Size([192, 1, 1, 240, 4]) torch.int32;\n"
                    ]
                }
            ],
            "source": [
                "device_iterations = 8\n",
                "accum_factor = 24\n",
                "shard_bs = 240\n",
                "\n",
                "batch_sampler = RigidShardedBatchSampler(partitioned_triple_set=train_triples, negative_sampler=neg_sampler,\n",
                "                              shard_bs=shard_bs, batches_per_step=device_iterations*accum_factor, seed=seed)\n",
                "\n",
                "\n",
                "print(f\"# triples per shard-pair per step: {batch_sampler.positive_per_partition} \\n\")\n",
                "\n",
                "# Example batch\n",
                "idx_sampler = iter(batch_sampler.get_dataloader_sampler(shuffle=True))\n",
                "for k,v in batch_sampler[next(idx_sampler)].items():\n",
                "    print(f\"{k:<12} {str(v.shape):<30} {v.dtype};\")"
            ]
        },
        {
            "attachments": {},
            "cell_type": "markdown",
            "metadata": {},
            "source": [
                "The dataloader and model are created exactly as before."
            ]
        },
        {
            "cell_type": "code",
            "execution_count": 21,
            "metadata": {},
            "outputs": [
                {
                    "name": "stderr",
                    "output_type": "stream",
                    "text": [
                        "Graph compilation: 100%|██████████| 100/100 [00:48<00:00]\n"
                    ]
                }
            ],
            "source": [
                "options = poptorch.Options()\n",
                "options.deviceIterations(device_iterations)\n",
                "options.Training.gradientAccumulation(accum_factor)\n",
                "\n",
                "train_dl = batch_sampler.get_dataloader(options=options, shuffle=True, num_workers=5, persistent_workers=True)\n",
                "\n",
                "logsigmoid_loss_fn = LogSigmoidLoss(margin=12.0, negative_adversarial_sampling=True)\n",
                "rotate_score_fn = RotatE(negative_sample_sharing=True, scoring_norm=1, sharding=sharding,\n",
                "                  n_relation_type=biokg.n_relation_type, embedding_size=64)\n",
                "\n",
                "model = EmbeddingMovingBessKGE(negative_sampler=neg_sampler, score_fn=rotate_score_fn,\n",
                "                               loss_fn=logsigmoid_loss_fn)\n",
                "\n",
                "opt = poptorch.optim.AdamW(\n",
                "        model.parameters(),\n",
                "        lr=0.001,\n",
                "    )\n",
                "\n",
                "poptorch_model = poptorch.trainingModel(model, options=options, optimizer=opt)\n",
                "poptorch_model.entity_embedding.replicaGrouping(\n",
                "            poptorch.CommGroupType.NoGrouping,\n",
                "            0,\n",
                "            poptorch.VariableRetrievalMode.OnePerGroup,\n",
                "        )\n",
                "\n",
                "\n",
                "# Compile model\n",
                "batch = next(iter(train_dl))\n",
                "_ = batch.pop(\"triple_mask\")\n",
                "res = poptorch_model(**{k: v.flatten(end_dim=1) for k, v in batch.items()})"
            ]
        },
        {
            "cell_type": "code",
            "execution_count": 22,
            "metadata": {},
            "outputs": [
                {
                    "name": "stdout",
                    "output_type": "stream",
                    "text": [
                        "Epoch 1 loss: 1.163840 --- positive triples processed: 4.79e+06\n",
                        "Epoch duration (sec): 5.82170 (average step time: 0.05055)\n",
                        "Epoch 2 loss: 0.507319 --- positive triples processed: 9.58e+06\n",
                        "Epoch duration (sec): 5.24277 (average step time: 0.05031)\n",
                        "Epoch 3 loss: 0.447497 --- positive triples processed: 1.44e+07\n",
                        "Epoch duration (sec): 5.24105 (average step time: 0.05033)\n",
                        "Epoch 4 loss: 0.407904 --- positive triples processed: 1.92e+07\n",
                        "Epoch duration (sec): 5.24417 (average step time: 0.05033)\n",
                        "Epoch 5 loss: 0.395906 --- positive triples processed: 2.40e+07\n",
                        "Epoch duration (sec): 5.23227 (average step time: 0.05025)\n",
                        "Epoch 6 loss: 0.372093 --- positive triples processed: 2.88e+07\n",
                        "Epoch duration (sec): 5.23252 (average step time: 0.05025)\n",
                        "Epoch 7 loss: 0.367683 --- positive triples processed: 3.35e+07\n",
                        "Epoch duration (sec): 5.25688 (average step time: 0.05048)\n",
                        "Epoch 8 loss: 0.370355 --- positive triples processed: 3.83e+07\n",
                        "Epoch duration (sec): 5.24375 (average step time: 0.05035)\n",
                        "Epoch 9 loss: 0.357917 --- positive triples processed: 4.31e+07\n",
                        "Epoch duration (sec): 5.24873 (average step time: 0.05040)\n",
                        "Epoch 10 loss: 0.362484 --- positive triples processed: 4.79e+07\n",
                        "Epoch duration (sec): 5.24854 (average step time: 0.05032)\n"
                    ]
                }
            ],
            "source": [
                "# Train for the first 10 epochs\n",
                "n_epochs = 10\n",
                "\n",
                "cumulative_triples = 0\n",
                "training_loss = []\n",
                "for ep in range(n_epochs):\n",
                "    ep_start_time = time.time()\n",
                "    ep_log = []\n",
                "    for batch in train_dl:\n",
                "        step_start_time = time.time()\n",
                "        triple_mask = batch.pop(\"triple_mask\")\n",
                "        cumulative_triples += triple_mask.numel()\n",
                "        res = poptorch_model(**{k: v.flatten(end_dim=1) for k, v in batch.items()})\n",
                "        ep_log.append(dict(loss=float(torch.sum(res[\"loss\"])) / triple_mask[-1].numel(), step_time=(time.time()-step_start_time)))\n",
                "    ep_loss = [v['loss'] for v in ep_log]\n",
                "    training_loss.extend([v['loss'] for v in ep_log])\n",
                "    print(f\"Epoch {ep+1} loss: {np.mean(ep_loss):.6f} --- positive triples processed: {cumulative_triples:.2e}\")\n",
                "    print(f\"Epoch duration (sec): {(time.time() - ep_start_time):.5f} (average step time: {np.mean([v['step_time'] for v in ep_log]):.5f})\")\n",
                "\n",
                "poptorch_model.detachFromDevice()\n",
                "del train_dl"
            ]
        },
        {
            "attachments": {},
            "cell_type": "markdown",
            "metadata": {},
            "source": [
                "By comparing the epoch durations, we see that **scaling from 1 to 4 IPUs speeds up training by a factor of ~3.2X**. This is actually a conservative estimate, because - as one can notice from the printouts - the number of triples processed at each epoch is larger when running on 4 IPUs, as a consequence of using `RigidShardedBatchSampler` (the number of positive triples seen during an epoch is determined by the number of triples in the largest shard-pair bucket)."
            ]
        },
        {
            "attachments": {},
            "cell_type": "markdown",
            "metadata": {},
            "source": [
                "## Conclusions and next steps\n",
                "\n",
                "To recap, these are the basic steps to run distributed training/inference with BESS-KGE:\n",
                "* wrap your knowledge graph dataset with `besskge.dataset.KGDataset`;\n",
                "* shard entities in the graph based on the number of IPUs you want to use, by using `besskge.sharding.Sharding`, and partition triples accordingly with `besskge.sharding.PartitionedTripleSet`;\n",
                "* select a negative sampler from `besskge.negative_sampler` to sample the entities used to corrupt positive triples;\n",
                "* use a batch sampler from `besskge.batch_sampler` to create the batch dataloader; \n",
                "* specify the scoring and loss function (see `besskge.scoring` and `besskge.loss`);\n",
                "* instantiate the distributed model with one of the subclasses of `besskge.bess.BessKGE`.\n",
                "\n",
                "You can easily modify this notebook to use different combinations of KGE models, embedding sizes and loss functions, change the number of negative samples or the sampling scheme (for instance, try training with `TypeBasedShardedNegativeSampler`).\n",
                "\n",
                "What next? If you are interested in using these models to complete queries when no candidate heads/tails are provided, have a look at the the [Knowledge Graph Completion on YAGO3-10](2_yago_topk_prediction.ipynb) notebook. For using FP16 embeddings to deal with larger graphs, look at the [FP16 embeddings on OGBL-WikiKG2](3_wikikg2_fp16.ipynb) notebook."
            ]
        }
    ],
    "metadata": {
        "kernelspec": {
            "display_name": ".venv_3.2",
            "language": "python",
            "name": "python3"
        },
        "language_info": {
            "codemirror_mode": {
                "name": "ipython",
                "version": 3
            },
            "file_extension": ".py",
            "mimetype": "text/x-python",
            "name": "python",
            "nbconvert_exporter": "python",
            "pygments_lexer": "ipython3",
            "version": "3.8.10"
        },
        "orig_nbformat": 4
    },
    "nbformat": 4,
    "nbformat_minor": 2
}
