{
   "cells": [
      {
         "attachments": {},
         "cell_type": "markdown",
         "metadata": {},
         "source": [
            "# Knowledge Graph Completion on YAGO3-10\n",
            "\n",
            "<em>Copyright (c) 2023 Graphcore Ltd. All rights reserved.</em>\n",
            "\n",
            "BESS-KGE (`besskge`) is a PyTorch library for knowledge graph embedding (KGE) models on IPUs implementing the distribution framework [BESS](https://arxiv.org/abs/2211.12281), with embedding tables stored in the IPU SRAM.\n",
            "\n",
            "In this notebook we will show how to use the BESS-KGE package to perform knowledge graph completion on the YAGO3-10 dataset, a subset of [YAGO3](https://yago-knowledge.org/downloads/yago-3) (Yet Another Great Ontology 3) containing only entities with at least ten relations associated to them.\n",
            "\n",
            "In particular, we will learn how to use the `TopKQueryBessKGE` BESS distribution scheme to efficiently score queries against all entities in the knowledge graph and retrieve the most likely triple completions. \n",
            "\n",
            "If you have not already done so, we suggest running the [KGE Training and Inference on OGBL-BioKG](1_biokg_training_inference.ipynb) notebook to get familiar with the basic functionalities of the BESS-KGE library."
         ]
      },
      {
         "attachments": {},
         "cell_type": "markdown",
         "metadata": {},
         "source": [
            "## Environment setup"
         ]
      },
      {
         "attachments": {},
         "cell_type": "markdown",
         "metadata": {},
         "source": [
            "The best way to run this demo is on Paperspace Gradient's cloud IPUs because everything is already set up for you.\n",
            "\n",
            "[![Run on Gradient](https://assets.paperspace.io/img/gradient-badge.svg)](https://console.paperspace.com/github/graphcore-research/bess-kge?container=graphcore%2Fpytorch-jupyter%3A3.2.0-ubuntu-20.04&machine=Free-IPU-POD4&file=%2Fnotebooks%2F2_yago_topk_prediction.ipynb)\n",
            "\n",
            "To run the demo using other IPU hardware, you need to have the Poplar SDK enabled and a PopTorch wheel installed. Refer to the [Getting Started guide](https://docs.graphcore.ai/en/latest/getting-started.html#getting-started) for your system for details on how to do this. Also refer to the [Jupyter Quick Start guide](https://docs.graphcore.ai/projects/jupyter-notebook-quick-start/en/latest/index.html) for how to set up Jupyter to be able to run this notebook on a remote IPU machine."
         ]
      },
      {
         "attachments": {},
         "cell_type": "markdown",
         "metadata": {},
         "source": [
            "## Dependencies"
         ]
      },
      {
         "attachments": {},
         "cell_type": "markdown",
         "metadata": {},
         "source": [
            "We recommend that you install `besskge` directly from the GitHub sources:"
         ]
      },
      {
         "cell_type": "code",
         "execution_count": 4,
         "metadata": {},
         "outputs": [
            {
               "name": "stdout",
               "output_type": "stream",
               "text": [
                  "Found existing installation: besskge 0.1\n",
                  "Uninstalling besskge-0.1:\n",
                  "  Successfully uninstalled besskge-0.1\n"
               ]
            }
         ],
         "source": [
            "import sys\n",
            "!{sys.executable} -m pip uninstall -y besskge\n",
            "!pip install -q git+ssh://git@github.com/graphcore-research/bess-kge.git\n",
            "\n",
            "!pip install -q matplotlib"
         ]
      },
      {
         "attachments": {},
         "cell_type": "markdown",
         "metadata": {},
         "source": [
            "Next, import the necessary dependencies. "
         ]
      },
      {
         "cell_type": "code",
         "execution_count": 2,
         "metadata": {},
         "outputs": [],
         "source": [
            "import os\n",
            "import pathlib\n",
            "import time\n",
            "\n",
            "import matplotlib.pyplot as plt\n",
            "import numpy as np\n",
            "import poptorch\n",
            "import torch\n",
            "\n",
            "from besskge.batch_sampler import RigidShardedBatchSampler\n",
            "from besskge.bess import EmbeddingMovingBessKGE, TopKQueryBessKGE\n",
            "from besskge.dataset import KGDataset\n",
            "from besskge.embedding import UniformInitializer\n",
            "from besskge.loss import LogSigmoidLoss\n",
            "from besskge.metric import Evaluation\n",
            "from besskge.negative_sampler import (\n",
            "    PlaceholderNegativeSampler,\n",
            "    RandomShardedNegativeSampler,\n",
            ")\n",
            "from besskge.scoring import ComplEx\n",
            "from besskge.sharding import PartitionedTripleSet, Sharding\n",
            "\n",
            "dataset_directory = os.getenv(\"DATASETS_DIR\", \"../datasets/\") + \"/yago310/\""
         ]
      },
      {
         "attachments": {},
         "cell_type": "markdown",
         "metadata": {},
         "source": [
            "## Entity sharding and triple partitioning\n",
            "\n",
            "Download and preprocess the dataset with the built-in method of `KGDataset`, `build_yago310`.\n",
            "\n",
            "You can use the `entity_dict` and `relation_dict` attributes of the `KGDataset` object to go from entity/relation IDs to labels."
         ]
      },
      {
         "cell_type": "code",
         "execution_count": 3,
         "metadata": {},
         "outputs": [
            {
               "name": "stdout",
               "output_type": "stream",
               "text": [
                  "Number of entities: 123,182\n",
                  "\n",
                  "Number of relation types: 37\n",
                  "\n",
                  "Number of triples: \n",
                  " training: 1,079,040 \n",
                  " validation/test: 5,000\n",
                  "\n",
                  "Example triple: ('Charles_VIII_of_France', 'isMarriedTo', 'Anne_of_Brittany')\n"
               ]
            }
         ],
         "source": [
            "yago = KGDataset.build_yago310(root=pathlib.Path(dataset_directory))\n",
            "\n",
            "print(f\"Number of entities: {yago.n_entity:,}\\n\")\n",
            "print(f\"Number of relation types: {yago.n_relation_type}\\n\")\n",
            "print(f\"Number of triples: \\n training: {yago.triples['train'].shape[0]:,} \\n validation/test: {yago.triples['validation'].shape[0]:,}\\n\")\n",
            "\n",
            "# Print example triple retrieving labels from yago.entity_dict and yago.relation_dict\n",
            "ex_triple_id = 2500\n",
            "ex_triple = yago.triples[\"train\"][ex_triple_id]\n",
            "print(f'Example triple: {yago.entity_dict[ex_triple[0]], yago.relation_dict[ex_triple[1]], yago.entity_dict[ex_triple[2]]}')"
         ]
      },
      {
         "attachments": {},
         "cell_type": "markdown",
         "metadata": {},
         "source": [
            "We want to train on 4 IPUs, so we construct a sharding of the entity table in 4 parts. The entity sharding induces a sharding of the triples into 4*4=16 shard-pairs, based on the shard of head and tail entities."
         ]
      },
      {
         "cell_type": "code",
         "execution_count": 25,
         "metadata": {},
         "outputs": [
            {
               "name": "stdout",
               "output_type": "stream",
               "text": [
                  "Global entity IDs on 4 shards:\n",
                  "[[     1      8     10 ... 123164 123168 123180]\n",
                  " [     2      3     12 ... 123176 123177 123182]\n",
                  " [     0      5      6 ... 123178 123181 123183]\n",
                  " [     4      7      9 ... 123170 123173 123179]]\n",
                  "\n",
                  "Reconstructed global entity IDs:\n",
                  "[     0      1      2 ... 123179 123180 123181]\n",
                  "\n",
                  "Number of triples per (h,t) shardpair:\n",
                  "[[63932 78665 63006 63365]\n",
                  " [64759 78965 62160 63102]\n",
                  " [64888 79640 63551 63680]\n",
                  " [64074 78649 63297 63307]]\n"
               ]
            }
         ],
         "source": [
            "seed = 12345\n",
            "n_shard = 4\n",
            "\n",
            "sharding = Sharding.create(yago.n_entity, n_shard=n_shard, seed=seed)\n",
            "print(f\"Global entity IDs on {n_shard} shards:\")\n",
            "print(sharding.shard_and_idx_to_entity)\n",
            "\n",
            "# The global entity IDs can be recovered, as a function of the shard ID and the local ID on the shard, by\n",
            "print(\"\\nReconstructed global entity IDs:\")\n",
            "print(sharding.shard_and_idx_to_entity[sharding.entity_to_shard, sharding.entity_to_idx])\n",
            "\n",
            "train_triples = PartitionedTripleSet.create_from_dataset(yago, \"train\", sharding)\n",
            "\n",
            "print(\"\\nNumber of triples per (h,t) shard-pair:\")\n",
            "print(train_triples.triple_counts)"
         ]
      },
      {
         "attachments": {},
         "cell_type": "markdown",
         "metadata": {},
         "source": [
            "To iterate over the sharded set of triples we use a batch sampler.\n",
            "At each step, `RigidShardedBatchSampler` consumes the same number of triples from all 16 shard-pairs\n",
            "(resampling from the shorter ones, until the longest one is completed).\n",
            "\n",
            "To sample negatives during training we use a negative sampler. \n",
            "`RandomShardedNegativeSampler` constructs, for each triple, negative samples by sampling random corrupted entities.\n",
            "\n",
            "See the [KGE Training and Inference on OGBL-BioKG](1_biokg_training_inference.ipynb) notebook for more details on the options for these class."
         ]
      },
      {
         "cell_type": "code",
         "execution_count": 26,
         "metadata": {},
         "outputs": [],
         "source": [
            "device_iterations = 20\n",
            "accum_factor = 2\n",
            "shard_bs = 720\n",
            "neg_sampler = RandomShardedNegativeSampler(n_negative=1, sharding=sharding, seed=seed, corruption_scheme=\"ht\",\n",
            "                                           local_sampling=False, flat_negative_format=False)\n",
            "bs = RigidShardedBatchSampler(partitioned_triple_set=train_triples, negative_sampler=neg_sampler, shard_bs=shard_bs,\n",
            "                              batches_per_step=device_iterations*accum_factor, seed=seed)"
         ]
      },
      {
         "cell_type": "code",
         "execution_count": 27,
         "metadata": {},
         "outputs": [
            {
               "name": "stdout",
               "output_type": "stream",
               "text": [
                  "head         torch.Size([40, 4, 4, 180])   \n",
                  "relation     torch.Size([40, 4, 4, 180])   \n",
                  "tail         torch.Size([40, 4, 4, 180])   \n",
                  "triple_mask  torch.Size([40, 4, 4, 180])   \n",
                  "negative     torch.Size([40, 4, 4, 720, 1])\n"
               ]
            }
         ],
         "source": [
            "options = poptorch.Options()\n",
            "options.replication_factor = sharding.n_shard\n",
            "options.deviceIterations(device_iterations)\n",
            "options.Training.gradientAccumulation(accum_factor)\n",
            "options._popart.setPatterns(dict(RemoveAllReducePattern=True))\n",
            "\n",
            "# Construct the dataloader with the dedicated utility function\n",
            "train_dl = bs.get_dataloader(options=options, shuffle=True, num_workers=5, persistent_workers=True)\n",
            "\n",
            "# Example batch\n",
            "batch = next(iter(train_dl))\n",
            "for k,v in batch.items():\n",
            "    print(f\"{k:<12} {str(v.shape):<30}\")"
         ]
      },
      {
         "attachments": {},
         "cell_type": "markdown",
         "metadata": {},
         "source": [
            "## Training\n",
            "\n",
            "Let's train the **ComplEx** KGE model with a real embedding size of 256 and the **logsigmoid** loss function, using the `EmbeddingMovingBessKGE` distribution scheme."
         ]
      },
      {
         "cell_type": "code",
         "execution_count": 28,
         "metadata": {},
         "outputs": [
            {
               "name": "stdout",
               "output_type": "stream",
               "text": [
                  "# model parameters: 31,544,576\n"
               ]
            }
         ],
         "source": [
            "loss_fn = LogSigmoidLoss(margin=12.0, negative_adversarial_sampling=True)\n",
            "emb_initializer = UniformInitializer(range_scale=loss_fn.margin)\n",
            "complex_score_fn = ComplEx(negative_sample_sharing=True, sharding=sharding, n_relation_type=yago.n_relation_type, embedding_size=256,\n",
            "                           entity_initializer=emb_initializer, relation_initializer=emb_initializer)\n",
            "model = EmbeddingMovingBessKGE(negative_sampler=neg_sampler, score_fn=complex_score_fn,\n",
            "                               loss_fn=loss_fn)\n",
            "\n",
            "print(f\"# model parameters: {model.n_embedding_parameters:,}\")"
         ]
      },
      {
         "attachments": {},
         "cell_type": "markdown",
         "metadata": {},
         "source": [
            "To follow training evolution, let us compute at regular intervals the MRR for tail prediction on a small random subset of 500 validation queries. Since no candidate tails are provided in this dataset, we score each query against all entities in the knowledge graph and select the top-10 candidate tails with largest scores. We then rank the ground truth tail among the ordered predictions. By setting `worst_rank_infty=True` in the `Evaluation` module, we assign a reciprocal rank of 0 (or a rank of infinity) if the ground truth is not among the top-10 predictions made by the model.\n",
            "\n",
            "As the number of entities in the knowledge graph is not so large, we can afford to score the queries on the CPU. To see how to speed up this task on IPUs (which is necessary on graphs with more entities, or when scoring a large number of queries), see the [Top-k inference on IPU](#top-k-inference-on-ipu) section."
         ]
      },
      {
         "cell_type": "code",
         "execution_count": 29,
         "metadata": {},
         "outputs": [],
         "source": [
            "def evaluate_mrr_cpu(triples, evaluation):\n",
            "    # Unshard entity embedding table\n",
            "    ent_table = complex_score_fn.entity_embedding.detach()[sharding.entity_to_shard, sharding.entity_to_idx]\n",
            "\n",
            "    # Score query (h,r,?) against all entities in the KG and select top-10 scores\n",
            "    scores = complex_score_fn.score_tails(ent_table[triples[:,0]], torch.from_numpy(triples[:,1]), ent_table.unsqueeze(0))\n",
            "    top_k = torch.topk(scores, dim=-1, k=10)\n",
            "\n",
            "    # Use evaluation.ranks_from_indices to rank the ground truth, if present, among the predictions\n",
            "    ranks = evaluation.ranks_from_indices(torch.from_numpy(triples[:,2]), top_k.indices.squeeze())\n",
            "    return {k: v / triples.shape[0] for k, v in evaluation.dict_metrics_from_ranks(ranks).items()}\n",
            "\n",
            "# Sample validation queries\n",
            "n_val_triples = 500\n",
            "val_triple_subset = yago.triples[\"validation\"][np.random.RandomState(seed=1000).choice(yago.triples[\"validation\"].shape[0], n_val_triples)]\n",
            "evaluation = Evaluation([\"mrr\"], worst_rank_infty=True, reduction=\"sum\")"
         ]
      },
      {
         "cell_type": "code",
         "execution_count": 30,
         "metadata": {},
         "outputs": [
            {
               "name": "stderr",
               "output_type": "stream",
               "text": [
                  "Graph compilation: 100%|██████████| 100/100 [00:50<00:00]\n",
                  "WARNING: The compile time engine option debug.branchRecordTile is set to \"5887\" when creating the Engine. (At compile-tile it was set to 1471)\n"
               ]
            }
         ],
         "source": [
            "opt = poptorch.optim.AdamW(\n",
            "        model.parameters(),\n",
            "        lr=0.0016,\n",
            "    )\n",
            "\n",
            "poptorch_model = poptorch.trainingModel(model, options=options, optimizer=opt)\n",
            "\n",
            "# The variable entity_embedding needs to hold different values on each replica,\n",
            "# corresponding to the shards of the entity embedding table\n",
            "poptorch_model.entity_embedding.replicaGrouping(\n",
            "            poptorch.CommGroupType.NoGrouping,\n",
            "            0,\n",
            "            poptorch.VariableRetrievalMode.OnePerGroup,\n",
            "        )\n",
            "\n",
            "# Graph compilation\n",
            "_ = batch.pop(\"triple_mask\")\n",
            "res = poptorch_model(**{k: v.flatten(end_dim=1) for k, v in batch.items()})"
         ]
      },
      {
         "cell_type": "code",
         "execution_count": 31,
         "metadata": {},
         "outputs": [
            {
               "name": "stdout",
               "output_type": "stream",
               "text": [
                  "Epoch 1 loss: 4.622566 --- positive triples processed: 1.38e+06\n",
                  "Epoch duration (sec): 0.56459 (average step time: 0.03960)\n",
                  "Epoch 1 sample MRR: 0.0000\n",
                  "Epoch 2 loss: 0.956011 --- positive triples processed: 2.76e+06\n",
                  "Epoch duration (sec): 0.47981 (average step time: 0.03980)\n",
                  "Epoch 3 loss: 0.696935 --- positive triples processed: 4.15e+06\n",
                  "Epoch duration (sec): 0.47952 (average step time: 0.03972)\n",
                  "Epoch 4 loss: 0.603859 --- positive triples processed: 5.53e+06\n",
                  "Epoch duration (sec): 0.47865 (average step time: 0.03976)\n",
                  "Epoch 5 loss: 0.557159 --- positive triples processed: 6.91e+06\n",
                  "Epoch duration (sec): 0.47351 (average step time: 0.03934)\n",
                  "Epoch 6 loss: 0.562111 --- positive triples processed: 8.29e+06\n",
                  "Epoch duration (sec): 0.47635 (average step time: 0.03956)\n",
                  "Epoch 6 sample MRR: 0.1083\n",
                  "Epoch 7 loss: 0.582361 --- positive triples processed: 9.68e+06\n",
                  "Epoch duration (sec): 0.48487 (average step time: 0.04021)\n",
                  "Epoch 8 loss: 0.604191 --- positive triples processed: 1.11e+07\n",
                  "Epoch duration (sec): 0.47278 (average step time: 0.03923)\n",
                  "Epoch 9 loss: 0.627821 --- positive triples processed: 1.24e+07\n",
                  "Epoch duration (sec): 0.47780 (average step time: 0.03967)\n",
                  "Epoch 10 loss: 0.635807 --- positive triples processed: 1.38e+07\n",
                  "Epoch duration (sec): 0.47951 (average step time: 0.03978)\n",
                  "Epoch 11 loss: 0.652396 --- positive triples processed: 1.52e+07\n",
                  "Epoch duration (sec): 0.47608 (average step time: 0.03953)\n",
                  "Epoch 11 sample MRR: 0.1642\n",
                  "Epoch 12 loss: 0.661149 --- positive triples processed: 1.66e+07\n",
                  "Epoch duration (sec): 0.48124 (average step time: 0.03996)\n",
                  "Epoch 13 loss: 0.667539 --- positive triples processed: 1.80e+07\n",
                  "Epoch duration (sec): 0.47767 (average step time: 0.03965)\n",
                  "Epoch 14 loss: 0.673588 --- positive triples processed: 1.94e+07\n",
                  "Epoch duration (sec): 0.48100 (average step time: 0.03978)\n",
                  "Epoch 15 loss: 0.681469 --- positive triples processed: 2.07e+07\n",
                  "Epoch duration (sec): 0.47823 (average step time: 0.03967)\n",
                  "Epoch 16 loss: 0.686364 --- positive triples processed: 2.21e+07\n",
                  "Epoch duration (sec): 0.48413 (average step time: 0.04023)\n",
                  "Epoch 16 sample MRR: 0.1750\n",
                  "Epoch 17 loss: 0.692850 --- positive triples processed: 2.35e+07\n",
                  "Epoch duration (sec): 0.47894 (average step time: 0.03981)\n",
                  "Epoch 18 loss: 0.697018 --- positive triples processed: 2.49e+07\n",
                  "Epoch duration (sec): 0.47116 (average step time: 0.03915)\n",
                  "Epoch 19 loss: 0.709093 --- positive triples processed: 2.63e+07\n",
                  "Epoch duration (sec): 0.47546 (average step time: 0.03951)\n",
                  "Epoch 20 loss: 0.706840 --- positive triples processed: 2.76e+07\n",
                  "Epoch duration (sec): 0.47236 (average step time: 0.03924)\n",
                  "Epoch 21 loss: 0.711967 --- positive triples processed: 2.90e+07\n",
                  "Epoch duration (sec): 0.47617 (average step time: 0.03956)\n",
                  "Epoch 21 sample MRR: 0.1753\n",
                  "Epoch 22 loss: 0.713204 --- positive triples processed: 3.04e+07\n",
                  "Epoch duration (sec): 0.47657 (average step time: 0.03960)\n",
                  "Epoch 23 loss: 0.713271 --- positive triples processed: 3.18e+07\n",
                  "Epoch duration (sec): 0.47421 (average step time: 0.03939)\n",
                  "Epoch 24 loss: 0.711353 --- positive triples processed: 3.32e+07\n",
                  "Epoch duration (sec): 0.47535 (average step time: 0.03950)\n",
                  "Epoch 25 loss: 0.710900 --- positive triples processed: 3.46e+07\n",
                  "Epoch duration (sec): 0.47128 (average step time: 0.03914)\n",
                  "Final sample MRR: 0.1808\n"
               ]
            },
            {
               "data": {
                  "image/png": "[encoded data removed]",
                  "text/plain": [
                     "<Figure size 640x480 with 2 Axes>"
                  ]
               },
               "metadata": {},
               "output_type": "display_data"
            }
         ],
         "source": [
            "# Train on IPU with interleaved validation on CPU\n",
            "\n",
            "n_epochs = 25\n",
            "val_ep_interval = 5\n",
            "\n",
            "cumulative_triples = 0\n",
            "training_loss = []\n",
            "val_mrr = []\n",
            "for ep in range(n_epochs):\n",
            "    ep_start_time = time.time()\n",
            "    ep_log = []\n",
            "    for batch in train_dl:\n",
            "        step_start_time = time.time()\n",
            "        triple_mask = batch.pop(\"triple_mask\")\n",
            "        cumulative_triples += triple_mask.numel()\n",
            "        res = poptorch_model(**{k: v.flatten(end_dim=1) for k, v in batch.items()})\n",
            "        ep_log.append(dict(loss=float(torch.sum(res[\"loss\"])) / triple_mask[-1].numel(), step_time=(time.time()-step_start_time)))\n",
            "    ep_loss = [v['loss'] for v in ep_log]\n",
            "    training_loss.extend([v['loss'] for v in ep_log])\n",
            "    print(f\"Epoch {ep+1} loss: {np.mean(ep_loss):.6f} --- positive triples processed: {cumulative_triples:.2e}\")\n",
            "    print(f\"Epoch duration (sec): {(time.time() - ep_start_time):.5f} (average step time: {np.mean([v['step_time'] for v in ep_log]):.5f})\")\n",
            "    if ep % val_ep_interval == 0:\n",
            "        ep_mrr = evaluate_mrr_cpu(val_triple_subset, evaluation)[\"mrr\"]\n",
            "        val_mrr.append(ep_mrr)\n",
            "        print(f\"Epoch {ep+1} sample MRR: {ep_mrr:.4f}\")\n",
            "ep_mrr = evaluate_mrr_cpu(val_triple_subset, evaluation)[\"mrr\"]\n",
            "val_mrr.append(ep_mrr)\n",
            "print(f\"Final sample MRR: {ep_mrr:.4f}\")\n",
            "\n",
            "# Plot loss and sample MRR as a function of the number of positive triples processed\n",
            "total_triples = np.cumsum(n_epochs * len(train_dl) * [triple_mask.numel()])\n",
            "ax0, ax1 = plt.gca(), plt.twinx()\n",
            "line0, = ax0.plot(total_triples, training_loss)\n",
            "line1, = ax1.plot(np.concatenate([total_triples[::val_ep_interval * len(train_dl)], total_triples[-1:]]),\n",
            "                  val_mrr, color=\"r\")\n",
            "ax0.set_xlabel(\"Positive triples\")\n",
            "ax0.set_ylabel(\"Loss\")\n",
            "ax1.set_ylabel(\"Sample MRR\")\n",
            "plt.legend([line0, line1], [\"Loss\", \"MRR\"])\n",
            "\n",
            "poptorch_model.detachFromDevice()\n",
            "del train_dl"
         ]
      },
      {
         "attachments": {},
         "cell_type": "markdown",
         "metadata": {},
         "source": [
            "The fact that we are seeing lower metric values compared to the [KGE Training and Inference on OGBL-BioKG](1_biokg_training_inference.ipynb) case study is not surprising, as we are now making predictions choosing from all 123k+ entities in the knowledge graph, while for OGB-BioKG we only had to rank the ground truth against a small set of 500 candidate heads/tails."
         ]
      },
      {
         "attachments": {},
         "cell_type": "markdown",
         "metadata": {},
         "source": [
            "## Top-k inference on IPU\n",
            "\n",
            "On the IPU we use the BESS `TopKQueryBessKGE` distribution scheme to predict, for each validation query, the top-k most likely tails among all the entities in the knowledge graph. Since there are no specific tail candidates to sample, our dataloader does not need to pass negative indices to the IPUs. We therefore use the `PlaceholderNegativeSampler` class.\n",
            "\n",
            "When using `TopKQueryBessKGE` we partition triples based just on the shard of the head entity (or the tail entity, if we wanted to predict heads), specifying `partition_mode='h_shard'` when constructing the `PartitionedTripleSet`.\n",
            "\n",
            "Since we want to inspect the predictions made by the model, we ask the dataloader to return the indices (with respect to the ordered list `validation_triples.triples`) of the triples in the batches, by setting the flag `return_triple_idx=True` when creating the `RigidShardedBatchSampler` batch sampler."
         ]
      },
      {
         "cell_type": "code",
         "execution_count": 32,
         "metadata": {},
         "outputs": [
            {
               "name": "stdout",
               "output_type": "stream",
               "text": [
                  "Number of triples per h_shard:\n",
                  "[1254 1226 1248 1272]\n"
               ]
            }
         ],
         "source": [
            "device_iterations = 1\n",
            "shard_bs = 1440\n",
            "\n",
            "validation_triples = PartitionedTripleSet.create_from_dataset(yago, \"validation\", sharding, partition_mode=\"h_shard\")\n",
            "candidate_sampler = PlaceholderNegativeSampler(corruption_scheme=\"t\", seed=seed)\n",
            "bs_valid = RigidShardedBatchSampler(partitioned_triple_set=validation_triples, negative_sampler=candidate_sampler, shard_bs=shard_bs, batches_per_step=device_iterations,\n",
            "                                    seed=seed, duplicate_batch=False, return_triple_idx=True)\n",
            "\n",
            "print(\"Number of triples per h_shard:\")\n",
            "print(validation_triples.triple_counts)"
         ]
      },
      {
         "cell_type": "code",
         "execution_count": 33,
         "metadata": {},
         "outputs": [
            {
               "name": "stdout",
               "output_type": "stream",
               "text": [
                  "head         torch.Size([1, 4, 1440])      \n",
                  "relation     torch.Size([1, 4, 1440])      \n",
                  "tail         torch.Size([1, 4, 1440])      \n",
                  "triple_mask  torch.Size([1, 4, 1440])      \n",
                  "triple_idx   torch.Size([1, 4, 1440])      \n"
               ]
            }
         ],
         "source": [
            "val_options = poptorch.Options()\n",
            "val_options.replication_factor = sharding.n_shard\n",
            "val_options.deviceIterations(bs_valid.batches_per_step)\n",
            "val_options.outputMode(poptorch.OutputMode.All)\n",
            "\n",
            "valid_dl = bs_valid.get_dataloader(options=val_options, shuffle=False, num_workers=5, persistent_workers=True)\n",
            "\n",
            "# Example batch\n",
            "batch = next(iter(valid_dl))\n",
            "for k,v in batch.items():\n",
            "    print(f\"{k:<12} {str(v.shape):<30}\")"
         ]
      },
      {
         "attachments": {},
         "cell_type": "markdown",
         "metadata": {},
         "source": [
            "As explained above, `triple_idx` contains the indices of the triple in the batch.  \n",
            "\n",
            "Notice that, when constructing the partitioned triple set with `partition_mode='h_shard'`, the tensor `head` will contain the **local** entity IDs in the corresponding shard, while `tail` contains the **global** IDs of the ground truth tails:"
         ]
      },
      {
         "cell_type": "code",
         "execution_count": 34,
         "metadata": {},
         "outputs": [
            {
               "data": {
                  "text/plain": [
                     "True"
                  ]
               },
               "execution_count": 34,
               "metadata": {},
               "output_type": "execute_result"
            }
         ],
         "source": [
            "# Put original validation triple in the same order as validation_triples.triples\n",
            "triple_sorted = yago.triples[\"validation\"][validation_triples.triple_sort_idx]\n",
            "# Pass from global IDs to local IDs just for the heads\n",
            "triple_sorted[:,0] = sharding.entity_to_idx[triple_sorted[:,0]]\n",
            "# Compare with validation_triples.triples\n",
            "np.all(triple_sorted == validation_triples.triples)"
         ]
      },
      {
         "attachments": {},
         "cell_type": "markdown",
         "metadata": {},
         "source": [
            "Let us now compile the `TopKQueryBessKGE` inference model. The parameter `window_size` represents the size of the **sliding window** used to score the queries in the batch against all candidate tails stored on the processing IPU. An **on-device loop** scores the queries in the batch against `window_size` entities in the knowledge graph at each iteration, and the results are used to update the list of the $k$ highest-scoring tails seen until that moment. As the `window_size` parameter determines the number of loop iterations, it should be tweaked together with the micro-batch size to optimize memory utilization."
         ]
      },
      {
         "cell_type": "code",
         "execution_count": 35,
         "metadata": {},
         "outputs": [
            {
               "name": "stderr",
               "output_type": "stream",
               "text": [
                  "[15:51:40.049] [poptorch:cpp] [warning] [DISPATCHER] Type coerced from Long to Int for tensor id 851\n",
                  "[15:51:40.086] [poptorch:cpp] [warning] [DISPATCHER] Type coerced from Long to Int for tensor id 908\n",
                  "[15:51:40.090] [poptorch:cpp] [warning] [DISPATCHER] Type coerced from Long to Int for tensor id 931\n",
                  "Graph compilation: 100%|██████████| 100/100 [00:56<00:00]\n",
                  "WARNING: The compile time engine option debug.branchRecordTile is set to \"5887\" when creating the Engine. (At compile-tile it was set to 1471)\n"
               ]
            }
         ],
         "source": [
            "evaluation = Evaluation([\"mrr\", \"hits@3\", \"hits@10\"], worst_rank_infty=True, reduction=\"sum\")\n",
            "inf_model = TopKQueryBessKGE(k=10, candidate_sampler=candidate_sampler, score_fn=complex_score_fn, evaluation=evaluation, window_size=500)\n",
            "\n",
            "poptorch_inf_model = poptorch.inferenceModel(inf_model, options=val_options)\n",
            "\n",
            "poptorch_inf_model.entity_embedding.replicaGrouping(\n",
            "            poptorch.CommGroupType.NoGrouping,\n",
            "            0,\n",
            "            poptorch.VariableRetrievalMode.OnePerGroup,\n",
            "        )\n",
            "\n",
            "_ = batch.pop(\"triple_idx\")\n",
            "res = poptorch_inf_model(**{k: v.flatten(end_dim=1) for k, v in batch.items()})"
         ]
      },
      {
         "attachments": {},
         "cell_type": "markdown",
         "metadata": {},
         "source": [
            "Iterate over the validation set to compute the predictions and the corresponding metrics."
         ]
      },
      {
         "cell_type": "code",
         "execution_count": 36,
         "metadata": {},
         "outputs": [
            {
               "name": "stdout",
               "output_type": "stream",
               "text": [
                  "Validation time (sec): 0.02239\n",
                  "\n",
                  "hits@3 : 0.209200\n",
                  "hits@10 : 0.574800\n",
                  "mrr : 0.207833\n"
               ]
            }
         ],
         "source": [
            "val_log = []\n",
            "start_time = time.time()\n",
            "n_val_queries = 0\n",
            "for batch_val in valid_dl:\n",
            "    triple_idx = batch_val.pop(\"triple_idx\")\n",
            "    step_start_time = time.time()\n",
            "    # triple_mask is now passed to the model to filter out the metrics of padding triples\n",
            "    res = poptorch_inf_model(**{k: v.flatten(end_dim=1) for k, v in batch_val.items()})\n",
            "    n_val_queries += batch_val[\"triple_mask\"].sum()\n",
            "    val_log.append({k: v.sum() for k, v in zip(\n",
            "                        evaluation.metrics.keys(),\n",
            "                        res[\"metrics\"].T,\n",
            "                    )})\n",
            "\n",
            "print(f\"Validation time (sec): {(time.time() - start_time):.5f}\\n\")\n",
            "\n",
            "for metric in val_log[0].keys():\n",
            "    reduced_metric = sum([l[metric] for l in val_log]) / n_val_queries\n",
            "    print(\"%s : %f\" % (metric, reduced_metric))\n",
            "\n",
            "poptorch_inf_model.detachFromDevice()\n",
            "del valid_dl"
         ]
      },
      {
         "attachments": {},
         "cell_type": "markdown",
         "metadata": {},
         "source": [
            "Let us check the results (and compare the validation time) against the CPU function defined earlier:"
         ]
      },
      {
         "cell_type": "code",
         "execution_count": 37,
         "metadata": {},
         "outputs": [
            {
               "name": "stdout",
               "output_type": "stream",
               "text": [
                  "CPU Validation time (sec): 0.74267\n",
                  "\n",
                  "CPU validation MRR: 0.207833\n"
               ]
            }
         ],
         "source": [
            "start_time = time.time()\n",
            "cpu_res = evaluate_mrr_cpu(yago.triples[\"validation\"], evaluation)\n",
            "\n",
            "print(f\"CPU Validation time (sec): {(time.time() - start_time):.5f}\\n\")\n",
            "print(f\"CPU validation MRR: {cpu_res['mrr']:.6f}\")"
         ]
      },
      {
         "attachments": {},
         "cell_type": "markdown",
         "metadata": {},
         "source": [
            "Now, we can have a look at some of the predictions made by the model:"
         ]
      },
      {
         "cell_type": "code",
         "execution_count": 38,
         "metadata": {},
         "outputs": [
            {
               "name": "stdout",
               "output_type": "stream",
               "text": [
                  "Example query: (Yermy_Hernández, playsFor, ?)\n",
                  "\n",
                  "Correct tail: Comayagua_F.C.\n",
                  "\n",
                  "10 most likely predicted tails:\n",
                  "1) Heredia_Jaguares_de_Peten\n",
                  "2) Platense_F.C.\n",
                  "3) C.D._Victoria\n",
                  "4) Real_C.D._España\n",
                  "5) Honduras_national_football_team\n",
                  "6) Comayagua_F.C.   <-----\n",
                  "7) C.D._Motagua\n",
                  "8) Club_Deportivo_Necaxa\n",
                  "9) Honduras_national_under-17_football_team\n",
                  "10) C.D._Marathón\n",
                  "\n",
                  "\n",
                  "Example query: (Éric_Woerth, isAffiliatedTo, ?)\n",
                  "\n",
                  "Correct tail: Union_for_a_Popular_Movement\n",
                  "\n",
                  "10 most likely predicted tails:\n",
                  "1) Rally_for_the_Republic\n",
                  "2) Union_for_a_Popular_Movement   <-----\n",
                  "3) Republican_Party_(United_States)\n",
                  "4) AEK_Larnaca_F.C.\n",
                  "5) Willem_II_(football_club)\n",
                  "6) F.C._Shakhtar_Donetsk\n",
                  "7) Denmark_national_football_team\n",
                  "8) Sparta_Rotterdam\n",
                  "9) Feyenoord\n",
                  "10) Los_Angeles_Kings\n",
                  "\n",
                  "\n"
               ]
            }
         ],
         "source": [
            "def check_prediction(val_triple_id):\n",
            "    # Recover the non-padding triples seen in the last batch using triple_idx and triple_mask\n",
            "    triples = yago.triples[\"validation\"][validation_triples.triple_sort_idx][triple_idx[batch_val[\"triple_mask\"]]]\n",
            "    h,r,t = triples[val_triple_id]\n",
            "    # res[\"topk_global_id\"] contains the top-10 tails predicted by the KGE model\n",
            "    top10_t = res[\"topk_global_id\"][batch_val[\"triple_mask\"].flatten()][val_triple_id]\n",
            "    \n",
            "    print(f'Example query: ({yago.entity_dict[h]}, {yago.relation_dict[r]}, ?)\\n')\n",
            "    print(f\"Correct tail: {yago.entity_dict[t]}\\n\")\n",
            "    print(f\"10 most likely predicted tails:\")\n",
            "    for i, pt in enumerate(top10_t):\n",
            "        print(f\"{i+1}) {yago.entity_dict[pt]}\" + (\"   <-----\" if pt == t else \"\"))\n",
            "    print(\"\\n\")\n",
            "\n",
            "check_prediction(2000)\n",
            "check_prediction(3000)"
         ]
      },
      {
         "attachments": {},
         "cell_type": "markdown",
         "metadata": {},
         "source": [
            "## Scaling analysis\n",
            "\n",
            "What speed-up did we achieve for top-k inference by using 4 IPUs, compared to running on a single chip? To measure that, we first change the number of shards of the model we trained as follows:"
         ]
      },
      {
         "cell_type": "code",
         "execution_count": 44,
         "metadata": {},
         "outputs": [
            {
               "name": "stdout",
               "output_type": "stream",
               "text": [
                  "Current embedding table (4 shards): torch.Size([4, 30796, 256])\n",
                  "Refactored embedding table (1 shard): torch.Size([1, 123182, 256])\n"
               ]
            }
         ],
         "source": [
            "# complex_score_fn.entity_embedding has shape [n_shard, max_entity_per_shard, embedding_size]\n",
            "\n",
            "print(f\"Current embedding table ({sharding.n_shard} shards): {complex_score_fn.entity_embedding.shape}\")\n",
            "\n",
            "# New entity sharding with a single shard - to use on 1 IPU\n",
            "new_val_sharding = Sharding.create(yago.n_entity, n_shard=1, seed=seed)\n",
            "\n",
            "# Update sharding of embedding tables, stored in the scoring function\n",
            "complex_score_fn.update_sharding(new_sharding=new_val_sharding)\n",
            "\n",
            "print(f\"Refactored embedding table (1 shard): {complex_score_fn.entity_embedding.shape}\")"
         ]
      },
      {
         "attachments": {},
         "cell_type": "markdown",
         "metadata": {},
         "source": [
            "Then we re-instantiate the dataloader and PopTorch model exactly as before:"
         ]
      },
      {
         "cell_type": "code",
         "execution_count": 40,
         "metadata": {},
         "outputs": [
            {
               "name": "stdout",
               "output_type": "stream",
               "text": [
                  "Number of triples per h_shard:\n",
                  "[5000]\n",
                  "Example batch:\n",
                  "head         torch.Size([4, 1, 1440])      \n",
                  "relation     torch.Size([4, 1, 1440])      \n",
                  "tail         torch.Size([4, 1, 1440])      \n",
                  "triple_mask  torch.Size([4, 1, 1440])      \n",
                  "triple_idx   torch.Size([4, 1, 1440])      \n"
               ]
            }
         ],
         "source": [
            "# Multiply device_iterations by 4 and keep same shard batch size as before\n",
            "device_iterations = 4\n",
            "shard_bs = 1440\n",
            "\n",
            "validation_triples = PartitionedTripleSet.create_from_dataset(yago, \"validation\", new_val_sharding, partition_mode=\"h_shard\")\n",
            "bs_valid = RigidShardedBatchSampler(partitioned_triple_set=validation_triples, negative_sampler=candidate_sampler, shard_bs=shard_bs, batches_per_step=device_iterations,\n",
            "                                    seed=seed, duplicate_batch=False, return_triple_idx=True)\n",
            "\n",
            "print(\"Number of triples per h_shard:\")\n",
            "print(validation_triples.triple_counts)\n",
            "\n",
            "val_options = poptorch.Options()\n",
            "val_options.replication_factor = new_val_sharding.n_shard\n",
            "val_options.deviceIterations(bs_valid.batches_per_step)\n",
            "val_options.outputMode(poptorch.OutputMode.All)\n",
            "\n",
            "valid_dl = bs_valid.get_dataloader(options=val_options, shuffle=False, num_workers=5, persistent_workers=True)\n",
            "\n",
            "print(\"Example batch:\")\n",
            "batch = next(iter(valid_dl))\n",
            "for k,v in batch.items():\n",
            "    print(f\"{k:<12} {str(v.shape):<30}\")"
         ]
      },
      {
         "cell_type": "code",
         "execution_count": 41,
         "metadata": {},
         "outputs": [
            {
               "name": "stderr",
               "output_type": "stream",
               "text": [
                  "[15:52:54.458] [poptorch:cpp] [warning] [DISPATCHER] Type coerced from Long to Int for tensor id 1062\n",
                  "[15:52:54.482] [poptorch:cpp] [warning] [DISPATCHER] Type coerced from Long to Int for tensor id 1119\n",
                  "[15:52:54.485] [poptorch:cpp] [warning] [DISPATCHER] Type coerced from Long to Int for tensor id 1142\n",
                  "Graph compilation: 100%|██████████| 100/100 [01:33<00:00]\n"
               ]
            },
            {
               "name": "stdout",
               "output_type": "stream",
               "text": [
                  "Validation time (sec): 0.12186\n",
                  "\n",
                  "hits@3 : 0.209200\n",
                  "hits@10 : 0.574800\n",
                  "mrr : 0.207833\n"
               ]
            }
         ],
         "source": [
            "inf_model = TopKQueryBessKGE(k=10, candidate_sampler=candidate_sampler, score_fn=complex_score_fn, evaluation=evaluation, window_size=500)\n",
            "\n",
            "poptorch_inf_model = poptorch.inferenceModel(inf_model, options=val_options)\n",
            "\n",
            "poptorch_inf_model.entity_embedding.replicaGrouping(\n",
            "            poptorch.CommGroupType.NoGrouping,\n",
            "            0,\n",
            "            poptorch.VariableRetrievalMode.OnePerGroup,\n",
            "        )\n",
            "\n",
            "# Compile model\n",
            "_ = batch.pop(\"triple_idx\")\n",
            "res = poptorch_inf_model(**{k: v.flatten(end_dim=1) for k, v in batch.items()})\n",
            "\n",
            "# Run inference\n",
            "val_log = []\n",
            "start_time = time.time()\n",
            "n_val_queries = 0\n",
            "for batch_val in valid_dl:\n",
            "    triple_idx = batch_val.pop(\"triple_idx\")\n",
            "    step_start_time = time.time()\n",
            "    res = poptorch_inf_model(**{k: v.flatten(end_dim=1) for k, v in batch_val.items()})\n",
            "    \n",
            "    n_val_queries += batch_val[\"triple_mask\"].sum()\n",
            "    val_log.append({k: v.sum() for k, v in zip(\n",
            "                        evaluation.metrics.keys(),\n",
            "                        res[\"metrics\"].T,\n",
            "                    )})\n",
            "\n",
            "print(f\"Validation time (sec): {(time.time() - start_time):.5f}\\n\")\n",
            "\n",
            "for metric in val_log[0].keys():\n",
            "    reduced_metric = sum([l[metric] for l in val_log]) / n_val_queries\n",
            "    print(\"%s : %f\" % (metric, reduced_metric))\n",
            "\n",
            "poptorch_inf_model.detachFromDevice()\n",
            "del valid_dl"
         ]
      },
      {
         "attachments": {},
         "cell_type": "markdown",
         "metadata": {},
         "source": [
            "By comparing the validation time, we see that **by moving from 1 IPU to 4 IPUs we speed up inference by a factor of >5X**. This more than linear speed-up is explained by the fact that, on top of the usual advantages offered by data parallelism, when using multiple IPUs each of them needs to score queries only against the set of entities stored in its memory, which is a smaller and smaller fraction of the total number of entities the more IPUs are used."
         ]
      }
   ],
   "metadata": {
      "kernelspec": {
         "display_name": ".venv",
         "language": "python",
         "name": "python3"
      },
      "language_info": {
         "codemirror_mode": {
            "name": "ipython",
            "version": 3
         },
         "file_extension": ".py",
         "mimetype": "text/x-python",
         "name": "python",
         "nbconvert_exporter": "python",
         "pygments_lexer": "ipython3",
         "version": "3.8.10"
      },
      "orig_nbformat": 4
   },
   "nbformat": 4,
   "nbformat_minor": 2
}
